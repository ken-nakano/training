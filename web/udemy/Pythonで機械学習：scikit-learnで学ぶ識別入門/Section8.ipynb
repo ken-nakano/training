{
 "cells": [
  {
   "cell_type": "markdown",
   "metadata": {},
   "source": [
    "# グリッドサーチ：1パラメータのロジスティック回帰"
   ]
  },
  {
   "cell_type": "code",
   "execution_count": 1,
   "metadata": {
    "collapsed": true
   },
   "outputs": [],
   "source": [
    "import numpy as np\n",
    "import matplotlib.pyplot as plt\n",
    "%matplotlib inline"
   ]
  },
  {
   "cell_type": "code",
   "execution_count": 2,
   "metadata": {
    "collapsed": true
   },
   "outputs": [],
   "source": [
    "from sklearn.datasets import load_breast_cancer\n",
    "data = load_breast_cancer()\n",
    "\n",
    "X = data.data\n",
    "y = data.target"
   ]
  },
  {
   "cell_type": "code",
   "execution_count": 3,
   "metadata": {
    "collapsed": false
   },
   "outputs": [
    {
     "name": "stderr",
     "output_type": "stream",
     "text": [
      "/Users/ken.nakano/anaconda/lib/python3.5/site-packages/sklearn/cross_validation.py:44: DeprecationWarning: This module was deprecated in version 0.18 in favor of the model_selection module into which all the refactored classes and functions are moved. Also note that the interface of the new CV iterators are different from that of this module. This module will be removed in 0.20.\n",
      "  \"This module will be removed in 0.20.\", DeprecationWarning)\n"
     ]
    }
   ],
   "source": [
    "from sklearn.cross_validation import train_test_split\n",
    "X_train, X_test, y_train, y_test = train_test_split(X, y, train_size=0.8)"
   ]
  },
  {
   "cell_type": "code",
   "execution_count": 4,
   "metadata": {
    "collapsed": true
   },
   "outputs": [],
   "source": [
    "from sklearn.preprocessing import MinMaxScaler\n",
    "scaler = MinMaxScaler()\n",
    "scaler.fit(X_train)\n",
    "\n",
    "X_train = scaler.transform(X_train)\n",
    "X_test = scaler.transform(X_test)"
   ]
  },
  {
   "cell_type": "code",
   "execution_count": 5,
   "metadata": {
    "collapsed": true
   },
   "outputs": [],
   "source": [
    "from sklearn.linear_model import LogisticRegression\n",
    "clf = LogisticRegression()"
   ]
  },
  {
   "cell_type": "code",
   "execution_count": 6,
   "metadata": {
    "collapsed": false
   },
   "outputs": [
    {
     "data": {
      "text/plain": [
       "LogisticRegression(C=1.0, class_weight=None, dual=False, fit_intercept=True,\n",
       "          intercept_scaling=1, max_iter=100, multi_class='ovr', n_jobs=1,\n",
       "          penalty='l2', random_state=None, solver='liblinear', tol=0.0001,\n",
       "          verbose=0, warm_start=False)"
      ]
     },
     "execution_count": 6,
     "metadata": {},
     "output_type": "execute_result"
    }
   ],
   "source": [
    "clf"
   ]
  },
  {
   "cell_type": "code",
   "execution_count": 7,
   "metadata": {
    "collapsed": false
   },
   "outputs": [
    {
     "data": {
      "text/plain": [
       "0.97368421052631582"
      ]
     },
     "execution_count": 7,
     "metadata": {},
     "output_type": "execute_result"
    }
   ],
   "source": [
    "clf.C = 1\n",
    "clf.fit(X_train, y_train)\n",
    "clf.score(X_test, y_test)"
   ]
  },
  {
   "cell_type": "code",
   "execution_count": 8,
   "metadata": {
    "collapsed": false
   },
   "outputs": [
    {
     "data": {
      "text/plain": [
       "0.99122807017543857"
      ]
     },
     "execution_count": 8,
     "metadata": {},
     "output_type": "execute_result"
    }
   ],
   "source": [
    "clf.C =  10\n",
    "clf.fit(X_train, y_train)\n",
    "clf.score(X_test, y_test)"
   ]
  },
  {
   "cell_type": "code",
   "execution_count": 9,
   "metadata": {
    "collapsed": false
   },
   "outputs": [
    {
     "data": {
      "text/plain": [
       "1.0"
      ]
     },
     "execution_count": 9,
     "metadata": {},
     "output_type": "execute_result"
    }
   ],
   "source": [
    "clf.C =  100\n",
    "clf.fit(X_train, y_train)\n",
    "clf.score(X_test, y_test)"
   ]
  },
  {
   "cell_type": "code",
   "execution_count": 10,
   "metadata": {
    "collapsed": true
   },
   "outputs": [],
   "source": [
    "C_range = [1e-5, 1e-3, 1e-2, 1, 1e2, 1e5, 1e10]"
   ]
  },
  {
   "cell_type": "code",
   "execution_count": 11,
   "metadata": {
    "collapsed": false
   },
   "outputs": [
    {
     "data": {
      "text/plain": [
       "[0.85087719298245612,\n",
       " 0.8771929824561403,\n",
       " 0.92982456140350878,\n",
       " 0.97368421052631582,\n",
       " 1.0,\n",
       " 0.93859649122807021,\n",
       " 0.92982456140350878]"
      ]
     },
     "execution_count": 11,
     "metadata": {},
     "output_type": "execute_result"
    }
   ],
   "source": [
    "scores = []\n",
    "\n",
    "for C in C_range:\n",
    "    clf.C = C\n",
    "    clf.fit(X_train, y_train)\n",
    "    score = clf.score(X_test, y_test)\n",
    "    scores.append(score)\n",
    "    \n",
    "scores"
   ]
  },
  {
   "cell_type": "code",
   "execution_count": 12,
   "metadata": {
    "collapsed": false
   },
   "outputs": [
    {
     "data": {
      "text/plain": [
       "[<matplotlib.lines.Line2D at 0x117ca23c8>]"
      ]
     },
     "execution_count": 12,
     "metadata": {},
     "output_type": "execute_result"
    },
    {
     "data": {
      "image/png": "[encoded data removed]",
      "text/plain": [
       "<matplotlib.figure.Figure at 0x114860518>"
      ]
     },
     "metadata": {},
     "output_type": "display_data"
    }
   ],
   "source": [
    "plt.plot(scores)"
   ]
  },
  {
   "cell_type": "code",
   "execution_count": 13,
   "metadata": {
    "collapsed": false
   },
   "outputs": [],
   "source": [
    "# C_range = [1e-5, 1e-3, 1e-2, 1, 1e2, 1e5, 1e10] # 普通は↓のような書き方する\n",
    "C_range_exp = np.arange(-15.0, 21.0)\n",
    "C_range = 10 ** C_range_exp"
   ]
  },
  {
   "cell_type": "code",
   "execution_count": 14,
   "metadata": {
    "collapsed": false
   },
   "outputs": [
    {
     "name": "stderr",
     "output_type": "stream",
     "text": [
      "/Users/ken.nakano/anaconda/lib/python3.5/site-packages/sklearn/grid_search.py:43: DeprecationWarning: This module was deprecated in version 0.18 in favor of the model_selection module into which all the refactored classes and functions are moved. This module will be removed in 0.20.\n",
      "  DeprecationWarning)\n"
     ]
    }
   ],
   "source": [
    "from sklearn.grid_search import GridSearchCV"
   ]
  },
  {
   "cell_type": "code",
   "execution_count": 15,
   "metadata": {
    "collapsed": false
   },
   "outputs": [
    {
     "data": {
      "text/plain": [
       "GridSearchCV(cv=None, error_score='raise',\n",
       "       estimator=LogisticRegression(C=10000000000.0, class_weight=None, dual=False,\n",
       "          fit_intercept=True, intercept_scaling=1, max_iter=100,\n",
       "          multi_class='ovr', n_jobs=1, penalty='l2', random_state=None,\n",
       "          solver='liblinear', tol=0.0001, verbose=0, warm_start=False),\n",
       "       fit_params={}, iid=True, n_jobs=1,\n",
       "       param_grid={'C': array([  1.00000e-15,   1.00000e-14,   1.00000e-13,   1.00000e-12,\n",
       "         1.00000e-11,   1.00000e-10,   1.00000e-09,   1.00000e-08,\n",
       "         1.00000e-07,   1.00000e-06,   1.00000e-05,   1.00000e-04,\n",
       "         1.00000e-03,   1.00000e-02,   1.00000e-01,   1.00000e+00,\n",
       "         1.0000...,   1.00000e+15,   1.00000e+16,\n",
       "         1.00000e+17,   1.00000e+18,   1.00000e+19,   1.00000e+20])},\n",
       "       pre_dispatch='2*n_jobs', refit=True, scoring=None, verbose=0)"
      ]
     },
     "execution_count": 15,
     "metadata": {},
     "output_type": "execute_result"
    }
   ],
   "source": [
    "param = {'C':C_range}\n",
    "\n",
    "gs = GridSearchCV(clf, param)\n",
    "gs.fit(X_train, y_train)"
   ]
  },
  {
   "cell_type": "code",
   "execution_count": 16,
   "metadata": {
    "collapsed": false
   },
   "outputs": [
    {
     "data": {
      "text/plain": [
       "({'C': 10.0},\n",
       " 0.9648351648351648,\n",
       " LogisticRegression(C=10.0, class_weight=None, dual=False, fit_intercept=True,\n",
       "           intercept_scaling=1, max_iter=100, multi_class='ovr', n_jobs=1,\n",
       "           penalty='l2', random_state=None, solver='liblinear', tol=0.0001,\n",
       "           verbose=0, warm_start=False))"
      ]
     },
     "execution_count": 16,
     "metadata": {},
     "output_type": "execute_result"
    }
   ],
   "source": [
    "gs.best_params_, gs.best_score_, gs.best_estimator_"
   ]
  },
  {
   "cell_type": "code",
   "execution_count": 17,
   "metadata": {
    "collapsed": false
   },
   "outputs": [
    {
     "data": {
      "text/plain": [
       "0.99122807017543857"
      ]
     },
     "execution_count": 17,
     "metadata": {},
     "output_type": "execute_result"
    }
   ],
   "source": [
    "gs.score(X_test, y_test)"
   ]
  },
  {
   "cell_type": "code",
   "execution_count": 18,
   "metadata": {
    "collapsed": false
   },
   "outputs": [
    {
     "data": {
      "text/plain": [
       "0.99122807017543857"
      ]
     },
     "execution_count": 18,
     "metadata": {},
     "output_type": "execute_result"
    }
   ],
   "source": [
    "# 同じ結果がでるはず\n",
    "clf_best = gs.best_estimator_\n",
    "clf_best.score(X_test, y_test)"
   ]
  },
  {
   "cell_type": "markdown",
   "metadata": {},
   "source": [
    "# グリッドサーチ：2パラメータのSVM"
   ]
  },
  {
   "cell_type": "code",
   "execution_count": 19,
   "metadata": {
    "collapsed": true
   },
   "outputs": [],
   "source": [
    "from sklearn.svm import SVC\n",
    "\n",
    "clf = SVC()\n",
    "\n",
    "C_range_exp = np.arange(-2.0, 5.0)\n",
    "C_range = 10 ** C_range_exp"
   ]
  },
  {
   "cell_type": "code",
   "execution_count": 20,
   "metadata": {
    "collapsed": true
   },
   "outputs": [],
   "source": [
    "param = {'C':C_range, 'kernel':['linear', 'rbf']}"
   ]
  },
  {
   "cell_type": "code",
   "execution_count": 21,
   "metadata": {
    "collapsed": true
   },
   "outputs": [],
   "source": [
    "gs = GridSearchCV(clf, param, n_jobs=1, verbose=2)"
   ]
  },
  {
   "cell_type": "code",
   "execution_count": 22,
   "metadata": {
    "collapsed": false
   },
   "outputs": [
    {
     "name": "stdout",
     "output_type": "stream",
     "text": [
      "Fitting 3 folds for each of 14 candidates, totalling 42 fits\n",
      "[CV] C=0.01, kernel=linear ...........................................\n",
      "[CV] .................................. C=0.01, kernel=linear -   0.0s\n",
      "[CV] C=0.01, kernel=linear ...........................................\n",
      "[CV] .................................. C=0.01, kernel=linear -   0.0s\n",
      "[CV] C=0.01, kernel=linear ...........................................\n",
      "[CV] .................................. C=0.01, kernel=linear -   0.0s\n",
      "[CV] C=0.01, kernel=rbf ..............................................\n",
      "[CV] ..................................... C=0.01, kernel=rbf -   0.0s\n",
      "[CV] C=0.01, kernel=rbf ..............................................\n",
      "[CV] ..................................... C=0.01, kernel=rbf -   0.0s\n",
      "[CV] C=0.01, kernel=rbf ..............................................\n",
      "[CV] ..................................... C=0.01, kernel=rbf -   0.0s\n",
      "[CV] C=0.1, kernel=linear ............................................\n",
      "[CV] ................................... C=0.1, kernel=linear -   0.0s\n",
      "[CV] C=0.1, kernel=linear ............................................\n",
      "[CV] ................................... C=0.1, kernel=linear -   0.0s\n",
      "[CV] C=0.1, kernel=linear ............................................\n",
      "[CV] ................................... C=0.1, kernel=linear -   0.0s\n",
      "[CV] C=0.1, kernel=rbf ...............................................\n",
      "[CV] ...................................... C=0.1, kernel=rbf -   0.0s\n",
      "[CV] C=0.1, kernel=rbf ...............................................\n",
      "[CV] ...................................... C=0.1, kernel=rbf -   0.0s\n",
      "[CV] C=0.1, kernel=rbf ...............................................\n",
      "[CV] ...................................... C=0.1, kernel=rbf -   0.0s\n",
      "[CV] C=1.0, kernel=linear ............................................\n",
      "[CV] ................................... C=1.0, kernel=linear -   0.0s\n",
      "[CV] C=1.0, kernel=linear ............................................\n",
      "[CV] ................................... C=1.0, kernel=linear -   0.0s\n",
      "[CV] C=1.0, kernel=linear ............................................\n",
      "[CV] ................................... C=1.0, kernel=linear -   0.0s\n",
      "[CV] C=1.0, kernel=rbf ...............................................\n",
      "[CV] ...................................... C=1.0, kernel=rbf -   0.0s\n",
      "[CV] C=1.0, kernel=rbf ...............................................\n",
      "[CV] ...................................... C=1.0, kernel=rbf -   0.0s\n",
      "[CV] C=1.0, kernel=rbf ...............................................\n",
      "[CV] ...................................... C=1.0, kernel=rbf -   0.0s\n",
      "[CV] C=10.0, kernel=linear ...........................................\n",
      "[CV] .................................. C=10.0, kernel=linear -   0.0s\n",
      "[CV] C=10.0, kernel=linear ...........................................\n",
      "[CV] .................................. C=10.0, kernel=linear -   0.0s\n",
      "[CV] C=10.0, kernel=linear ...........................................\n",
      "[CV] .................................. C=10.0, kernel=linear -   0.0s\n",
      "[CV] C=10.0, kernel=rbf ..............................................\n",
      "[CV] ..................................... C=10.0, kernel=rbf -   0.0s\n",
      "[CV] C=10.0, kernel=rbf ..............................................\n",
      "[CV] ..................................... C=10.0, kernel=rbf -   0.0s\n",
      "[CV] C=10.0, kernel=rbf ..............................................\n",
      "[CV] ..................................... C=10.0, kernel=rbf -   0.0s\n",
      "[CV] C=100.0, kernel=linear ..........................................\n",
      "[CV] ................................. C=100.0, kernel=linear -   0.0s\n",
      "[CV] C=100.0, kernel=linear ..........................................\n",
      "[CV] ................................. C=100.0, kernel=linear -   0.0s\n",
      "[CV] C=100.0, kernel=linear ..........................................\n",
      "[CV] ................................. C=100.0, kernel=linear -   0.0s\n",
      "[CV] C=100.0, kernel=rbf .............................................\n",
      "[CV] .................................... C=100.0, kernel=rbf -   0.0s\n",
      "[CV] C=100.0, kernel=rbf .............................................\n",
      "[CV] .................................... C=100.0, kernel=rbf -   0.0s\n",
      "[CV] C=100.0, kernel=rbf .............................................\n"
     ]
    },
    {
     "name": "stderr",
     "output_type": "stream",
     "text": [
      "[Parallel(n_jobs=1)]: Done   1 out of   1 | elapsed:    0.0s remaining:    0.0s\n"
     ]
    },
    {
     "name": "stdout",
     "output_type": "stream",
     "text": [
      "[CV] .................................... C=100.0, kernel=rbf -   0.0s\n",
      "[CV] C=1000.0, kernel=linear .........................................\n",
      "[CV] ................................ C=1000.0, kernel=linear -   0.0s\n",
      "[CV] C=1000.0, kernel=linear .........................................\n",
      "[CV] ................................ C=1000.0, kernel=linear -   0.0s\n",
      "[CV] C=1000.0, kernel=linear .........................................\n",
      "[CV] ................................ C=1000.0, kernel=linear -   0.0s\n",
      "[CV] C=1000.0, kernel=rbf ............................................\n",
      "[CV] ................................... C=1000.0, kernel=rbf -   0.0s\n",
      "[CV] C=1000.0, kernel=rbf ............................................\n",
      "[CV] ................................... C=1000.0, kernel=rbf -   0.0s\n",
      "[CV] C=1000.0, kernel=rbf ............................................\n",
      "[CV] ................................... C=1000.0, kernel=rbf -   0.0s\n",
      "[CV] C=10000.0, kernel=linear ........................................\n",
      "[CV] ............................... C=10000.0, kernel=linear -   0.0s\n",
      "[CV] C=10000.0, kernel=linear ........................................\n",
      "[CV] ............................... C=10000.0, kernel=linear -   0.0s\n",
      "[CV] C=10000.0, kernel=linear ........................................\n",
      "[CV] ............................... C=10000.0, kernel=linear -   0.0s\n",
      "[CV] C=10000.0, kernel=rbf ...........................................\n",
      "[CV] .................................. C=10000.0, kernel=rbf -   0.0s\n",
      "[CV] C=10000.0, kernel=rbf ...........................................\n",
      "[CV] .................................. C=10000.0, kernel=rbf -   0.0s\n",
      "[CV] C=10000.0, kernel=rbf ...........................................\n",
      "[CV] .................................. C=10000.0, kernel=rbf -   0.0s\n"
     ]
    },
    {
     "name": "stderr",
     "output_type": "stream",
     "text": [
      "[Parallel(n_jobs=1)]: Done  42 out of  42 | elapsed:    0.3s finished\n"
     ]
    },
    {
     "data": {
      "text/plain": [
       "GridSearchCV(cv=None, error_score='raise',\n",
       "       estimator=SVC(C=1.0, cache_size=200, class_weight=None, coef0=0.0,\n",
       "  decision_function_shape=None, degree=3, gamma='auto', kernel='rbf',\n",
       "  max_iter=-1, probability=False, random_state=None, shrinking=True,\n",
       "  tol=0.001, verbose=False),\n",
       "       fit_params={}, iid=True, n_jobs=1,\n",
       "       param_grid={'C': array([  1.00000e-02,   1.00000e-01,   1.00000e+00,   1.00000e+01,\n",
       "         1.00000e+02,   1.00000e+03,   1.00000e+04]), 'kernel': ['linear', 'rbf']},\n",
       "       pre_dispatch='2*n_jobs', refit=True, scoring=None, verbose=2)"
      ]
     },
     "execution_count": 22,
     "metadata": {},
     "output_type": "execute_result"
    }
   ],
   "source": [
    "gs.fit(X_train, y_train)"
   ]
  },
  {
   "cell_type": "code",
   "execution_count": 23,
   "metadata": {
    "collapsed": false
   },
   "outputs": [
    {
     "data": {
      "text/plain": [
       "({'C': 1.0, 'kernel': 'linear'},\n",
       " 0.9692307692307692,\n",
       " SVC(C=1.0, cache_size=200, class_weight=None, coef0=0.0,\n",
       "   decision_function_shape=None, degree=3, gamma='auto', kernel='linear',\n",
       "   max_iter=-1, probability=False, random_state=None, shrinking=True,\n",
       "   tol=0.001, verbose=False))"
      ]
     },
     "execution_count": 23,
     "metadata": {},
     "output_type": "execute_result"
    }
   ],
   "source": [
    "gs.best_params_, gs.best_score_ , gs.best_estimator_"
   ]
  },
  {
   "cell_type": "code",
   "execution_count": 24,
   "metadata": {
    "collapsed": false
   },
   "outputs": [
    {
     "data": {
      "text/plain": [
       "'auto'"
      ]
     },
     "execution_count": 24,
     "metadata": {},
     "output_type": "execute_result"
    }
   ],
   "source": [
    "SVC(kernel='rbf').gamma"
   ]
  },
  {
   "cell_type": "markdown",
   "metadata": {},
   "source": [
    "# グリッドサーチ：3パラメータのSVM"
   ]
  },
  {
   "cell_type": "code",
   "execution_count": 25,
   "metadata": {
    "collapsed": true
   },
   "outputs": [],
   "source": [
    "clf = SVC()"
   ]
  },
  {
   "cell_type": "code",
   "execution_count": 26,
   "metadata": {
    "collapsed": true
   },
   "outputs": [],
   "source": [
    "C_range_exp = np.arange(-2.0, 10.0)\n",
    "C_range = 10 ** C_range_exp\n",
    "\n",
    "gamma_range_exp = np.arange(-10.0, 0.0, 3)\n",
    "gamma_range = 10 ** gamma_range_exp\n",
    "\n",
    "param = [\n",
    "    {'C':C_range, 'kernel':['linear']}, # linearカーネルにはgammaがない\n",
    "    {'C':C_range, 'kernel':['rbf'], 'gamma':gamma_range}\n",
    "]"
   ]
  },
  {
   "cell_type": "code",
   "execution_count": 27,
   "metadata": {
    "collapsed": false
   },
   "outputs": [
    {
     "name": "stdout",
     "output_type": "stream",
     "text": [
      "Fitting 3 folds for each of 60 candidates, totalling 180 fits\n",
      "[CV] C=0.01, kernel=linear ...........................................\n",
      "[CV] .................................. C=0.01, kernel=linear -   0.0s\n",
      "[CV] C=0.01, kernel=linear ...........................................\n",
      "[CV] .................................. C=0.01, kernel=linear -   0.0s\n",
      "[CV] C=0.01, kernel=linear ...........................................\n",
      "[CV] .................................. C=0.01, kernel=linear -   0.0s\n",
      "[CV] C=0.1, kernel=linear ............................................\n",
      "[CV] ................................... C=0.1, kernel=linear -   0.0s\n",
      "[CV] C=0.1, kernel=linear ............................................\n",
      "[CV] ................................... C=0.1, kernel=linear -   0.0s\n",
      "[CV] C=0.1, kernel=linear ............................................\n",
      "[CV] ................................... C=0.1, kernel=linear -   0.0s\n",
      "[CV] C=1.0, kernel=linear ............................................\n",
      "[CV] ................................... C=1.0, kernel=linear -   0.0s\n",
      "[CV] C=1.0, kernel=linear ............................................\n",
      "[CV] ................................... C=1.0, kernel=linear -   0.0s\n",
      "[CV] C=1.0, kernel=linear ............................................\n",
      "[CV] ................................... C=1.0, kernel=linear -   0.0s\n",
      "[CV] C=10.0, kernel=linear ...........................................\n",
      "[CV] .................................. C=10.0, kernel=linear -   0.0s\n",
      "[CV] C=10.0, kernel=linear ...........................................\n"
     ]
    },
    {
     "name": "stderr",
     "output_type": "stream",
     "text": [
      "[Parallel(n_jobs=1)]: Done   1 out of   1 | elapsed:    0.0s remaining:    0.0s\n"
     ]
    },
    {
     "name": "stdout",
     "output_type": "stream",
     "text": [
      "[CV] .................................. C=10.0, kernel=linear -   0.0s\n",
      "[CV] C=10.0, kernel=linear ...........................................\n",
      "[CV] .................................. C=10.0, kernel=linear -   0.0s\n",
      "[CV] C=100.0, kernel=linear ..........................................\n",
      "[CV] ................................. C=100.0, kernel=linear -   0.0s\n",
      "[CV] C=100.0, kernel=linear ..........................................\n",
      "[CV] ................................. C=100.0, kernel=linear -   0.0s\n",
      "[CV] C=100.0, kernel=linear ..........................................\n",
      "[CV] ................................. C=100.0, kernel=linear -   0.0s\n",
      "[CV] C=1000.0, kernel=linear .........................................\n",
      "[CV] ................................ C=1000.0, kernel=linear -   0.0s\n",
      "[CV] C=1000.0, kernel=linear .........................................\n",
      "[CV] ................................ C=1000.0, kernel=linear -   0.0s\n",
      "[CV] C=1000.0, kernel=linear .........................................\n",
      "[CV] ................................ C=1000.0, kernel=linear -   0.0s\n",
      "[CV] C=10000.0, kernel=linear ........................................\n",
      "[CV] ............................... C=10000.0, kernel=linear -   0.0s\n",
      "[CV] C=10000.0, kernel=linear ........................................\n",
      "[CV] ............................... C=10000.0, kernel=linear -   0.0s\n",
      "[CV] C=10000.0, kernel=linear ........................................\n",
      "[CV] ............................... C=10000.0, kernel=linear -   0.0s\n",
      "[CV] C=100000.0, kernel=linear .......................................\n",
      "[CV] .............................. C=100000.0, kernel=linear -   0.0s\n",
      "[CV] C=100000.0, kernel=linear .......................................\n",
      "[CV] .............................. C=100000.0, kernel=linear -   0.0s\n",
      "[CV] C=100000.0, kernel=linear .......................................\n",
      "[CV] .............................. C=100000.0, kernel=linear -   0.0s\n",
      "[CV] C=1000000.0, kernel=linear ......................................\n",
      "[CV] ............................. C=1000000.0, kernel=linear -   0.0s\n",
      "[CV] C=1000000.0, kernel=linear ......................................\n",
      "[CV] ............................. C=1000000.0, kernel=linear -   0.0s\n",
      "[CV] C=1000000.0, kernel=linear ......................................\n",
      "[CV] ............................. C=1000000.0, kernel=linear -   0.0s\n",
      "[CV] C=10000000.0, kernel=linear .....................................\n",
      "[CV] ............................ C=10000000.0, kernel=linear -   0.0s\n",
      "[CV] C=10000000.0, kernel=linear .....................................\n",
      "[CV] ............................ C=10000000.0, kernel=linear -   0.0s\n",
      "[CV] C=10000000.0, kernel=linear .....................................\n",
      "[CV] ............................ C=10000000.0, kernel=linear -   0.0s\n",
      "[CV] C=100000000.0, kernel=linear ....................................\n",
      "[CV] ........................... C=100000000.0, kernel=linear -   0.0s\n",
      "[CV] C=100000000.0, kernel=linear ....................................\n",
      "[CV] ........................... C=100000000.0, kernel=linear -   0.0s\n",
      "[CV] C=100000000.0, kernel=linear ....................................\n",
      "[CV] ........................... C=100000000.0, kernel=linear -   0.0s\n",
      "[CV] C=1000000000.0, kernel=linear ...................................\n",
      "[CV] .......................... C=1000000000.0, kernel=linear -   0.0s\n",
      "[CV] C=1000000000.0, kernel=linear ...................................\n",
      "[CV] .......................... C=1000000000.0, kernel=linear -   0.0s\n",
      "[CV] C=1000000000.0, kernel=linear ...................................\n",
      "[CV] .......................... C=1000000000.0, kernel=linear -   0.0s\n",
      "[CV] kernel=rbf, C=0.01, gamma=1e-10 .................................\n",
      "[CV] ........................ kernel=rbf, C=0.01, gamma=1e-10 -   0.0s\n",
      "[CV] kernel=rbf, C=0.01, gamma=1e-10 .................................\n",
      "[CV] ........................ kernel=rbf, C=0.01, gamma=1e-10 -   0.0s\n",
      "[CV] kernel=rbf, C=0.01, gamma=1e-10 .................................\n",
      "[CV] ........................ kernel=rbf, C=0.01, gamma=1e-10 -   0.0s\n",
      "[CV] kernel=rbf, C=0.01, gamma=1e-07 .................................\n",
      "[CV] ........................ kernel=rbf, C=0.01, gamma=1e-07 -   0.0s\n",
      "[CV] kernel=rbf, C=0.01, gamma=1e-07 .................................\n",
      "[CV] ........................ kernel=rbf, C=0.01, gamma=1e-07 -   0.0s\n",
      "[CV] kernel=rbf, C=0.01, gamma=1e-07 .................................\n",
      "[CV] ........................ kernel=rbf, C=0.01, gamma=1e-07 -   0.0s\n",
      "[CV] kernel=rbf, C=0.01, gamma=0.0001 ................................\n",
      "[CV] ....................... kernel=rbf, C=0.01, gamma=0.0001 -   0.0s\n",
      "[CV] kernel=rbf, C=0.01, gamma=0.0001 ................................\n",
      "[CV] ....................... kernel=rbf, C=0.01, gamma=0.0001 -   0.0s\n",
      "[CV] kernel=rbf, C=0.01, gamma=0.0001 ................................\n",
      "[CV] ....................... kernel=rbf, C=0.01, gamma=0.0001 -   0.0s\n",
      "[CV] kernel=rbf, C=0.01, gamma=0.1 ...................................\n",
      "[CV] .......................... kernel=rbf, C=0.01, gamma=0.1 -   0.0s\n",
      "[CV] kernel=rbf, C=0.01, gamma=0.1 ...................................\n",
      "[CV] .......................... kernel=rbf, C=0.01, gamma=0.1 -   0.0s\n",
      "[CV] kernel=rbf, C=0.01, gamma=0.1 ...................................\n",
      "[CV] .......................... kernel=rbf, C=0.01, gamma=0.1 -   0.0s\n",
      "[CV] kernel=rbf, C=0.1, gamma=1e-10 ..................................\n",
      "[CV] ......................... kernel=rbf, C=0.1, gamma=1e-10 -   0.0s\n",
      "[CV] kernel=rbf, C=0.1, gamma=1e-10 ..................................\n",
      "[CV] ......................... kernel=rbf, C=0.1, gamma=1e-10 -   0.0s\n",
      "[CV] kernel=rbf, C=0.1, gamma=1e-10 ..................................\n",
      "[CV] ......................... kernel=rbf, C=0.1, gamma=1e-10 -   0.0s\n",
      "[CV] kernel=rbf, C=0.1, gamma=1e-07 ..................................\n",
      "[CV] ......................... kernel=rbf, C=0.1, gamma=1e-07 -   0.0s\n",
      "[CV] kernel=rbf, C=0.1, gamma=1e-07 ..................................\n",
      "[CV] ......................... kernel=rbf, C=0.1, gamma=1e-07 -   0.0s\n",
      "[CV] kernel=rbf, C=0.1, gamma=1e-07 ..................................\n",
      "[CV] ......................... kernel=rbf, C=0.1, gamma=1e-07 -   0.0s\n",
      "[CV] kernel=rbf, C=0.1, gamma=0.0001 .................................\n",
      "[CV] ........................ kernel=rbf, C=0.1, gamma=0.0001 -   0.0s\n",
      "[CV] kernel=rbf, C=0.1, gamma=0.0001 .................................\n",
      "[CV] ........................ kernel=rbf, C=0.1, gamma=0.0001 -   0.0s\n",
      "[CV] kernel=rbf, C=0.1, gamma=0.0001 .................................\n",
      "[CV] ........................ kernel=rbf, C=0.1, gamma=0.0001 -   0.0s\n",
      "[CV] kernel=rbf, C=0.1, gamma=0.1 ....................................\n",
      "[CV] ........................... kernel=rbf, C=0.1, gamma=0.1 -   0.0s\n",
      "[CV] kernel=rbf, C=0.1, gamma=0.1 ....................................\n",
      "[CV] ........................... kernel=rbf, C=0.1, gamma=0.1 -   0.0s\n",
      "[CV] kernel=rbf, C=0.1, gamma=0.1 ....................................\n",
      "[CV] ........................... kernel=rbf, C=0.1, gamma=0.1 -   0.0s\n",
      "[CV] kernel=rbf, C=1.0, gamma=1e-10 ..................................\n",
      "[CV] ......................... kernel=rbf, C=1.0, gamma=1e-10 -   0.0s\n",
      "[CV] kernel=rbf, C=1.0, gamma=1e-10 ..................................\n",
      "[CV] ......................... kernel=rbf, C=1.0, gamma=1e-10 -   0.0s\n",
      "[CV] kernel=rbf, C=1.0, gamma=1e-10 ..................................\n",
      "[CV] ......................... kernel=rbf, C=1.0, gamma=1e-10 -   0.0s\n",
      "[CV] kernel=rbf, C=1.0, gamma=1e-07 ..................................\n",
      "[CV] ......................... kernel=rbf, C=1.0, gamma=1e-07 -   0.0s\n",
      "[CV] kernel=rbf, C=1.0, gamma=1e-07 ..................................\n",
      "[CV] ......................... kernel=rbf, C=1.0, gamma=1e-07 -   0.0s\n",
      "[CV] kernel=rbf, C=1.0, gamma=1e-07 ..................................\n",
      "[CV] ......................... kernel=rbf, C=1.0, gamma=1e-07 -   0.0s\n",
      "[CV] kernel=rbf, C=1.0, gamma=0.0001 .................................\n",
      "[CV] ........................ kernel=rbf, C=1.0, gamma=0.0001 -   0.0s\n",
      "[CV] kernel=rbf, C=1.0, gamma=0.0001 .................................\n",
      "[CV] ........................ kernel=rbf, C=1.0, gamma=0.0001 -   0.0s\n",
      "[CV] kernel=rbf, C=1.0, gamma=0.0001 .................................\n",
      "[CV] ........................ kernel=rbf, C=1.0, gamma=0.0001 -   0.0s\n",
      "[CV] kernel=rbf, C=1.0, gamma=0.1 ....................................\n",
      "[CV] ........................... kernel=rbf, C=1.0, gamma=0.1 -   0.0s\n",
      "[CV] kernel=rbf, C=1.0, gamma=0.1 ....................................\n",
      "[CV] ........................... kernel=rbf, C=1.0, gamma=0.1 -   0.0s\n",
      "[CV] kernel=rbf, C=1.0, gamma=0.1 ....................................\n",
      "[CV] ........................... kernel=rbf, C=1.0, gamma=0.1 -   0.0s\n",
      "[CV] kernel=rbf, C=10.0, gamma=1e-10 .................................\n",
      "[CV] ........................ kernel=rbf, C=10.0, gamma=1e-10 -   0.0s\n",
      "[CV] kernel=rbf, C=10.0, gamma=1e-10 .................................\n",
      "[CV] ........................ kernel=rbf, C=10.0, gamma=1e-10 -   0.0s\n",
      "[CV] kernel=rbf, C=10.0, gamma=1e-10 .................................\n",
      "[CV] ........................ kernel=rbf, C=10.0, gamma=1e-10 -   0.0s\n",
      "[CV] kernel=rbf, C=10.0, gamma=1e-07 .................................\n",
      "[CV] ........................ kernel=rbf, C=10.0, gamma=1e-07 -   0.0s\n",
      "[CV] kernel=rbf, C=10.0, gamma=1e-07 .................................\n",
      "[CV] ........................ kernel=rbf, C=10.0, gamma=1e-07 -   0.0s\n",
      "[CV] kernel=rbf, C=10.0, gamma=1e-07 .................................\n",
      "[CV] ........................ kernel=rbf, C=10.0, gamma=1e-07 -   0.0s\n",
      "[CV] kernel=rbf, C=10.0, gamma=0.0001 ................................\n",
      "[CV] ....................... kernel=rbf, C=10.0, gamma=0.0001 -   0.0s\n",
      "[CV] kernel=rbf, C=10.0, gamma=0.0001 ................................\n",
      "[CV] ....................... kernel=rbf, C=10.0, gamma=0.0001 -   0.0s\n",
      "[CV] kernel=rbf, C=10.0, gamma=0.0001 ................................\n",
      "[CV] ....................... kernel=rbf, C=10.0, gamma=0.0001 -   0.0s\n",
      "[CV] kernel=rbf, C=10.0, gamma=0.1 ...................................\n",
      "[CV] .......................... kernel=rbf, C=10.0, gamma=0.1 -   0.0s\n",
      "[CV] kernel=rbf, C=10.0, gamma=0.1 ...................................\n",
      "[CV] .......................... kernel=rbf, C=10.0, gamma=0.1 -   0.0s\n",
      "[CV] kernel=rbf, C=10.0, gamma=0.1 ...................................\n",
      "[CV] .......................... kernel=rbf, C=10.0, gamma=0.1 -   0.0s\n",
      "[CV] kernel=rbf, C=100.0, gamma=1e-10 ................................\n",
      "[CV] ....................... kernel=rbf, C=100.0, gamma=1e-10 -   0.0s\n",
      "[CV] kernel=rbf, C=100.0, gamma=1e-10 ................................\n",
      "[CV] ....................... kernel=rbf, C=100.0, gamma=1e-10 -   0.0s\n",
      "[CV] kernel=rbf, C=100.0, gamma=1e-10 ................................\n",
      "[CV] ....................... kernel=rbf, C=100.0, gamma=1e-10 -   0.0s\n",
      "[CV] kernel=rbf, C=100.0, gamma=1e-07 ................................\n",
      "[CV] ....................... kernel=rbf, C=100.0, gamma=1e-07 -   0.0s\n",
      "[CV] kernel=rbf, C=100.0, gamma=1e-07 ................................\n",
      "[CV] ....................... kernel=rbf, C=100.0, gamma=1e-07 -   0.0s\n",
      "[CV] kernel=rbf, C=100.0, gamma=1e-07 ................................\n",
      "[CV] ....................... kernel=rbf, C=100.0, gamma=1e-07 -   0.0s\n",
      "[CV] kernel=rbf, C=100.0, gamma=0.0001 ...............................\n",
      "[CV] ...................... kernel=rbf, C=100.0, gamma=0.0001 -   0.0s\n",
      "[CV] kernel=rbf, C=100.0, gamma=0.0001 ...............................\n",
      "[CV] ...................... kernel=rbf, C=100.0, gamma=0.0001 -   0.0s\n",
      "[CV] kernel=rbf, C=100.0, gamma=0.0001 ...............................\n",
      "[CV] ...................... kernel=rbf, C=100.0, gamma=0.0001 -   0.0s\n",
      "[CV] kernel=rbf, C=100.0, gamma=0.1 ..................................\n",
      "[CV] ......................... kernel=rbf, C=100.0, gamma=0.1 -   0.0s\n",
      "[CV] kernel=rbf, C=100.0, gamma=0.1 ..................................\n",
      "[CV] ......................... kernel=rbf, C=100.0, gamma=0.1 -   0.0s\n",
      "[CV] kernel=rbf, C=100.0, gamma=0.1 ..................................\n",
      "[CV] ......................... kernel=rbf, C=100.0, gamma=0.1 -   0.0s\n",
      "[CV] kernel=rbf, C=1000.0, gamma=1e-10 ...............................\n",
      "[CV] ...................... kernel=rbf, C=1000.0, gamma=1e-10 -   0.0s\n",
      "[CV] kernel=rbf, C=1000.0, gamma=1e-10 ...............................\n",
      "[CV] ...................... kernel=rbf, C=1000.0, gamma=1e-10 -   0.0s\n",
      "[CV] kernel=rbf, C=1000.0, gamma=1e-10 ...............................\n",
      "[CV] ...................... kernel=rbf, C=1000.0, gamma=1e-10 -   0.0s\n",
      "[CV] kernel=rbf, C=1000.0, gamma=1e-07 ...............................\n",
      "[CV] ...................... kernel=rbf, C=1000.0, gamma=1e-07 -   0.0s\n",
      "[CV] kernel=rbf, C=1000.0, gamma=1e-07 ...............................\n",
      "[CV] ...................... kernel=rbf, C=1000.0, gamma=1e-07 -   0.0s\n",
      "[CV] kernel=rbf, C=1000.0, gamma=1e-07 ...............................\n",
      "[CV] ...................... kernel=rbf, C=1000.0, gamma=1e-07 -   0.0s\n",
      "[CV] kernel=rbf, C=1000.0, gamma=0.0001 ..............................\n",
      "[CV] ..................... kernel=rbf, C=1000.0, gamma=0.0001 -   0.0s\n",
      "[CV] kernel=rbf, C=1000.0, gamma=0.0001 ..............................\n",
      "[CV] ..................... kernel=rbf, C=1000.0, gamma=0.0001 -   0.0s\n",
      "[CV] kernel=rbf, C=1000.0, gamma=0.0001 ..............................\n",
      "[CV] ..................... kernel=rbf, C=1000.0, gamma=0.0001 -   0.0s\n",
      "[CV] kernel=rbf, C=1000.0, gamma=0.1 .................................\n",
      "[CV] ........................ kernel=rbf, C=1000.0, gamma=0.1 -   0.0s\n",
      "[CV] kernel=rbf, C=1000.0, gamma=0.1 .................................\n",
      "[CV] ........................ kernel=rbf, C=1000.0, gamma=0.1 -   0.0s\n",
      "[CV] kernel=rbf, C=1000.0, gamma=0.1 .................................\n",
      "[CV] ........................ kernel=rbf, C=1000.0, gamma=0.1 -   0.0s\n",
      "[CV] kernel=rbf, C=10000.0, gamma=1e-10 ..............................\n",
      "[CV] ..................... kernel=rbf, C=10000.0, gamma=1e-10 -   0.0s\n",
      "[CV] kernel=rbf, C=10000.0, gamma=1e-10 ..............................\n",
      "[CV] ..................... kernel=rbf, C=10000.0, gamma=1e-10 -   0.0s\n",
      "[CV] kernel=rbf, C=10000.0, gamma=1e-10 ..............................\n",
      "[CV] ..................... kernel=rbf, C=10000.0, gamma=1e-10 -   0.0s\n",
      "[CV] kernel=rbf, C=10000.0, gamma=1e-07 ..............................\n",
      "[CV] ..................... kernel=rbf, C=10000.0, gamma=1e-07 -   0.0s\n",
      "[CV] kernel=rbf, C=10000.0, gamma=1e-07 ..............................\n",
      "[CV] ..................... kernel=rbf, C=10000.0, gamma=1e-07 -   0.0s\n",
      "[CV] kernel=rbf, C=10000.0, gamma=1e-07 ..............................\n",
      "[CV] ..................... kernel=rbf, C=10000.0, gamma=1e-07 -   0.0s\n",
      "[CV] kernel=rbf, C=10000.0, gamma=0.0001 .............................\n",
      "[CV] .................... kernel=rbf, C=10000.0, gamma=0.0001 -   0.0s\n",
      "[CV] kernel=rbf, C=10000.0, gamma=0.0001 .............................\n",
      "[CV] .................... kernel=rbf, C=10000.0, gamma=0.0001 -   0.0s\n",
      "[CV] kernel=rbf, C=10000.0, gamma=0.0001 .............................\n",
      "[CV] .................... kernel=rbf, C=10000.0, gamma=0.0001 -   0.0s\n",
      "[CV] kernel=rbf, C=10000.0, gamma=0.1 ................................\n",
      "[CV] ....................... kernel=rbf, C=10000.0, gamma=0.1 -   0.0s\n",
      "[CV] kernel=rbf, C=10000.0, gamma=0.1 ................................\n",
      "[CV] ....................... kernel=rbf, C=10000.0, gamma=0.1 -   0.0s\n",
      "[CV] kernel=rbf, C=10000.0, gamma=0.1 ................................\n",
      "[CV] ....................... kernel=rbf, C=10000.0, gamma=0.1 -   0.0s\n",
      "[CV] kernel=rbf, C=100000.0, gamma=1e-10 .............................\n",
      "[CV] .................... kernel=rbf, C=100000.0, gamma=1e-10 -   0.0s\n",
      "[CV] kernel=rbf, C=100000.0, gamma=1e-10 .............................\n",
      "[CV] .................... kernel=rbf, C=100000.0, gamma=1e-10 -   0.0s\n",
      "[CV] kernel=rbf, C=100000.0, gamma=1e-10 .............................\n",
      "[CV] .................... kernel=rbf, C=100000.0, gamma=1e-10 -   0.0s\n",
      "[CV] kernel=rbf, C=100000.0, gamma=1e-07 .............................\n",
      "[CV] .................... kernel=rbf, C=100000.0, gamma=1e-07 -   0.0s\n",
      "[CV] kernel=rbf, C=100000.0, gamma=1e-07 .............................\n",
      "[CV] .................... kernel=rbf, C=100000.0, gamma=1e-07 -   0.0s\n",
      "[CV] kernel=rbf, C=100000.0, gamma=1e-07 .............................\n",
      "[CV] .................... kernel=rbf, C=100000.0, gamma=1e-07 -   0.0s\n",
      "[CV] kernel=rbf, C=100000.0, gamma=0.0001 ............................\n",
      "[CV] ................... kernel=rbf, C=100000.0, gamma=0.0001 -   0.0s\n",
      "[CV] kernel=rbf, C=100000.0, gamma=0.0001 ............................\n",
      "[CV] ................... kernel=rbf, C=100000.0, gamma=0.0001 -   0.0s\n",
      "[CV] kernel=rbf, C=100000.0, gamma=0.0001 ............................\n",
      "[CV] ................... kernel=rbf, C=100000.0, gamma=0.0001 -   0.0s\n",
      "[CV] kernel=rbf, C=100000.0, gamma=0.1 ...............................\n",
      "[CV] ...................... kernel=rbf, C=100000.0, gamma=0.1 -   0.0s\n",
      "[CV] kernel=rbf, C=100000.0, gamma=0.1 ...............................\n",
      "[CV] ...................... kernel=rbf, C=100000.0, gamma=0.1 -   0.0s\n",
      "[CV] kernel=rbf, C=100000.0, gamma=0.1 ...............................\n",
      "[CV] ...................... kernel=rbf, C=100000.0, gamma=0.1 -   0.0s\n",
      "[CV] kernel=rbf, C=1000000.0, gamma=1e-10 ............................\n",
      "[CV] ................... kernel=rbf, C=1000000.0, gamma=1e-10 -   0.0s\n",
      "[CV] kernel=rbf, C=1000000.0, gamma=1e-10 ............................\n",
      "[CV] ................... kernel=rbf, C=1000000.0, gamma=1e-10 -   0.0s\n",
      "[CV] kernel=rbf, C=1000000.0, gamma=1e-10 ............................\n",
      "[CV] ................... kernel=rbf, C=1000000.0, gamma=1e-10 -   0.0s\n",
      "[CV] kernel=rbf, C=1000000.0, gamma=1e-07 ............................\n",
      "[CV] ................... kernel=rbf, C=1000000.0, gamma=1e-07 -   0.0s\n",
      "[CV] kernel=rbf, C=1000000.0, gamma=1e-07 ............................\n",
      "[CV] ................... kernel=rbf, C=1000000.0, gamma=1e-07 -   0.0s\n",
      "[CV] kernel=rbf, C=1000000.0, gamma=1e-07 ............................\n",
      "[CV] ................... kernel=rbf, C=1000000.0, gamma=1e-07 -   0.0s\n",
      "[CV] kernel=rbf, C=1000000.0, gamma=0.0001 ...........................\n",
      "[CV] .................. kernel=rbf, C=1000000.0, gamma=0.0001 -   0.0s\n",
      "[CV] kernel=rbf, C=1000000.0, gamma=0.0001 ...........................\n",
      "[CV] .................. kernel=rbf, C=1000000.0, gamma=0.0001 -   0.0s\n",
      "[CV] kernel=rbf, C=1000000.0, gamma=0.0001 ...........................\n",
      "[CV] .................. kernel=rbf, C=1000000.0, gamma=0.0001 -   0.0s\n",
      "[CV] kernel=rbf, C=1000000.0, gamma=0.1 ..............................\n",
      "[CV] ..................... kernel=rbf, C=1000000.0, gamma=0.1 -   0.0s\n",
      "[CV] kernel=rbf, C=1000000.0, gamma=0.1 ..............................\n",
      "[CV] ..................... kernel=rbf, C=1000000.0, gamma=0.1 -   0.0s\n",
      "[CV] kernel=rbf, C=1000000.0, gamma=0.1 ..............................\n",
      "[CV] ..................... kernel=rbf, C=1000000.0, gamma=0.1 -   0.0s\n",
      "[CV] kernel=rbf, C=10000000.0, gamma=1e-10 ...........................\n",
      "[CV] .................. kernel=rbf, C=10000000.0, gamma=1e-10 -   0.0s\n",
      "[CV] kernel=rbf, C=10000000.0, gamma=1e-10 ...........................\n",
      "[CV] .................. kernel=rbf, C=10000000.0, gamma=1e-10 -   0.0s\n",
      "[CV] kernel=rbf, C=10000000.0, gamma=1e-10 ...........................\n",
      "[CV] .................. kernel=rbf, C=10000000.0, gamma=1e-10 -   0.0s\n",
      "[CV] kernel=rbf, C=10000000.0, gamma=1e-07 ...........................\n",
      "[CV] .................. kernel=rbf, C=10000000.0, gamma=1e-07 -   0.0s\n",
      "[CV] kernel=rbf, C=10000000.0, gamma=1e-07 ...........................\n",
      "[CV] .................. kernel=rbf, C=10000000.0, gamma=1e-07 -   0.0s\n",
      "[CV] kernel=rbf, C=10000000.0, gamma=1e-07 ...........................\n",
      "[CV] .................. kernel=rbf, C=10000000.0, gamma=1e-07 -   0.0s\n",
      "[CV] kernel=rbf, C=10000000.0, gamma=0.0001 ..........................\n",
      "[CV] ................. kernel=rbf, C=10000000.0, gamma=0.0001 -   0.0s\n",
      "[CV] kernel=rbf, C=10000000.0, gamma=0.0001 ..........................\n",
      "[CV] ................. kernel=rbf, C=10000000.0, gamma=0.0001 -   0.0s\n",
      "[CV] kernel=rbf, C=10000000.0, gamma=0.0001 ..........................\n",
      "[CV] ................. kernel=rbf, C=10000000.0, gamma=0.0001 -   0.0s\n",
      "[CV] kernel=rbf, C=10000000.0, gamma=0.1 .............................\n",
      "[CV] .................... kernel=rbf, C=10000000.0, gamma=0.1 -   0.0s\n",
      "[CV] kernel=rbf, C=10000000.0, gamma=0.1 .............................\n",
      "[CV] .................... kernel=rbf, C=10000000.0, gamma=0.1 -   0.0s\n",
      "[CV] kernel=rbf, C=10000000.0, gamma=0.1 .............................\n",
      "[CV] .................... kernel=rbf, C=10000000.0, gamma=0.1 -   0.0s\n",
      "[CV] kernel=rbf, C=100000000.0, gamma=1e-10 ..........................\n",
      "[CV] ................. kernel=rbf, C=100000000.0, gamma=1e-10 -   0.0s\n",
      "[CV] kernel=rbf, C=100000000.0, gamma=1e-10 ..........................\n",
      "[CV] ................. kernel=rbf, C=100000000.0, gamma=1e-10 -   0.0s\n",
      "[CV] kernel=rbf, C=100000000.0, gamma=1e-10 ..........................\n",
      "[CV] ................. kernel=rbf, C=100000000.0, gamma=1e-10 -   0.0s\n",
      "[CV] kernel=rbf, C=100000000.0, gamma=1e-07 ..........................\n",
      "[CV] ................. kernel=rbf, C=100000000.0, gamma=1e-07 -   0.0s\n",
      "[CV] kernel=rbf, C=100000000.0, gamma=1e-07 ..........................\n",
      "[CV] ................. kernel=rbf, C=100000000.0, gamma=1e-07 -   0.0s\n",
      "[CV] kernel=rbf, C=100000000.0, gamma=1e-07 ..........................\n",
      "[CV] ................. kernel=rbf, C=100000000.0, gamma=1e-07 -   0.0s\n",
      "[CV] kernel=rbf, C=100000000.0, gamma=0.0001 .........................\n",
      "[CV] ................ kernel=rbf, C=100000000.0, gamma=0.0001 -   0.0s\n",
      "[CV] kernel=rbf, C=100000000.0, gamma=0.0001 .........................\n",
      "[CV] ................ kernel=rbf, C=100000000.0, gamma=0.0001 -   0.0s\n",
      "[CV] kernel=rbf, C=100000000.0, gamma=0.0001 .........................\n",
      "[CV] ................ kernel=rbf, C=100000000.0, gamma=0.0001 -   0.0s\n",
      "[CV] kernel=rbf, C=100000000.0, gamma=0.1 ............................\n",
      "[CV] ................... kernel=rbf, C=100000000.0, gamma=0.1 -   0.0s\n",
      "[CV] kernel=rbf, C=100000000.0, gamma=0.1 ............................\n",
      "[CV] ................... kernel=rbf, C=100000000.0, gamma=0.1 -   0.0s\n",
      "[CV] kernel=rbf, C=100000000.0, gamma=0.1 ............................\n",
      "[CV] ................... kernel=rbf, C=100000000.0, gamma=0.1 -   0.0s\n",
      "[CV] kernel=rbf, C=1000000000.0, gamma=1e-10 .........................\n",
      "[CV] ................ kernel=rbf, C=1000000000.0, gamma=1e-10 -   0.0s\n",
      "[CV] kernel=rbf, C=1000000000.0, gamma=1e-10 .........................\n",
      "[CV] ................ kernel=rbf, C=1000000000.0, gamma=1e-10 -   0.0s\n",
      "[CV] kernel=rbf, C=1000000000.0, gamma=1e-10 .........................\n",
      "[CV] ................ kernel=rbf, C=1000000000.0, gamma=1e-10 -   0.0s\n",
      "[CV] kernel=rbf, C=1000000000.0, gamma=1e-07 .........................\n",
      "[CV] ................ kernel=rbf, C=1000000000.0, gamma=1e-07 -   0.0s\n",
      "[CV] kernel=rbf, C=1000000000.0, gamma=1e-07 .........................\n",
      "[CV] ................ kernel=rbf, C=1000000000.0, gamma=1e-07 -   0.0s\n",
      "[CV] kernel=rbf, C=1000000000.0, gamma=1e-07 .........................\n",
      "[CV] ................ kernel=rbf, C=1000000000.0, gamma=1e-07 -   0.0s\n",
      "[CV] kernel=rbf, C=1000000000.0, gamma=0.0001 ........................\n",
      "[CV] ............... kernel=rbf, C=1000000000.0, gamma=0.0001 -   0.0s\n",
      "[CV] kernel=rbf, C=1000000000.0, gamma=0.0001 ........................\n",
      "[CV] ............... kernel=rbf, C=1000000000.0, gamma=0.0001 -   0.0s\n",
      "[CV] kernel=rbf, C=1000000000.0, gamma=0.0001 ........................\n",
      "[CV] ............... kernel=rbf, C=1000000000.0, gamma=0.0001 -   0.0s\n",
      "[CV] kernel=rbf, C=1000000000.0, gamma=0.1 ...........................\n",
      "[CV] .................. kernel=rbf, C=1000000000.0, gamma=0.1 -   0.0s\n",
      "[CV] kernel=rbf, C=1000000000.0, gamma=0.1 ...........................\n",
      "[CV] .................. kernel=rbf, C=1000000000.0, gamma=0.1 -   0.0s\n",
      "[CV] kernel=rbf, C=1000000000.0, gamma=0.1 ...........................\n",
      "[CV] .................. kernel=rbf, C=1000000000.0, gamma=0.1 -   0.0s\n"
     ]
    },
    {
     "name": "stderr",
     "output_type": "stream",
     "text": [
      "[Parallel(n_jobs=1)]: Done 180 out of 180 | elapsed:    1.7s finished\n"
     ]
    },
    {
     "data": {
      "text/plain": [
       "GridSearchCV(cv=None, error_score='raise',\n",
       "       estimator=SVC(C=1.0, cache_size=200, class_weight=None, coef0=0.0,\n",
       "  decision_function_shape=None, degree=3, gamma='auto', kernel='rbf',\n",
       "  max_iter=-1, probability=False, random_state=None, shrinking=True,\n",
       "  tol=0.001, verbose=False),\n",
       "       fit_params={}, iid=True, n_jobs=1,\n",
       "       param_grid=[{'C': array([  1.00000e-02,   1.00000e-01,   1.00000e+00,   1.00000e+01,\n",
       "         1.00000e+02,   1.00000e+03,   1.00000e+04,   1.00000e+05,\n",
       "         1.00000e+06,   1.00000e+07,   1.00000e+08,   1.00000e+09]), 'kernel': ['linear']}, {'gamma': array([  1.00000e-10,   1.00000e-07,   1.00000....00000e+05,\n",
       "         1.00000e+06,   1.00000e+07,   1.00000e+08,   1.00000e+09]), 'kernel': ['rbf']}],\n",
       "       pre_dispatch='2*n_jobs', refit=True, scoring=None, verbose=2)"
      ]
     },
     "execution_count": 27,
     "metadata": {},
     "output_type": "execute_result"
    }
   ],
   "source": [
    "gs = GridSearchCV(clf, param, n_jobs=1, verbose=2)\n",
    "gs.fit(X_train, y_train)"
   ]
  },
  {
   "cell_type": "code",
   "execution_count": 28,
   "metadata": {
    "collapsed": false
   },
   "outputs": [
    {
     "data": {
      "text/plain": [
       "({'C': 1000000000.0, 'gamma': 9.9999999999999995e-08, 'kernel': 'rbf'},\n",
       " 0.978021978021978,\n",
       " SVC(C=1000000000.0, cache_size=200, class_weight=None, coef0=0.0,\n",
       "   decision_function_shape=None, degree=3, gamma=9.9999999999999995e-08,\n",
       "   kernel='rbf', max_iter=-1, probability=False, random_state=None,\n",
       "   shrinking=True, tol=0.001, verbose=False))"
      ]
     },
     "execution_count": 28,
     "metadata": {},
     "output_type": "execute_result"
    }
   ],
   "source": [
    "gs.best_params_, gs.best_score_, gs.best_estimator_"
   ]
  },
  {
   "cell_type": "markdown",
   "metadata": {},
   "source": [
    "# グリッドサーチ：kNN"
   ]
  },
  {
   "cell_type": "code",
   "execution_count": 29,
   "metadata": {
    "collapsed": true
   },
   "outputs": [],
   "source": [
    "from sklearn.neighbors import KNeighborsClassifier\n",
    "\n",
    "clf = KNeighborsClassifier()"
   ]
  },
  {
   "cell_type": "code",
   "execution_count": 30,
   "metadata": {
    "collapsed": false
   },
   "outputs": [
    {
     "data": {
      "text/plain": [
       "GridSearchCV(cv=None, error_score='raise',\n",
       "       estimator=KNeighborsClassifier(algorithm='auto', leaf_size=30, metric='minkowski',\n",
       "           metric_params=None, n_jobs=1, n_neighbors=5, p=2,\n",
       "           weights='uniform'),\n",
       "       fit_params={}, iid=True, n_jobs=1,\n",
       "       param_grid={'n_neighbors': array([ 1,  2,  3,  4,  5,  6,  7,  8,  9, 10, 11, 12, 13, 14, 15, 16, 17,\n",
       "       18, 19])},\n",
       "       pre_dispatch='2*n_jobs', refit=True, scoring=None, verbose=0)"
      ]
     },
     "execution_count": 30,
     "metadata": {},
     "output_type": "execute_result"
    }
   ],
   "source": [
    "param = {'n_neighbors' : np.arange(1, 20)}\n",
    "gs = GridSearchCV(clf, param)\n",
    "gs.fit(X_train, y_train)"
   ]
  },
  {
   "cell_type": "code",
   "execution_count": 31,
   "metadata": {
    "collapsed": false
   },
   "outputs": [
    {
     "data": {
      "text/plain": [
       "({'n_neighbors': 5},\n",
       " 0.9714285714285714,\n",
       " KNeighborsClassifier(algorithm='auto', leaf_size=30, metric='minkowski',\n",
       "            metric_params=None, n_jobs=1, n_neighbors=5, p=2,\n",
       "            weights='uniform'))"
      ]
     },
     "execution_count": 31,
     "metadata": {},
     "output_type": "execute_result"
    }
   ],
   "source": [
    "gs.best_params_, gs.best_score_, gs.best_estimator_"
   ]
  },
  {
   "cell_type": "code",
   "execution_count": 32,
   "metadata": {
    "collapsed": false
   },
   "outputs": [
    {
     "data": {
      "text/plain": [
       "0.96491228070175439"
      ]
     },
     "execution_count": 32,
     "metadata": {},
     "output_type": "execute_result"
    }
   ],
   "source": [
    "gs.score(X_test, y_test)"
   ]
  },
  {
   "cell_type": "markdown",
   "metadata": {},
   "source": [
    "# ランダムサーチ：多層パーセプトロン(MLP)"
   ]
  },
  {
   "cell_type": "code",
   "execution_count": 33,
   "metadata": {
    "collapsed": false
   },
   "outputs": [
    {
     "data": {
      "text/plain": [
       "'0.18.1'"
      ]
     },
     "execution_count": 33,
     "metadata": {},
     "output_type": "execute_result"
    }
   ],
   "source": [
    "import sklearn\n",
    "sklearn.__version__"
   ]
  },
  {
   "cell_type": "code",
   "execution_count": 36,
   "metadata": {
    "collapsed": false
   },
   "outputs": [
    {
     "data": {
      "text/plain": [
       "MLPClassifier(activation='relu', alpha=0.0001, batch_size='auto', beta_1=0.9,\n",
       "       beta_2=0.999, early_stopping=False, epsilon=1e-08,\n",
       "       hidden_layer_sizes=(100,), learning_rate='constant',\n",
       "       learning_rate_init=0.001, max_iter=2000, momentum=0.9,\n",
       "       nesterovs_momentum=True, power_t=0.5, random_state=None,\n",
       "       shuffle=True, solver='adam', tol=0.0001, validation_fraction=0.1,\n",
       "       verbose=False, warm_start=False)"
      ]
     },
     "execution_count": 36,
     "metadata": {},
     "output_type": "execute_result"
    }
   ],
   "source": [
    "from sklearn.neural_network import MLPClassifier\n",
    "\n",
    "clf = MLPClassifier(max_iter = 2000)\n",
    "clf"
   ]
  },
  {
   "cell_type": "code",
   "execution_count": 37,
   "metadata": {
    "collapsed": true
   },
   "outputs": [],
   "source": [
    "param = {'hidden_layer_sizes' : [\n",
    "        (10,),(50,),(100,),\n",
    "        (10,10,),(50,50,),(100,100,),\n",
    "        (10,5,),(5,5,),(30,20,10,),\n",
    "        (100,1000,50,),(1000,100,50,),\n",
    "        (10,10,10,),(50,50,50,),(100,100,100,)\n",
    "    ],\n",
    "         'activation' : ['identity', 'logistic', 'tanh', 'relu'],\n",
    "         'beta_1':[0.9,0.8,0.7,0.6,0.5],\n",
    "         'beta_2':[0.999,0.9,0.8,0.7],\n",
    "         'alpha':[1e-5,1e-4,1e-3,1e-2,1e-1,1]\n",
    "}"
   ]
  },
  {
   "cell_type": "code",
   "execution_count": 38,
   "metadata": {
    "collapsed": true
   },
   "outputs": [],
   "source": [
    "# gs = GridSearchCV(clf, param, n_jobs=1, verbose=1)\n",
    "# これはパラメータが多すぎる…"
   ]
  },
  {
   "cell_type": "code",
   "execution_count": 39,
   "metadata": {
    "collapsed": true
   },
   "outputs": [],
   "source": [
    "from sklearn.model_selection import RandomizedSearchCV\n",
    "\n",
    "gs = RandomizedSearchCV(clf, param, n_iter=20, n_jobs=1, verbose=2)\n",
    "# ランダムに幾つか試してsearchする"
   ]
  },
  {
   "cell_type": "code",
   "execution_count": 40,
   "metadata": {
    "collapsed": false
   },
   "outputs": [
    {
     "name": "stdout",
     "output_type": "stream",
     "text": [
      "Fitting 3 folds for each of 20 candidates, totalling 60 fits\n",
      "[CV] hidden_layer_sizes=(100,), activation=relu, alpha=0.1, beta_1=0.6, beta_2=0.8 \n",
      "[CV]  hidden_layer_sizes=(100,), activation=relu, alpha=0.1, beta_1=0.6, beta_2=0.8, total=   0.5s\n",
      "[CV] hidden_layer_sizes=(100,), activation=relu, alpha=0.1, beta_1=0.6, beta_2=0.8 \n"
     ]
    },
    {
     "name": "stderr",
     "output_type": "stream",
     "text": [
      "[Parallel(n_jobs=1)]: Done   1 out of   1 | elapsed:    0.5s remaining:    0.0s\n"
     ]
    },
    {
     "name": "stdout",
     "output_type": "stream",
     "text": [
      "[CV]  hidden_layer_sizes=(100,), activation=relu, alpha=0.1, beta_1=0.6, beta_2=0.8, total=   0.5s\n",
      "[CV] hidden_layer_sizes=(100,), activation=relu, alpha=0.1, beta_1=0.6, beta_2=0.8 \n",
      "[CV]  hidden_layer_sizes=(100,), activation=relu, alpha=0.1, beta_1=0.6, beta_2=0.8, total=   0.5s\n",
      "[CV] hidden_layer_sizes=(100, 1000, 50), activation=tanh, alpha=0.01, beta_1=0.6, beta_2=0.9 \n",
      "[CV]  hidden_layer_sizes=(100, 1000, 50), activation=tanh, alpha=0.01, beta_1=0.6, beta_2=0.9, total=   0.7s\n",
      "[CV] hidden_layer_sizes=(100, 1000, 50), activation=tanh, alpha=0.01, beta_1=0.6, beta_2=0.9 \n",
      "[CV]  hidden_layer_sizes=(100, 1000, 50), activation=tanh, alpha=0.01, beta_1=0.6, beta_2=0.9, total=   0.5s\n",
      "[CV] hidden_layer_sizes=(100, 1000, 50), activation=tanh, alpha=0.01, beta_1=0.6, beta_2=0.9 \n",
      "[CV]  hidden_layer_sizes=(100, 1000, 50), activation=tanh, alpha=0.01, beta_1=0.6, beta_2=0.9, total=   1.0s\n",
      "[CV] hidden_layer_sizes=(100,), activation=identity, alpha=0.0001, beta_1=0.7, beta_2=0.8 \n",
      "[CV]  hidden_layer_sizes=(100,), activation=identity, alpha=0.0001, beta_1=0.7, beta_2=0.8, total=   0.3s\n",
      "[CV] hidden_layer_sizes=(100,), activation=identity, alpha=0.0001, beta_1=0.7, beta_2=0.8 \n",
      "[CV]  hidden_layer_sizes=(100,), activation=identity, alpha=0.0001, beta_1=0.7, beta_2=0.8, total=   0.4s\n",
      "[CV] hidden_layer_sizes=(100,), activation=identity, alpha=0.0001, beta_1=0.7, beta_2=0.8 \n",
      "[CV]  hidden_layer_sizes=(100,), activation=identity, alpha=0.0001, beta_1=0.7, beta_2=0.8, total=   0.4s\n",
      "[CV] hidden_layer_sizes=(50,), activation=logistic, alpha=0.01, beta_1=0.5, beta_2=0.8 \n",
      "[CV]  hidden_layer_sizes=(50,), activation=logistic, alpha=0.01, beta_1=0.5, beta_2=0.8, total=   0.8s\n",
      "[CV] hidden_layer_sizes=(50,), activation=logistic, alpha=0.01, beta_1=0.5, beta_2=0.8 \n",
      "[CV]  hidden_layer_sizes=(50,), activation=logistic, alpha=0.01, beta_1=0.5, beta_2=0.8, total=   1.0s\n",
      "[CV] hidden_layer_sizes=(50,), activation=logistic, alpha=0.01, beta_1=0.5, beta_2=0.8 \n",
      "[CV]  hidden_layer_sizes=(50,), activation=logistic, alpha=0.01, beta_1=0.5, beta_2=0.8, total=   0.8s\n",
      "[CV] hidden_layer_sizes=(50, 50), activation=relu, alpha=0.1, beta_1=0.7, beta_2=0.7 \n",
      "[CV]  hidden_layer_sizes=(50, 50), activation=relu, alpha=0.1, beta_1=0.7, beta_2=0.7, total=   0.3s\n",
      "[CV] hidden_layer_sizes=(50, 50), activation=relu, alpha=0.1, beta_1=0.7, beta_2=0.7 \n",
      "[CV]  hidden_layer_sizes=(50, 50), activation=relu, alpha=0.1, beta_1=0.7, beta_2=0.7, total=   0.4s\n",
      "[CV] hidden_layer_sizes=(50, 50), activation=relu, alpha=0.1, beta_1=0.7, beta_2=0.7 \n",
      "[CV]  hidden_layer_sizes=(50, 50), activation=relu, alpha=0.1, beta_1=0.7, beta_2=0.7, total=   0.4s\n",
      "[CV] hidden_layer_sizes=(10,), activation=relu, alpha=0.1, beta_1=0.8, beta_2=0.9 \n",
      "[CV]  hidden_layer_sizes=(10,), activation=relu, alpha=0.1, beta_1=0.8, beta_2=0.9, total=   0.7s\n",
      "[CV] hidden_layer_sizes=(10,), activation=relu, alpha=0.1, beta_1=0.8, beta_2=0.9 \n",
      "[CV]  hidden_layer_sizes=(10,), activation=relu, alpha=0.1, beta_1=0.8, beta_2=0.9, total=   0.6s\n",
      "[CV] hidden_layer_sizes=(10,), activation=relu, alpha=0.1, beta_1=0.8, beta_2=0.9 \n",
      "[CV]  hidden_layer_sizes=(10,), activation=relu, alpha=0.1, beta_1=0.8, beta_2=0.9, total=   0.7s\n",
      "[CV] hidden_layer_sizes=(100,), activation=tanh, alpha=0.01, beta_1=0.5, beta_2=0.7 \n",
      "[CV]  hidden_layer_sizes=(100,), activation=tanh, alpha=0.01, beta_1=0.5, beta_2=0.7, total=   0.4s\n",
      "[CV] hidden_layer_sizes=(100,), activation=tanh, alpha=0.01, beta_1=0.5, beta_2=0.7 \n",
      "[CV]  hidden_layer_sizes=(100,), activation=tanh, alpha=0.01, beta_1=0.5, beta_2=0.7, total=   0.4s\n",
      "[CV] hidden_layer_sizes=(100,), activation=tanh, alpha=0.01, beta_1=0.5, beta_2=0.7 \n",
      "[CV]  hidden_layer_sizes=(100,), activation=tanh, alpha=0.01, beta_1=0.5, beta_2=0.7, total=   0.6s\n",
      "[CV] hidden_layer_sizes=(5, 5), activation=identity, alpha=1e-05, beta_1=0.8, beta_2=0.9 \n",
      "[CV]  hidden_layer_sizes=(5, 5), activation=identity, alpha=1e-05, beta_1=0.8, beta_2=0.9, total=   0.5s\n",
      "[CV] hidden_layer_sizes=(5, 5), activation=identity, alpha=1e-05, beta_1=0.8, beta_2=0.9 \n",
      "[CV]  hidden_layer_sizes=(5, 5), activation=identity, alpha=1e-05, beta_1=0.8, beta_2=0.9, total=   0.6s\n",
      "[CV] hidden_layer_sizes=(5, 5), activation=identity, alpha=1e-05, beta_1=0.8, beta_2=0.9 \n",
      "[CV]  hidden_layer_sizes=(5, 5), activation=identity, alpha=1e-05, beta_1=0.8, beta_2=0.9, total=   0.5s\n",
      "[CV] hidden_layer_sizes=(100, 1000, 50), activation=tanh, alpha=0.0001, beta_1=0.8, beta_2=0.9 \n",
      "[CV]  hidden_layer_sizes=(100, 1000, 50), activation=tanh, alpha=0.0001, beta_1=0.8, beta_2=0.9, total=   0.6s\n",
      "[CV] hidden_layer_sizes=(100, 1000, 50), activation=tanh, alpha=0.0001, beta_1=0.8, beta_2=0.9 \n",
      "[CV]  hidden_layer_sizes=(100, 1000, 50), activation=tanh, alpha=0.0001, beta_1=0.8, beta_2=0.9, total=   0.9s\n",
      "[CV] hidden_layer_sizes=(100, 1000, 50), activation=tanh, alpha=0.0001, beta_1=0.8, beta_2=0.9 \n",
      "[CV]  hidden_layer_sizes=(100, 1000, 50), activation=tanh, alpha=0.0001, beta_1=0.8, beta_2=0.9, total=   0.6s\n",
      "[CV] hidden_layer_sizes=(10, 5), activation=tanh, alpha=1, beta_1=0.8, beta_2=0.8 \n",
      "[CV]  hidden_layer_sizes=(10, 5), activation=tanh, alpha=1, beta_1=0.8, beta_2=0.8, total=   0.6s\n",
      "[CV] hidden_layer_sizes=(10, 5), activation=tanh, alpha=1, beta_1=0.8, beta_2=0.8 \n",
      "[CV]  hidden_layer_sizes=(10, 5), activation=tanh, alpha=1, beta_1=0.8, beta_2=0.8, total=   0.6s\n",
      "[CV] hidden_layer_sizes=(10, 5), activation=tanh, alpha=1, beta_1=0.8, beta_2=0.8 \n",
      "[CV]  hidden_layer_sizes=(10, 5), activation=tanh, alpha=1, beta_1=0.8, beta_2=0.8, total=   0.7s\n",
      "[CV] hidden_layer_sizes=(10, 10, 10), activation=logistic, alpha=1, beta_1=0.9, beta_2=0.9 \n",
      "[CV]  hidden_layer_sizes=(10, 10, 10), activation=logistic, alpha=1, beta_1=0.9, beta_2=0.9, total=   0.2s\n",
      "[CV] hidden_layer_sizes=(10, 10, 10), activation=logistic, alpha=1, beta_1=0.9, beta_2=0.9 \n",
      "[CV]  hidden_layer_sizes=(10, 10, 10), activation=logistic, alpha=1, beta_1=0.9, beta_2=0.9, total=   0.2s\n",
      "[CV] hidden_layer_sizes=(10, 10, 10), activation=logistic, alpha=1, beta_1=0.9, beta_2=0.9 \n",
      "[CV]  hidden_layer_sizes=(10, 10, 10), activation=logistic, alpha=1, beta_1=0.9, beta_2=0.9, total=   0.2s\n",
      "[CV] hidden_layer_sizes=(50, 50), activation=identity, alpha=1e-05, beta_1=0.8, beta_2=0.8 \n",
      "[CV]  hidden_layer_sizes=(50, 50), activation=identity, alpha=1e-05, beta_1=0.8, beta_2=0.8, total=   0.2s\n",
      "[CV] hidden_layer_sizes=(50, 50), activation=identity, alpha=1e-05, beta_1=0.8, beta_2=0.8 \n",
      "[CV]  hidden_layer_sizes=(50, 50), activation=identity, alpha=1e-05, beta_1=0.8, beta_2=0.8, total=   0.2s\n",
      "[CV] hidden_layer_sizes=(50, 50), activation=identity, alpha=1e-05, beta_1=0.8, beta_2=0.8 \n",
      "[CV]  hidden_layer_sizes=(50, 50), activation=identity, alpha=1e-05, beta_1=0.8, beta_2=0.8, total=   0.2s\n",
      "[CV] hidden_layer_sizes=(100, 1000, 50), activation=relu, alpha=1, beta_1=0.5, beta_2=0.9 \n",
      "[CV]  hidden_layer_sizes=(100, 1000, 50), activation=relu, alpha=1, beta_1=0.5, beta_2=0.9, total=   2.2s\n",
      "[CV] hidden_layer_sizes=(100, 1000, 50), activation=relu, alpha=1, beta_1=0.5, beta_2=0.9 \n",
      "[CV]  hidden_layer_sizes=(100, 1000, 50), activation=relu, alpha=1, beta_1=0.5, beta_2=0.9, total=   1.3s\n",
      "[CV] hidden_layer_sizes=(100, 1000, 50), activation=relu, alpha=1, beta_1=0.5, beta_2=0.9 \n",
      "[CV]  hidden_layer_sizes=(100, 1000, 50), activation=relu, alpha=1, beta_1=0.5, beta_2=0.9, total=   1.2s\n",
      "[CV] hidden_layer_sizes=(100, 100), activation=identity, alpha=1e-05, beta_1=0.7, beta_2=0.8 \n",
      "[CV]  hidden_layer_sizes=(100, 100), activation=identity, alpha=1e-05, beta_1=0.7, beta_2=0.8, total=   0.2s\n",
      "[CV] hidden_layer_sizes=(100, 100), activation=identity, alpha=1e-05, beta_1=0.7, beta_2=0.8 \n",
      "[CV]  hidden_layer_sizes=(100, 100), activation=identity, alpha=1e-05, beta_1=0.7, beta_2=0.8, total=   0.3s\n",
      "[CV] hidden_layer_sizes=(100, 100), activation=identity, alpha=1e-05, beta_1=0.7, beta_2=0.8 \n",
      "[CV]  hidden_layer_sizes=(100, 100), activation=identity, alpha=1e-05, beta_1=0.7, beta_2=0.8, total=   0.2s\n",
      "[CV] hidden_layer_sizes=(100, 1000, 50), activation=tanh, alpha=0.1, beta_1=0.9, beta_2=0.999 \n",
      "[CV]  hidden_layer_sizes=(100, 1000, 50), activation=tanh, alpha=0.1, beta_1=0.9, beta_2=0.999, total=   1.2s\n",
      "[CV] hidden_layer_sizes=(100, 1000, 50), activation=tanh, alpha=0.1, beta_1=0.9, beta_2=0.999 \n",
      "[CV]  hidden_layer_sizes=(100, 1000, 50), activation=tanh, alpha=0.1, beta_1=0.9, beta_2=0.999, total=   1.9s\n",
      "[CV] hidden_layer_sizes=(100, 1000, 50), activation=tanh, alpha=0.1, beta_1=0.9, beta_2=0.999 \n",
      "[CV]  hidden_layer_sizes=(100, 1000, 50), activation=tanh, alpha=0.1, beta_1=0.9, beta_2=0.999, total=   1.8s\n",
      "[CV] hidden_layer_sizes=(100, 1000, 50), activation=relu, alpha=1e-05, beta_1=0.8, beta_2=0.9 \n",
      "[CV]  hidden_layer_sizes=(100, 1000, 50), activation=relu, alpha=1e-05, beta_1=0.8, beta_2=0.9, total=   0.8s\n",
      "[CV] hidden_layer_sizes=(100, 1000, 50), activation=relu, alpha=1e-05, beta_1=0.8, beta_2=0.9 \n",
      "[CV]  hidden_layer_sizes=(100, 1000, 50), activation=relu, alpha=1e-05, beta_1=0.8, beta_2=0.9, total=   0.9s\n",
      "[CV] hidden_layer_sizes=(100, 1000, 50), activation=relu, alpha=1e-05, beta_1=0.8, beta_2=0.9 \n",
      "[CV]  hidden_layer_sizes=(100, 1000, 50), activation=relu, alpha=1e-05, beta_1=0.8, beta_2=0.9, total=   0.9s\n",
      "[CV] hidden_layer_sizes=(100, 100), activation=tanh, alpha=1, beta_1=0.8, beta_2=0.7 \n",
      "[CV]  hidden_layer_sizes=(100, 100), activation=tanh, alpha=1, beta_1=0.8, beta_2=0.7, total=   0.7s\n",
      "[CV] hidden_layer_sizes=(100, 100), activation=tanh, alpha=1, beta_1=0.8, beta_2=0.7 \n",
      "[CV]  hidden_layer_sizes=(100, 100), activation=tanh, alpha=1, beta_1=0.8, beta_2=0.7, total=   0.6s\n",
      "[CV] hidden_layer_sizes=(100, 100), activation=tanh, alpha=1, beta_1=0.8, beta_2=0.7 \n",
      "[CV]  hidden_layer_sizes=(100, 100), activation=tanh, alpha=1, beta_1=0.8, beta_2=0.7, total=   0.6s\n",
      "[CV] hidden_layer_sizes=(1000, 100, 50), activation=relu, alpha=0.001, beta_1=0.8, beta_2=0.9 \n",
      "[CV]  hidden_layer_sizes=(1000, 100, 50), activation=relu, alpha=0.001, beta_1=0.8, beta_2=0.9, total=   0.4s\n",
      "[CV] hidden_layer_sizes=(1000, 100, 50), activation=relu, alpha=0.001, beta_1=0.8, beta_2=0.9 \n",
      "[CV]  hidden_layer_sizes=(1000, 100, 50), activation=relu, alpha=0.001, beta_1=0.8, beta_2=0.9, total=   0.8s\n",
      "[CV] hidden_layer_sizes=(1000, 100, 50), activation=relu, alpha=0.001, beta_1=0.8, beta_2=0.9 \n",
      "[CV]  hidden_layer_sizes=(1000, 100, 50), activation=relu, alpha=0.001, beta_1=0.8, beta_2=0.9, total=   0.9s\n",
      "[CV] hidden_layer_sizes=(30, 20, 10), activation=tanh, alpha=1, beta_1=0.9, beta_2=0.999 \n",
      "[CV]  hidden_layer_sizes=(30, 20, 10), activation=tanh, alpha=1, beta_1=0.9, beta_2=0.999, total=   0.7s\n",
      "[CV] hidden_layer_sizes=(30, 20, 10), activation=tanh, alpha=1, beta_1=0.9, beta_2=0.999 \n",
      "[CV]  hidden_layer_sizes=(30, 20, 10), activation=tanh, alpha=1, beta_1=0.9, beta_2=0.999, total=   0.7s\n",
      "[CV] hidden_layer_sizes=(30, 20, 10), activation=tanh, alpha=1, beta_1=0.9, beta_2=0.999 \n",
      "[CV]  hidden_layer_sizes=(30, 20, 10), activation=tanh, alpha=1, beta_1=0.9, beta_2=0.999, total=   0.7s\n",
      "[CV] hidden_layer_sizes=(5, 5), activation=identity, alpha=1, beta_1=0.5, beta_2=0.9 \n",
      "[CV]  hidden_layer_sizes=(5, 5), activation=identity, alpha=1, beta_1=0.5, beta_2=0.9, total=   0.5s\n",
      "[CV] hidden_layer_sizes=(5, 5), activation=identity, alpha=1, beta_1=0.5, beta_2=0.9 \n",
      "[CV]  hidden_layer_sizes=(5, 5), activation=identity, alpha=1, beta_1=0.5, beta_2=0.9, total=   0.5s\n",
      "[CV] hidden_layer_sizes=(5, 5), activation=identity, alpha=1, beta_1=0.5, beta_2=0.9 \n",
      "[CV]  hidden_layer_sizes=(5, 5), activation=identity, alpha=1, beta_1=0.5, beta_2=0.9, total=   0.5s\n"
     ]
    },
    {
     "name": "stderr",
     "output_type": "stream",
     "text": [
      "[Parallel(n_jobs=1)]: Done  60 out of  60 | elapsed:   39.8s finished\n"
     ]
    },
    {
     "data": {
      "text/plain": [
       "RandomizedSearchCV(cv=None, error_score='raise',\n",
       "          estimator=MLPClassifier(activation='relu', alpha=0.0001, batch_size='auto', beta_1=0.9,\n",
       "       beta_2=0.999, early_stopping=False, epsilon=1e-08,\n",
       "       hidden_layer_sizes=(100,), learning_rate='constant',\n",
       "       learning_rate_init=0.001, max_iter=2000, momentum=0.9,\n",
       "       nesterovs_momentum=True, power_t=0.5, random_state=None,\n",
       "       shuffle=True, solver='adam', tol=0.0001, validation_fraction=0.1,\n",
       "       verbose=False, warm_start=False),\n",
       "          fit_params={}, iid=True, n_iter=20, n_jobs=1,\n",
       "          param_distributions={'hidden_layer_sizes': [(10,), (50,), (100,), (10, 10), (50, 50), (100, 100), (10, 5), (5, 5), (30, 20, 10), (100, 1000, 50), (1000, 100, 50), (10, 10, 10), (50, 50, 50), (100, 100, 100)], 'beta_2': [0.999, 0.9, 0.8, 0.7], 'beta_1': [0.9, 0.8, 0.7, 0.6, 0.5], 'alpha': [1e-05, 0.0001, 0.001, 0.01, 0.1, 1], 'activation': ['identity', 'logistic', 'tanh', 'relu']},\n",
       "          pre_dispatch='2*n_jobs', random_state=None, refit=True,\n",
       "          return_train_score=True, scoring=None, verbose=2)"
      ]
     },
     "execution_count": 40,
     "metadata": {},
     "output_type": "execute_result"
    }
   ],
   "source": [
    "gs.fit(X_train, y_train)"
   ]
  },
  {
   "cell_type": "code",
   "execution_count": 41,
   "metadata": {
    "collapsed": false
   },
   "outputs": [
    {
     "data": {
      "text/plain": [
       "({'activation': 'tanh',\n",
       "  'alpha': 1,\n",
       "  'beta_1': 0.9,\n",
       "  'beta_2': 0.999,\n",
       "  'hidden_layer_sizes': (30, 20, 10)},\n",
       " 0.97142857142857142,\n",
       " MLPClassifier(activation='tanh', alpha=1, batch_size='auto', beta_1=0.9,\n",
       "        beta_2=0.999, early_stopping=False, epsilon=1e-08,\n",
       "        hidden_layer_sizes=(30, 20, 10), learning_rate='constant',\n",
       "        learning_rate_init=0.001, max_iter=2000, momentum=0.9,\n",
       "        nesterovs_momentum=True, power_t=0.5, random_state=None,\n",
       "        shuffle=True, solver='adam', tol=0.0001, validation_fraction=0.1,\n",
       "        verbose=False, warm_start=False))"
      ]
     },
     "execution_count": 41,
     "metadata": {},
     "output_type": "execute_result"
    }
   ],
   "source": [
    "gs.best_params_, gs.best_score_, gs.best_estimator_"
   ]
  },
  {
   "cell_type": "code",
   "execution_count": 42,
   "metadata": {
    "collapsed": false
   },
   "outputs": [
    {
     "data": {
      "text/plain": [
       "0.98245614035087714"
      ]
     },
     "execution_count": 42,
     "metadata": {},
     "output_type": "execute_result"
    }
   ],
   "source": [
    "gs.score(X_test, y_test)"
   ]
  },
  {
   "cell_type": "markdown",
   "metadata": {},
   "source": [
    "# パイプライン：PCAとロジスティック回帰を一緒に"
   ]
  },
  {
   "cell_type": "code",
   "execution_count": 43,
   "metadata": {
    "collapsed": true
   },
   "outputs": [],
   "source": [
    "import numpy as np\n",
    "import matplotlib.pyplot as plt\n",
    "%matplotlib inline"
   ]
  },
  {
   "cell_type": "code",
   "execution_count": 44,
   "metadata": {
    "collapsed": true
   },
   "outputs": [],
   "source": [
    "from sklearn.datasets import load_breast_cancer\n",
    "data = load_breast_cancer()\n",
    "\n",
    "X = data.data\n",
    "y = data.target"
   ]
  },
  {
   "cell_type": "code",
   "execution_count": 45,
   "metadata": {
    "collapsed": true
   },
   "outputs": [],
   "source": [
    "from sklearn.model_selection import train_test_split\n",
    "\n",
    "X_train, X_test, y_train, y_test = train_test_split(X, y, train_size=0.8)"
   ]
  },
  {
   "cell_type": "code",
   "execution_count": 46,
   "metadata": {
    "collapsed": true
   },
   "outputs": [],
   "source": [
    "from sklearn.decomposition import PCA\n",
    "\n",
    "pca = PCA(whiten=True)"
   ]
  },
  {
   "cell_type": "code",
   "execution_count": 47,
   "metadata": {
    "collapsed": false
   },
   "outputs": [
    {
     "data": {
      "text/plain": [
       "PCA(copy=True, iterated_power='auto', n_components=None, random_state=None,\n",
       "  svd_solver='auto', tol=0.0, whiten=True)"
      ]
     },
     "execution_count": 47,
     "metadata": {},
     "output_type": "execute_result"
    }
   ],
   "source": [
    "pca.fit(X_train)"
   ]
  },
  {
   "cell_type": "code",
   "execution_count": 49,
   "metadata": {
    "collapsed": false
   },
   "outputs": [],
   "source": [
    "X_train_pca = pca.transform(X_train)\n",
    "X_test_pca = pca.transform(X_test)"
   ]
  },
  {
   "cell_type": "code",
   "execution_count": 50,
   "metadata": {
    "collapsed": true
   },
   "outputs": [],
   "source": [
    "from sklearn.linear_model import LogisticRegression\n",
    "clf = LogisticRegression()"
   ]
  },
  {
   "cell_type": "code",
   "execution_count": 51,
   "metadata": {
    "collapsed": false
   },
   "outputs": [
    {
     "data": {
      "text/plain": [
       "0.96491228070175439"
      ]
     },
     "execution_count": 51,
     "metadata": {},
     "output_type": "execute_result"
    }
   ],
   "source": [
    "clf.fit(X_train, y_train)\n",
    "clf.score(X_test, y_test)"
   ]
  },
  {
   "cell_type": "code",
   "execution_count": 53,
   "metadata": {
    "collapsed": false
   },
   "outputs": [
    {
     "data": {
      "text/plain": [
       "0.97368421052631582"
      ]
     },
     "execution_count": 53,
     "metadata": {},
     "output_type": "execute_result"
    }
   ],
   "source": [
    "clf.fit(X_train_pca, y_train)\n",
    "clf.score(X_test_pca, y_test)"
   ]
  },
  {
   "cell_type": "code",
   "execution_count": 54,
   "metadata": {
    "collapsed": true
   },
   "outputs": [],
   "source": [
    "## whiteningしない場合にどうなるか？\n",
    "from sklearn.pipeline import Pipeline\n",
    "\n",
    "estimators = [\n",
    "    ('pca', PCA(whiten=True)),\n",
    "    ('clf',   LogisticRegression())\n",
    "]\n",
    "\n",
    "pipe = Pipeline(estimators)"
   ]
  },
  {
   "cell_type": "code",
   "execution_count": 55,
   "metadata": {
    "collapsed": false
   },
   "outputs": [
    {
     "data": {
      "text/plain": [
       "0.97368421052631582"
      ]
     },
     "execution_count": 55,
     "metadata": {},
     "output_type": "execute_result"
    }
   ],
   "source": [
    "pipe.fit(X_train, y_train)\n",
    "pipe.score(X_test, y_test)"
   ]
  },
  {
   "cell_type": "markdown",
   "metadata": {},
   "source": [
    "# パイプライン：スケーリングとSVMを一緒に"
   ]
  },
  {
   "cell_type": "code",
   "execution_count": 57,
   "metadata": {
    "collapsed": true
   },
   "outputs": [],
   "source": [
    "from sklearn.preprocessing import MinMaxScaler\n",
    "from sklearn.svm import SVC\n",
    "\n",
    "estimators = [\n",
    "    ('mms', MinMaxScaler()),\n",
    "    ('clf',   SVC(kernel='rbf', C=1e10))\n",
    "]\n",
    "\n",
    "pipe = Pipeline(estimators)"
   ]
  },
  {
   "cell_type": "code",
   "execution_count": 58,
   "metadata": {
    "collapsed": false
   },
   "outputs": [
    {
     "data": {
      "text/plain": [
       "Pipeline(steps=[('mms', MinMaxScaler(copy=True, feature_range=(0, 1))), ('clf', SVC(C=10000000000.0, cache_size=200, class_weight=None, coef0=0.0,\n",
       "  decision_function_shape=None, degree=3, gamma='auto', kernel='rbf',\n",
       "  max_iter=-1, probability=False, random_state=None, shrinking=True,\n",
       "  tol=0.001, verbose=False))])"
      ]
     },
     "execution_count": 58,
     "metadata": {},
     "output_type": "execute_result"
    }
   ],
   "source": [
    "pipe.fit(X_train, y_train)"
   ]
  },
  {
   "cell_type": "code",
   "execution_count": 59,
   "metadata": {
    "collapsed": false
   },
   "outputs": [
    {
     "data": {
      "text/plain": [
       "0.97368421052631582"
      ]
     },
     "execution_count": 59,
     "metadata": {},
     "output_type": "execute_result"
    }
   ],
   "source": [
    "pipe.score(X_test, y_test)"
   ]
  },
  {
   "cell_type": "markdown",
   "metadata": {},
   "source": [
    "# パイプライン：前処理もグリッドサーチで"
   ]
  },
  {
   "cell_type": "code",
   "execution_count": 60,
   "metadata": {
    "collapsed": true
   },
   "outputs": [],
   "source": [
    "estimators = [\n",
    "    ('pca', PCA(whiten = True)),\n",
    "    ('clf', LogisticRegression())\n",
    "]\n",
    "\n",
    "pipe = Pipeline(estimators)"
   ]
  },
  {
   "cell_type": "code",
   "execution_count": 61,
   "metadata": {
    "collapsed": false
   },
   "outputs": [
    {
     "data": {
      "text/plain": [
       "GridSearchCV(cv=None, error_score='raise',\n",
       "       estimator=Pipeline(steps=[('pca', PCA(copy=True, iterated_power='auto', n_components=None, random_state=None,\n",
       "  svd_solver='auto', tol=0.0, whiten=True)), ('clf', LogisticRegression(C=1.0, class_weight=None, dual=False, fit_intercept=True,\n",
       "          intercept_scaling=1, max_iter=100, multi_class='ovr', n_jobs=1,\n",
       "          penalty='l2', random_state=None, solver='liblinear', tol=0.0001,\n",
       "          verbose=0, warm_start=False))]),\n",
       "       fit_params={}, iid=True, n_jobs=1,\n",
       "       param_grid={'clf__C': [1e-05, 0.001, 0.01, 1, 100.0, 100000.0, 10000000000.0]},\n",
       "       pre_dispatch='2*n_jobs', refit=True, return_train_score=True,\n",
       "       scoring=None, verbose=0)"
      ]
     },
     "execution_count": 61,
     "metadata": {},
     "output_type": "execute_result"
    }
   ],
   "source": [
    "from sklearn.model_selection import GridSearchCV\n",
    "\n",
    "param = {'clf__C':[1e-5, 1e-3, 1e-2, 1, 1e2, 1e5, 1e10]}\n",
    "\n",
    "gs = GridSearchCV(pipe, param)\n",
    "gs.fit(X_train, y_train)"
   ]
  },
  {
   "cell_type": "code",
   "execution_count": 62,
   "metadata": {
    "collapsed": false
   },
   "outputs": [
    {
     "data": {
      "text/plain": [
       "({'clf__C': 1e-05},\n",
       " 0.95604395604395609,\n",
       " Pipeline(steps=[('pca', PCA(copy=True, iterated_power='auto', n_components=None, random_state=None,\n",
       "   svd_solver='auto', tol=0.0, whiten=True)), ('clf', LogisticRegression(C=1e-05, class_weight=None, dual=False, fit_intercept=True,\n",
       "           intercept_scaling=1, max_iter=100, multi_class='ovr', n_jobs=1,\n",
       "           penalty='l2', random_state=None, solver='liblinear', tol=0.0001,\n",
       "           verbose=0, warm_start=False))]))"
      ]
     },
     "execution_count": 62,
     "metadata": {},
     "output_type": "execute_result"
    }
   ],
   "source": [
    "gs.best_params_, gs.best_score_, gs.best_estimator_"
   ]
  },
  {
   "cell_type": "code",
   "execution_count": 63,
   "metadata": {
    "collapsed": false
   },
   "outputs": [
    {
     "data": {
      "text/plain": [
       "0.97368421052631582"
      ]
     },
     "execution_count": 63,
     "metadata": {},
     "output_type": "execute_result"
    }
   ],
   "source": [
    "gs.score(X_test, y_test)"
   ]
  },
  {
   "cell_type": "markdown",
   "metadata": {},
   "source": [
    "# 正則化パラメータC"
   ]
  },
  {
   "cell_type": "code",
   "execution_count": 64,
   "metadata": {
    "collapsed": false
   },
   "outputs": [
    {
     "data": {
      "text/plain": [
       "<matplotlib.figure.Figure at 0x11aa12f98>"
      ]
     },
     "metadata": {},
     "output_type": "display_data"
    }
   ],
   "source": [
    "import numpy as np\n",
    "import matplotlib.pyplot as plt\n",
    "%matplotlib inline\n",
    "\n",
    "plt.set_cmap(plt.cm.Paired) # 色指定"
   ]
  },
  {
   "cell_type": "code",
   "execution_count": 65,
   "metadata": {
    "collapsed": true
   },
   "outputs": [],
   "source": [
    "from sklearn.datasets import load_breast_cancer\n",
    "data = load_breast_cancer()\n",
    "\n",
    "X = data.data\n",
    "y = data.target"
   ]
  },
  {
   "cell_type": "code",
   "execution_count": 69,
   "metadata": {
    "collapsed": false
   },
   "outputs": [],
   "source": [
    "from sklearn.model_selection import train_test_split\n",
    "X_train, X_test, y_train, y_test = train_test_split(X, y, train_size=0.8)"
   ]
  },
  {
   "cell_type": "code",
   "execution_count": 70,
   "metadata": {
    "collapsed": true
   },
   "outputs": [],
   "source": [
    "from sklearn.preprocessing import MinMaxScaler\n",
    "scaler = MinMaxScaler()\n",
    "scaler.fit(X_train)\n",
    "\n",
    "X_train = scaler.transform(X_train)\n",
    "X_test = scaler.transform(X_test)"
   ]
  },
  {
   "cell_type": "code",
   "execution_count": 74,
   "metadata": {
    "collapsed": true
   },
   "outputs": [],
   "source": [
    "from sklearn.svm import SVC\n",
    "clf = SVC(kernel='rbf')"
   ]
  },
  {
   "cell_type": "code",
   "execution_count": 75,
   "metadata": {
    "collapsed": false
   },
   "outputs": [
    {
     "data": {
      "text/plain": [
       "0.92982456140350878"
      ]
     },
     "execution_count": 75,
     "metadata": {},
     "output_type": "execute_result"
    }
   ],
   "source": [
    "clf.C = 1\n",
    "clf.fit(X_train, y_train)\n",
    "clf.score(X_test, y_test)"
   ]
  },
  {
   "cell_type": "code",
   "execution_count": 76,
   "metadata": {
    "collapsed": false
   },
   "outputs": [
    {
     "data": {
      "text/plain": [
       "0.95614035087719296"
      ]
     },
     "execution_count": 76,
     "metadata": {},
     "output_type": "execute_result"
    }
   ],
   "source": [
    "clf.C = 1000\n",
    "clf.fit(X_train, y_train)\n",
    "clf.score(X_test, y_test)"
   ]
  },
  {
   "cell_type": "code",
   "execution_count": 77,
   "metadata": {
    "collapsed": true
   },
   "outputs": [],
   "source": [
    "import time"
   ]
  },
  {
   "cell_type": "code",
   "execution_count": 80,
   "metadata": {
    "collapsed": false
   },
   "outputs": [
    {
     "name": "stdout",
     "output_type": "stream",
     "text": [
      "1e-20 0.701754385965\n",
      "1e-19 0.701754385965\n",
      "1e-18 0.701754385965\n",
      "1e-17 0.701754385965\n",
      "1e-16 0.701754385965\n",
      "1e-15 0.701754385965\n",
      "1e-14 0.701754385965\n",
      "1e-13 0.701754385965\n",
      "1e-12 0.701754385965\n",
      "1e-11 0.701754385965\n",
      "1e-10 0.701754385965\n",
      "1e-09 0.701754385965\n",
      "1e-08 0.701754385965\n",
      "1e-07 0.701754385965\n",
      "1e-06 0.701754385965\n",
      "1e-05 0.701754385965\n",
      "0.0001 0.701754385965\n",
      "0.001 0.701754385965\n",
      "0.01 0.701754385965\n",
      "0.1 0.868421052632\n",
      "1.0 0.929824561404\n",
      "10.0 0.956140350877\n",
      "100.0 0.956140350877\n",
      "1000.0 0.956140350877\n",
      "10000.0 0.964912280702\n",
      "100000.0 0.964912280702\n",
      "1000000.0 0.964912280702\n",
      "10000000.0 0.964912280702\n",
      "100000000.0 0.964912280702\n",
      "1000000000.0 0.964912280702\n",
      "10000000000.0 0.964912280702\n",
      "100000000000.0 0.964912280702\n",
      "1e+12 0.964912280702\n",
      "1e+13 0.964912280702\n",
      "1e+14 0.964912280702\n",
      "1e+15 0.964912280702\n",
      "1e+16 0.964912280702\n",
      "1e+17 0.964912280702\n",
      "1e+18 0.964912280702\n",
      "1e+19 0.964912280702\n"
     ]
    }
   ],
   "source": [
    "C_range_exp = np.arange(-20., 20.)\n",
    "C_range = 10 ** C_range_exp\n",
    "scores = []\n",
    "comp_time = []\n",
    "\n",
    "for C in C_range:\n",
    "    clf.C = C\n",
    "    \n",
    "    st = time.time()\n",
    "    clf.fit(X_train, y_train)\n",
    "    comp_time.append(time.time() - st)\n",
    "    \n",
    "    score = clf.score(X_test, y_test)\n",
    "    print(C, score)\n",
    "    scores.append(score)"
   ]
  },
  {
   "cell_type": "code",
   "execution_count": 81,
   "metadata": {
    "collapsed": false
   },
   "outputs": [
    {
     "data": {
      "text/plain": [
       "[0.70175438596491224,\n",
       " 0.70175438596491224,\n",
       " 0.70175438596491224,\n",
       " 0.70175438596491224,\n",
       " 0.70175438596491224,\n",
       " 0.70175438596491224,\n",
       " 0.70175438596491224,\n",
       " 0.70175438596491224,\n",
       " 0.70175438596491224,\n",
       " 0.70175438596491224,\n",
       " 0.70175438596491224,\n",
       " 0.70175438596491224,\n",
       " 0.70175438596491224,\n",
       " 0.70175438596491224,\n",
       " 0.70175438596491224,\n",
       " 0.70175438596491224,\n",
       " 0.70175438596491224,\n",
       " 0.70175438596491224,\n",
       " 0.70175438596491224,\n",
       " 0.86842105263157898,\n",
       " 0.92982456140350878,\n",
       " 0.95614035087719296,\n",
       " 0.95614035087719296,\n",
       " 0.95614035087719296,\n",
       " 0.96491228070175439,\n",
       " 0.96491228070175439,\n",
       " 0.96491228070175439,\n",
       " 0.96491228070175439,\n",
       " 0.96491228070175439,\n",
       " 0.96491228070175439,\n",
       " 0.96491228070175439,\n",
       " 0.96491228070175439,\n",
       " 0.96491228070175439,\n",
       " 0.96491228070175439,\n",
       " 0.96491228070175439,\n",
       " 0.96491228070175439,\n",
       " 0.96491228070175439,\n",
       " 0.96491228070175439,\n",
       " 0.96491228070175439,\n",
       " 0.96491228070175439]"
      ]
     },
     "execution_count": 81,
     "metadata": {},
     "output_type": "execute_result"
    }
   ],
   "source": [
    "scores"
   ]
  },
  {
   "cell_type": "code",
   "execution_count": 82,
   "metadata": {
    "collapsed": false
   },
   "outputs": [
    {
     "data": {
      "image/png": "[encoded data removed]",
      "text/plain": [
       "<matplotlib.figure.Figure at 0x11ad1fef0>"
      ]
     },
     "metadata": {},
     "output_type": "display_data"
    },
    {
     "data": {
      "image/png": "[encoded data removed]",
      "text/plain": [
       "<matplotlib.figure.Figure at 0x11ad33a58>"
      ]
     },
     "metadata": {},
     "output_type": "display_data"
    }
   ],
   "source": [
    "plt.plot(C_range_exp, scores)\n",
    "plt.ylabel(\"accuracy\")\n",
    "plt.xlabel(r\"$\\log_{10}$(C)\");\n",
    "plt.show()\n",
    "\n",
    "plt.plot(C_range_exp, comp_time)\n",
    "plt.ylabel(\"computation time [sec]\")\n",
    "plt.xlabel(r\"$\\log_{10}$(C)\");"
   ]
  },
  {
   "cell_type": "code",
   "execution_count": 83,
   "metadata": {
    "collapsed": true
   },
   "outputs": [],
   "source": [
    "from sklearn.linear_model import LogisticRegression\n",
    "clf = LogisticRegression()"
   ]
  },
  {
   "cell_type": "code",
   "execution_count": 84,
   "metadata": {
    "collapsed": false
   },
   "outputs": [
    {
     "data": {
      "text/plain": [
       "0.93859649122807021"
      ]
     },
     "execution_count": 84,
     "metadata": {},
     "output_type": "execute_result"
    }
   ],
   "source": [
    "clf.C = 1\n",
    "clf.fit(X_train, y_train)\n",
    "clf.score(X_test, y_test)"
   ]
  },
  {
   "cell_type": "code",
   "execution_count": 86,
   "metadata": {
    "collapsed": false
   },
   "outputs": [
    {
     "data": {
      "text/plain": [
       "0.96491228070175439"
      ]
     },
     "execution_count": 86,
     "metadata": {},
     "output_type": "execute_result"
    }
   ],
   "source": [
    "clf.C = 100\n",
    "clf.fit(X_train, y_train)\n",
    "clf.score(X_test, y_test)"
   ]
  },
  {
   "cell_type": "code",
   "execution_count": 87,
   "metadata": {
    "collapsed": false
   },
   "outputs": [
    {
     "name": "stdout",
     "output_type": "stream",
     "text": [
      "1e-20 0.298245614035\n",
      "1e-19 0.298245614035\n",
      "1e-18 0.298245614035\n",
      "1e-17 0.298245614035\n",
      "1e-16 0.298245614035\n",
      "1e-15 0.894736842105\n",
      "1e-14 0.894736842105\n",
      "1e-13 0.894736842105\n",
      "1e-12 0.894736842105\n",
      "1e-11 0.894736842105\n",
      "1e-10 0.894736842105\n",
      "1e-09 0.894736842105\n",
      "1e-08 0.894736842105\n",
      "1e-07 0.894736842105\n",
      "1e-06 0.894736842105\n",
      "1e-05 0.894736842105\n",
      "0.0001 0.894736842105\n",
      "0.001 0.894736842105\n",
      "0.01 0.894736842105\n",
      "0.1 0.921052631579\n",
      "1.0 0.938596491228\n",
      "10.0 0.956140350877\n",
      "100.0 0.964912280702\n",
      "1000.0 0.964912280702\n",
      "10000.0 0.964912280702\n",
      "100000.0 0.964912280702\n",
      "1000000.0 0.947368421053\n",
      "10000000.0 0.947368421053\n",
      "100000000.0 0.947368421053\n",
      "1000000000.0 0.947368421053\n",
      "10000000000.0 0.947368421053\n",
      "100000000000.0 0.947368421053\n",
      "1e+12 0.947368421053\n",
      "1e+13 0.947368421053\n",
      "1e+14 0.947368421053\n",
      "1e+15 0.947368421053\n",
      "1e+16 0.947368421053\n",
      "1e+17 0.947368421053\n",
      "1e+18 0.947368421053\n",
      "1e+19 0.947368421053\n"
     ]
    }
   ],
   "source": [
    "C_range_exp = np.arange(-20., 20.)\n",
    "C_range = 10 ** C_range_exp\n",
    "scores = []\n",
    "comp_time = []\n",
    "\n",
    "for C in C_range:\n",
    "    clf.C = C\n",
    "    \n",
    "    st = time.time()\n",
    "    clf.fit(X_train, y_train)\n",
    "    comp_time.append(time.time() - st)\n",
    "    \n",
    "    score = clf.score(X_test, y_test)\n",
    "    print(C, score)\n",
    "    scores.append(score)"
   ]
  },
  {
   "cell_type": "code",
   "execution_count": 88,
   "metadata": {
    "collapsed": false,
    "scrolled": false
   },
   "outputs": [
    {
     "data": {
      "image/png": "[encoded data removed]",
      "text/plain": [
       "<matplotlib.figure.Figure at 0x1194c3518>"
      ]
     },
     "metadata": {},
     "output_type": "display_data"
    },
    {
     "data": {
      "image/png": "[encoded data removed]",
      "text/plain": [
       "<matplotlib.figure.Figure at 0x1191b4b00>"
      ]
     },
     "metadata": {},
     "output_type": "display_data"
    }
   ],
   "source": [
    "plt.plot(C_range_exp, scores)\n",
    "plt.ylabel(\"accuracy\")\n",
    "plt.xlabel(r\"$\\log_{10}$(C)\");\n",
    "plt.show()\n",
    "\n",
    "plt.plot(C_range_exp, comp_time)\n",
    "plt.ylabel(\"computation time [sec]\")\n",
    "plt.xlabel(r\"$\\log_{10}$(C)\");"
   ]
  },
  {
   "cell_type": "code",
   "execution_count": 91,
   "metadata": {
    "collapsed": false
   },
   "outputs": [
    {
     "data": {
      "text/plain": [
       "<matplotlib.collections.PathCollection at 0x11977b860>"
      ]
     },
     "execution_count": 91,
     "metadata": {},
     "output_type": "execute_result"
    },
    {
     "data": {
      "image/png": "[encoded data removed]",
      "text/plain": [
       "<matplotlib.figure.Figure at 0x119348dd8>"
      ]
     },
     "metadata": {},
     "output_type": "display_data"
    }
   ],
   "source": [
    "from sklearn.datasets import make_blobs\n",
    "\n",
    "X, y = make_blobs(n_samples=200,\n",
    "                 n_features=2,\n",
    "                 centers=2,\n",
    "                 cluster_std=2,\n",
    "                 random_state=3\n",
    "                 )\n",
    "plt.scatter(X[:,0], X[:,1], c=y, s=50)"
   ]
  },
  {
   "cell_type": "code",
   "execution_count": null,
   "metadata": {
    "collapsed": true
   },
   "outputs": [],
   "source": [
    "# 省略"
   ]
  },
  {
   "cell_type": "markdown",
   "metadata": {},
   "source": [
    "# 正則化パラメータと過学習"
   ]
  },
  {
   "cell_type": "code",
   "execution_count": 92,
   "metadata": {
    "collapsed": true
   },
   "outputs": [],
   "source": [
    "# 省略"
   ]
  }
 ],
 "metadata": {
  "anaconda-cloud": {},
  "kernelspec": {
   "display_name": "Python [default]",
   "language": "python",
   "name": "python3"
  },
  "language_info": {
   "codemirror_mode": {
    "name": "ipython",
    "version": 3
   },
   "file_extension": ".py",
   "mimetype": "text/x-python",
   "name": "python",
   "nbconvert_exporter": "python",
   "pygments_lexer": "ipython3",
   "version": "3.5.3"
  }
 },
 "nbformat": 4,
 "nbformat_minor": 1
}
