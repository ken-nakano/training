{
 "cells": [
  {
   "cell_type": "markdown",
   "metadata": {},
   "source": [
    "# 20カテゴリのテキスト分類"
   ]
  },
  {
   "cell_type": "code",
   "execution_count": 6,
   "metadata": {
    "collapsed": true
   },
   "outputs": [],
   "source": [
    "import numpy as np\n",
    "from sklearn.datasets import fetch_20newsgroups"
   ]
  },
  {
   "cell_type": "code",
   "execution_count": 9,
   "metadata": {
    "collapsed": false
   },
   "outputs": [],
   "source": [
    "newsgroups_train = fetch_20newsgroups(subset='train')\n",
    "newsgroups_test  = fetch_20newsgroups(subset='test')"
   ]
  },
  {
   "cell_type": "code",
   "execution_count": 10,
   "metadata": {
    "collapsed": false
   },
   "outputs": [
    {
     "data": {
      "text/plain": [
       "['alt.atheism',\n",
       " 'comp.graphics',\n",
       " 'comp.os.ms-windows.misc',\n",
       " 'comp.sys.ibm.pc.hardware',\n",
       " 'comp.sys.mac.hardware',\n",
       " 'comp.windows.x',\n",
       " 'misc.forsale',\n",
       " 'rec.autos',\n",
       " 'rec.motorcycles',\n",
       " 'rec.sport.baseball',\n",
       " 'rec.sport.hockey',\n",
       " 'sci.crypt',\n",
       " 'sci.electronics',\n",
       " 'sci.med',\n",
       " 'sci.space',\n",
       " 'soc.religion.christian',\n",
       " 'talk.politics.guns',\n",
       " 'talk.politics.mideast',\n",
       " 'talk.politics.misc',\n",
       " 'talk.religion.misc']"
      ]
     },
     "execution_count": 10,
     "metadata": {},
     "output_type": "execute_result"
    }
   ],
   "source": [
    "newsgroups_train.target_names"
   ]
  },
  {
   "cell_type": "code",
   "execution_count": 12,
   "metadata": {
    "collapsed": false
   },
   "outputs": [
    {
     "data": {
      "text/plain": [
       "(11314, 7532)"
      ]
     },
     "execution_count": 12,
     "metadata": {},
     "output_type": "execute_result"
    }
   ],
   "source": [
    "newsgroups_train.target.size, newsgroups_test.target.size"
   ]
  },
  {
   "cell_type": "code",
   "execution_count": 13,
   "metadata": {
    "collapsed": false
   },
   "outputs": [
    {
     "name": "stdout",
     "output_type": "stream",
     "text": [
      "From: jgreen@amber (Joe Green)\n",
      "Subject: Re: Weitek P9000 ?\n",
      "Organization: Harris Computer Systems Division\n",
      "Lines: 14\n",
      "Distribution: world\n",
      "NNTP-Posting-Host: amber.ssd.csd.harris.com\n",
      "X-Newsreader: TIN [version 1.1 PL9]\n",
      "\n",
      "Robert J.C. Kyanko (rob@rjck.UUCP) wrote:\n",
      "> abraxis@iastate.edu writes in article <abraxis.734340159@class1.iastate.edu>:\n",
      "> > Anyone know about the Weitek P9000 graphics chip?\n",
      "> As far as the low-level stuff goes, it looks pretty nice.  It's got this\n",
      "> quadrilateral fill command that requires just the four points.\n",
      "\n",
      "Do you have Weitek's address/phone number?  I'd like to get some information\n",
      "about this chip.\n",
      "\n",
      "--\n",
      "Joe Green\t\t\t\tHarris Corporation\n",
      "jgreen@csd.harris.com\t\t\tComputer Systems Division\n",
      "\"The only thing that really scares me is a person with no sense of humor.\"\n",
      "\t\t\t\t\t\t-- Jonathan Winters\n",
      "\n"
     ]
    }
   ],
   "source": [
    "print(newsgroups_train.data[3])"
   ]
  },
  {
   "cell_type": "code",
   "execution_count": 14,
   "metadata": {
    "collapsed": true
   },
   "outputs": [],
   "source": [
    "# 特徴量ベクトルに変換\n",
    "from sklearn.feature_extraction.text import TfidfVectorizer\n",
    "vectorizer = TfidfVectorizer()"
   ]
  },
  {
   "cell_type": "code",
   "execution_count": 15,
   "metadata": {
    "collapsed": true
   },
   "outputs": [],
   "source": [
    "X_train = vectorizer.fit_transform(newsgroups_train.data)"
   ]
  },
  {
   "cell_type": "code",
   "execution_count": 16,
   "metadata": {
    "collapsed": true
   },
   "outputs": [],
   "source": [
    "X_test = vectorizer.transform(newsgroups_test.data)"
   ]
  },
  {
   "cell_type": "code",
   "execution_count": 26,
   "metadata": {
    "collapsed": true
   },
   "outputs": [],
   "source": [
    "y_train = newsgroups_train.target\n",
    "y_test = newsgroups_test.target"
   ]
  },
  {
   "cell_type": "code",
   "execution_count": 27,
   "metadata": {
    "collapsed": false
   },
   "outputs": [
    {
     "data": {
      "text/plain": [
       "((11314, 130107), (11314,))"
      ]
     },
     "execution_count": 27,
     "metadata": {},
     "output_type": "execute_result"
    }
   ],
   "source": [
    "X_train.shape, y_train.shape"
   ]
  },
  {
   "cell_type": "code",
   "execution_count": 28,
   "metadata": {
    "collapsed": false
   },
   "outputs": [
    {
     "data": {
      "text/plain": [
       "((7532, 130107), (7532,))"
      ]
     },
     "execution_count": 28,
     "metadata": {},
     "output_type": "execute_result"
    }
   ],
   "source": [
    "X_test.shape, y_test.shape"
   ]
  },
  {
   "cell_type": "code",
   "execution_count": 29,
   "metadata": {
    "collapsed": true
   },
   "outputs": [],
   "source": [
    "from sklearn.linear_model import LogisticRegression\n",
    "clf = LogisticRegression()"
   ]
  },
  {
   "cell_type": "code",
   "execution_count": 30,
   "metadata": {
    "collapsed": false
   },
   "outputs": [
    {
     "data": {
      "text/plain": [
       "LogisticRegression(C=1.0, class_weight=None, dual=False, fit_intercept=True,\n",
       "          intercept_scaling=1, max_iter=100, multi_class='ovr', n_jobs=1,\n",
       "          penalty='l2', random_state=None, solver='liblinear', tol=0.0001,\n",
       "          verbose=0, warm_start=False)"
      ]
     },
     "execution_count": 30,
     "metadata": {},
     "output_type": "execute_result"
    }
   ],
   "source": [
    "clf.fit(X_train, y_train)"
   ]
  },
  {
   "cell_type": "code",
   "execution_count": 31,
   "metadata": {
    "collapsed": false
   },
   "outputs": [
    {
     "data": {
      "text/plain": [
       "0.82793414763674988"
      ]
     },
     "execution_count": 31,
     "metadata": {},
     "output_type": "execute_result"
    }
   ],
   "source": [
    "clf.score(X_test, y_test)"
   ]
  },
  {
   "cell_type": "code",
   "execution_count": 32,
   "metadata": {
    "collapsed": false
   },
   "outputs": [
    {
     "data": {
      "text/plain": [
       "<1x130107 sparse matrix of type '<class 'numpy.float64'>'\n",
       "\twith 89 stored elements in Compressed Sparse Row format>"
      ]
     },
     "execution_count": 32,
     "metadata": {},
     "output_type": "execute_result"
    }
   ],
   "source": [
    "X_train[0]"
   ]
  },
  {
   "cell_type": "code",
   "execution_count": 33,
   "metadata": {
    "collapsed": true
   },
   "outputs": [],
   "source": [
    "X_train_0 = X_train[0].toarray()"
   ]
  },
  {
   "cell_type": "code",
   "execution_count": 34,
   "metadata": {
    "collapsed": false
   },
   "outputs": [
    {
     "data": {
      "text/plain": [
       "array([[ 0.,  0.,  0., ...,  0.,  0.,  0.]])"
      ]
     },
     "execution_count": 34,
     "metadata": {},
     "output_type": "execute_result"
    }
   ],
   "source": [
    "X_train_0"
   ]
  },
  {
   "cell_type": "code",
   "execution_count": 36,
   "metadata": {
    "collapsed": false
   },
   "outputs": [
    {
     "data": {
      "text/plain": [
       "(89, 130107)"
      ]
     },
     "execution_count": 36,
     "metadata": {},
     "output_type": "execute_result"
    }
   ],
   "source": [
    "np.count_nonzero(X_train_0), X_train_0.shape[1]\n",
    "# 0でない部分は89のみ"
   ]
  },
  {
   "cell_type": "code",
   "execution_count": 38,
   "metadata": {
    "collapsed": false
   },
   "outputs": [
    {
     "data": {
      "text/plain": [
       "array([ 0.06332604,  0.14155753,  0.13874908,  0.0953487 ,  0.03709893,\n",
       "        0.10278592,  0.02991186,  0.0871642 ,  0.16713176,  0.09353931,\n",
       "        0.13280753,  0.03770449,  0.0690878 ,  0.0343176 ,  0.38133891,\n",
       "        0.07801368,  0.04951999,  0.06621689,  0.10015015,  0.11603643,\n",
       "        0.0845253 ,  0.05461429,  0.09714744,  0.13412921,  0.05747015,\n",
       "        0.08646963,  0.1558717 ,  0.02921528,  0.08342748,  0.03542092,\n",
       "        0.06363421,  0.09785516,  0.02245166,  0.07313444,  0.07325812,\n",
       "        0.05097865,  0.04280825,  0.09219024,  0.35383501,  0.01921946,\n",
       "        0.09036441,  0.0690878 ,  0.06339409,  0.05989857,  0.10936401,\n",
       "        0.03955173,  0.08844382,  0.03696979,  0.07000411,  0.13157119,\n",
       "        0.03567186,  0.06521174,  0.05715821,  0.03188937,  0.01992886,\n",
       "        0.0454964 ,  0.04114286,  0.09913274,  0.05545703,  0.03447138,\n",
       "        0.10826904,  0.16068606,  0.05666562,  0.08171219,  0.0846283 ,\n",
       "        0.09869735,  0.07526016,  0.10844725,  0.10809248,  0.01915672,\n",
       "        0.17691751,  0.05511105,  0.12287763,  0.03671831,  0.06214071,\n",
       "        0.14447276,  0.04247263,  0.21186807,  0.03708598,  0.25970902,\n",
       "        0.14534719,  0.04943756,  0.03685429,  0.08207027,  0.10798795,\n",
       "        0.0888257 ,  0.0606221 ,  0.05922294,  0.04278499])"
      ]
     },
     "execution_count": 38,
     "metadata": {},
     "output_type": "execute_result"
    }
   ],
   "source": [
    "X_train_0[np.nonzero(X_train_0)]"
   ]
  },
  {
   "cell_type": "code",
   "execution_count": 39,
   "metadata": {
    "collapsed": false
   },
   "outputs": [
    {
     "data": {
      "text/plain": [
       "[<matplotlib.lines.Line2D at 0x11fe81748>]"
      ]
     },
     "execution_count": 39,
     "metadata": {},
     "output_type": "execute_result"
    },
    {
     "data": {
      "image/png": "[encoded data removed]",
      "text/plain": [
       "<matplotlib.figure.Figure at 0x11b44a0b8>"
      ]
     },
     "metadata": {},
     "output_type": "display_data"
    }
   ],
   "source": [
    "import numpy as np\n",
    "import matplotlib.pyplot as plt\n",
    "%matplotlib inline\n",
    "\n",
    "plt.plot(np.sort(X_train_0[np.nonzero(X_train_0)]))"
   ]
  },
  {
   "cell_type": "code",
   "execution_count": 41,
   "metadata": {
    "collapsed": false
   },
   "outputs": [],
   "source": [
    "# 特徴量を1値化する\n",
    "\n",
    "from sklearn.pipeline import Pipeline\n",
    "from sklearn.preprocessing import Binarizer\n",
    "\n",
    "pipe = Pipeline([\n",
    "        ('bin', Binarizer()),\n",
    "        ('clf', LogisticRegression())\n",
    "])"
   ]
  },
  {
   "cell_type": "code",
   "execution_count": 42,
   "metadata": {
    "collapsed": false
   },
   "outputs": [
    {
     "name": "stdout",
     "output_type": "stream",
     "text": [
      "Fitting 3 folds for each of 7 candidates, totalling 21 fits\n",
      "[CV] bin__threshold=0.001 ............................................\n",
      "[CV] ............................. bin__threshold=0.001, total=  12.6s\n",
      "[CV] bin__threshold=0.001 ............................................\n"
     ]
    },
    {
     "name": "stderr",
     "output_type": "stream",
     "text": [
      "[Parallel(n_jobs=1)]: Done   1 out of   1 | elapsed:   12.7s remaining:    0.0s\n"
     ]
    },
    {
     "name": "stdout",
     "output_type": "stream",
     "text": [
      "[CV] ............................. bin__threshold=0.001, total=  12.6s\n",
      "[CV] bin__threshold=0.001 ............................................\n",
      "[CV] ............................. bin__threshold=0.001, total=  12.3s\n",
      "[CV] bin__threshold=0.01 .............................................\n",
      "[CV] .............................. bin__threshold=0.01, total=  10.3s\n",
      "[CV] bin__threshold=0.01 .............................................\n",
      "[CV] .............................. bin__threshold=0.01, total=  10.2s\n",
      "[CV] bin__threshold=0.01 .............................................\n",
      "[CV] .............................. bin__threshold=0.01, total=  10.7s\n",
      "[CV] bin__threshold=0.05 .............................................\n",
      "[CV] .............................. bin__threshold=0.05, total=   4.9s\n",
      "[CV] bin__threshold=0.05 .............................................\n",
      "[CV] .............................. bin__threshold=0.05, total=   4.9s\n",
      "[CV] bin__threshold=0.05 .............................................\n",
      "[CV] .............................. bin__threshold=0.05, total=   4.8s\n",
      "[CV] bin__threshold=0.1 ..............................................\n",
      "[CV] ............................... bin__threshold=0.1, total=   2.6s\n",
      "[CV] bin__threshold=0.1 ..............................................\n",
      "[CV] ............................... bin__threshold=0.1, total=   2.4s\n",
      "[CV] bin__threshold=0.1 ..............................................\n",
      "[CV] ............................... bin__threshold=0.1, total=   2.5s\n",
      "[CV] bin__threshold=0.2 ..............................................\n",
      "[CV] ............................... bin__threshold=0.2, total=   1.3s\n",
      "[CV] bin__threshold=0.2 ..............................................\n",
      "[CV] ............................... bin__threshold=0.2, total=   1.2s\n",
      "[CV] bin__threshold=0.2 ..............................................\n",
      "[CV] ............................... bin__threshold=0.2, total=   1.2s\n",
      "[CV] bin__threshold=0.3 ..............................................\n",
      "[CV] ............................... bin__threshold=0.3, total=   0.9s\n",
      "[CV] bin__threshold=0.3 ..............................................\n",
      "[CV] ............................... bin__threshold=0.3, total=   0.9s\n",
      "[CV] bin__threshold=0.3 ..............................................\n",
      "[CV] ............................... bin__threshold=0.3, total=   0.8s\n",
      "[CV] bin__threshold=0.4 ..............................................\n",
      "[CV] ............................... bin__threshold=0.4, total=   0.7s\n",
      "[CV] bin__threshold=0.4 ..............................................\n",
      "[CV] ............................... bin__threshold=0.4, total=   0.7s\n",
      "[CV] bin__threshold=0.4 ..............................................\n",
      "[CV] ............................... bin__threshold=0.4, total=   0.7s\n"
     ]
    },
    {
     "name": "stderr",
     "output_type": "stream",
     "text": [
      "[Parallel(n_jobs=1)]: Done  21 out of  21 | elapsed:  1.7min finished\n"
     ]
    },
    {
     "data": {
      "text/plain": [
       "GridSearchCV(cv=None, error_score='raise',\n",
       "       estimator=Pipeline(steps=[('bin', Binarizer(copy=True, threshold=0.0)), ('clf', LogisticRegression(C=1.0, class_weight=None, dual=False, fit_intercept=True,\n",
       "          intercept_scaling=1, max_iter=100, multi_class='ovr', n_jobs=1,\n",
       "          penalty='l2', random_state=None, solver='liblinear', tol=0.0001,\n",
       "          verbose=0, warm_start=False))]),\n",
       "       fit_params={}, iid=True, n_jobs=1,\n",
       "       param_grid={'bin__threshold': [0.001, 0.01, 0.05, 0.1, 0.2, 0.3, 0.4]},\n",
       "       pre_dispatch='2*n_jobs', refit=True, return_train_score=True,\n",
       "       scoring=None, verbose=2)"
      ]
     },
     "execution_count": 42,
     "metadata": {},
     "output_type": "execute_result"
    }
   ],
   "source": [
    "# グリッドサーチで、どの閾値で2値化すると良いかを探す\n",
    "from sklearn.model_selection import GridSearchCV\n",
    "\n",
    "param = {'bin__threshold':[0.001, 0.01, 0.05, 0.1, 0.2, 0.3, 0.4]}\n",
    "\n",
    "gs1 = GridSearchCV(pipe, param, n_jobs=1, verbose=2)\n",
    "gs1.fit(X_train, y_train)"
   ]
  },
  {
   "cell_type": "code",
   "execution_count": 43,
   "metadata": {
    "collapsed": false
   },
   "outputs": [
    {
     "data": {
      "text/plain": [
       "({'bin__threshold': 0.05},\n",
       " 0.89137351953332156,\n",
       " Pipeline(steps=[('bin', Binarizer(copy=True, threshold=0.05)), ('clf', LogisticRegression(C=1.0, class_weight=None, dual=False, fit_intercept=True,\n",
       "           intercept_scaling=1, max_iter=100, multi_class='ovr', n_jobs=1,\n",
       "           penalty='l2', random_state=None, solver='liblinear', tol=0.0001,\n",
       "           verbose=0, warm_start=False))]))"
      ]
     },
     "execution_count": 43,
     "metadata": {},
     "output_type": "execute_result"
    }
   ],
   "source": [
    "gs1.best_params_, gs1.best_score_, gs1.best_estimator_"
   ]
  },
  {
   "cell_type": "code",
   "execution_count": 44,
   "metadata": {
    "collapsed": false
   },
   "outputs": [
    {
     "data": {
      "text/plain": [
       "0.82222517259691985"
      ]
     },
     "execution_count": 44,
     "metadata": {},
     "output_type": "execute_result"
    }
   ],
   "source": [
    "gs1.score(X_test, y_test)"
   ]
  },
  {
   "cell_type": "code",
   "execution_count": 45,
   "metadata": {
    "collapsed": false
   },
   "outputs": [
    {
     "name": "stdout",
     "output_type": "stream",
     "text": [
      "Fitting 3 folds for each of 10 candidates, totalling 30 fits\n"
     ]
    },
    {
     "name": "stderr",
     "output_type": "stream",
     "text": [
      "[Parallel(n_jobs=2)]: Done  30 out of  30 | elapsed:  3.5min finished\n"
     ]
    },
    {
     "data": {
      "text/plain": [
       "RandomizedSearchCV(cv=None, error_score='raise',\n",
       "          estimator=Pipeline(steps=[('bin', Binarizer(copy=True, threshold=0.0)), ('clf', LogisticRegression(C=1.0, class_weight=None, dual=False, fit_intercept=True,\n",
       "          intercept_scaling=1, max_iter=100, multi_class='ovr', n_jobs=1,\n",
       "          penalty='l2', random_state=None, solver='liblinear', tol=0.0001,\n",
       "          verbose=0, warm_start=False))]),\n",
       "          fit_params={}, iid=True, n_iter=10, n_jobs=2,\n",
       "          param_distributions={'clf__C': array([  1.00000e+01,   1.00000e+02,   1.00000e+03,   1.00000e+04,\n",
       "         1.00000e+05,   1.00000e+06,   1.00000e+07,   1.00000e+08,\n",
       "         1.00000e+09]), 'bin__threshold': [0.001, 0.01, 0.05]},\n",
       "          pre_dispatch='2*n_jobs', random_state=None, refit=True,\n",
       "          return_train_score=True, scoring=None, verbose=1)"
      ]
     },
     "execution_count": 45,
     "metadata": {},
     "output_type": "execute_result"
    }
   ],
   "source": [
    "pipe = Pipeline([\n",
    "        ('bin', Binarizer()),\n",
    "        ('clf', LogisticRegression())])\n",
    "\n",
    "param = {'bin__threshold':[0.001, 0.01, 0.05],\n",
    "                 'clf__C':10**np.arange(1.0, 10.0)}\n",
    "\n",
    "from sklearn.model_selection import RandomizedSearchCV\n",
    "\n",
    "gs11 = RandomizedSearchCV(pipe, param, n_jobs=2, verbose=1)\n",
    "gs11.fit(X_train, y_train)"
   ]
  },
  {
   "cell_type": "code",
   "execution_count": 46,
   "metadata": {
    "collapsed": false
   },
   "outputs": [
    {
     "data": {
      "text/plain": [
       "({'bin__threshold': 0.05, 'clf__C': 100.0},\n",
       " 0.89110836132225557,\n",
       " Pipeline(steps=[('bin', Binarizer(copy=True, threshold=0.05)), ('clf', LogisticRegression(C=100.0, class_weight=None, dual=False, fit_intercept=True,\n",
       "           intercept_scaling=1, max_iter=100, multi_class='ovr', n_jobs=1,\n",
       "           penalty='l2', random_state=None, solver='liblinear', tol=0.0001,\n",
       "           verbose=0, warm_start=False))]))"
      ]
     },
     "execution_count": 46,
     "metadata": {},
     "output_type": "execute_result"
    }
   ],
   "source": [
    "gs11.best_params_, gs11.best_score_, gs11.best_estimator_"
   ]
  },
  {
   "cell_type": "code",
   "execution_count": 47,
   "metadata": {
    "collapsed": false
   },
   "outputs": [
    {
     "data": {
      "text/plain": [
       "0.89110836132225557"
      ]
     },
     "execution_count": 47,
     "metadata": {},
     "output_type": "execute_result"
    }
   ],
   "source": [
    "gs11.best_score_"
   ]
  },
  {
   "cell_type": "code",
   "execution_count": 48,
   "metadata": {
    "collapsed": false
   },
   "outputs": [
    {
     "name": "stdout",
     "output_type": "stream",
     "text": [
      "Fitting 3 folds for each of 10 candidates, totalling 30 fits\n"
     ]
    },
    {
     "name": "stderr",
     "output_type": "stream",
     "text": [
      "[Parallel(n_jobs=2)]: Done  30 out of  30 | elapsed:  1.6min finished\n"
     ]
    },
    {
     "data": {
      "text/plain": [
       "RandomizedSearchCV(cv=None, error_score='raise',\n",
       "          estimator=Pipeline(steps=[('bin', Binarizer(copy=True, threshold=0.0)), ('clf', LinearSVC(C=1.0, class_weight=None, dual=True, fit_intercept=True,\n",
       "     intercept_scaling=1, loss='squared_hinge', max_iter=1000,\n",
       "     multi_class='ovr', penalty='l2', random_state=None, tol=0.0001,\n",
       "     verbose=0))]),\n",
       "          fit_params={}, iid=True, n_iter=10, n_jobs=2,\n",
       "          param_distributions={'clf__C': array([  1.00000e+01,   1.00000e+02,   1.00000e+03,   1.00000e+04,\n",
       "         1.00000e+05,   1.00000e+06,   1.00000e+07,   1.00000e+08,\n",
       "         1.00000e+09]), 'bin__threshold': [0.001, 0.01, 0.05]},\n",
       "          pre_dispatch='2*n_jobs', random_state=None, refit=True,\n",
       "          return_train_score=True, scoring=None, verbose=1)"
      ]
     },
     "execution_count": 48,
     "metadata": {},
     "output_type": "execute_result"
    }
   ],
   "source": [
    "from sklearn.svm import LinearSVC\n",
    "\n",
    "pipe = Pipeline([\n",
    "        ('bin', Binarizer()),\n",
    "        ('clf', LinearSVC())])\n",
    "\n",
    "param = {'bin__threshold':[0.001, 0.01, 0.05],\n",
    "                 'clf__C':10**np.arange(1.0, 10.0)}\n",
    "\n",
    "from sklearn.model_selection import RandomizedSearchCV\n",
    "\n",
    "gs11 = RandomizedSearchCV(pipe, param, n_jobs=2, verbose=1)\n",
    "gs11.fit(X_train, y_train)"
   ]
  },
  {
   "cell_type": "code",
   "execution_count": 49,
   "metadata": {
    "collapsed": false
   },
   "outputs": [
    {
     "data": {
      "text/plain": [
       "({'bin__threshold': 0.05, 'clf__C': 100.0},\n",
       " 0.88156266572388187,\n",
       " Pipeline(steps=[('bin', Binarizer(copy=True, threshold=0.05)), ('clf', LinearSVC(C=100.0, class_weight=None, dual=True, fit_intercept=True,\n",
       "      intercept_scaling=1, loss='squared_hinge', max_iter=1000,\n",
       "      multi_class='ovr', penalty='l2', random_state=None, tol=0.0001,\n",
       "      verbose=0))]))"
      ]
     },
     "execution_count": 49,
     "metadata": {},
     "output_type": "execute_result"
    }
   ],
   "source": [
    "gs11.best_params_, gs11.best_score_, gs11.best_estimator_"
   ]
  },
  {
   "cell_type": "code",
   "execution_count": 50,
   "metadata": {
    "collapsed": true
   },
   "outputs": [],
   "source": [
    "# 省略"
   ]
  },
  {
   "cell_type": "code",
   "execution_count": 51,
   "metadata": {
    "collapsed": true
   },
   "outputs": [],
   "source": [
    "from sklearn.metrics import confusion_matrix\n",
    "from sklearn.metrics import classification_report\n",
    "\n",
    "y_pred = gs11.predict(X_test)"
   ]
  },
  {
   "cell_type": "code",
   "execution_count": 52,
   "metadata": {
    "collapsed": false
   },
   "outputs": [
    {
     "name": "stdout",
     "output_type": "stream",
     "text": [
      "             precision    recall  f1-score   support\n",
      "\n",
      "          0     0.7862    0.7492    0.7673       319\n",
      "          1     0.6387    0.7044    0.6699       389\n",
      "          2     0.6853    0.6523    0.6684       394\n",
      "          3     0.6265    0.6760    0.6503       392\n",
      "          4     0.7458    0.8000    0.7719       385\n",
      "          5     0.8412    0.7241    0.7782       395\n",
      "          6     0.7353    0.8333    0.7812       390\n",
      "          7     0.8560    0.8258    0.8406       396\n",
      "          8     0.9258    0.9095    0.9176       398\n",
      "          9     0.8886    0.9043    0.8964       397\n",
      "         10     0.9268    0.9524    0.9394       399\n",
      "         11     0.9039    0.8788    0.8912       396\n",
      "         12     0.6809    0.6514    0.6658       393\n",
      "         13     0.8307    0.8056    0.8179       396\n",
      "         14     0.8844    0.8934    0.8889       394\n",
      "         15     0.8050    0.8920    0.8462       398\n",
      "         16     0.7354    0.9011    0.8099       364\n",
      "         17     0.9758    0.8564    0.9122       376\n",
      "         18     0.7629    0.5710    0.6531       310\n",
      "         19     0.7181    0.6494    0.6820       251\n",
      "\n",
      "avg / total     0.8000    0.7969    0.7964      7532\n",
      "\n"
     ]
    }
   ],
   "source": [
    "print(classification_report(y_test, y_pred, digits=4))"
   ]
  },
  {
   "cell_type": "code",
   "execution_count": 53,
   "metadata": {
    "collapsed": false
   },
   "outputs": [
    {
     "data": {
      "text/plain": [
       "array([[239,   4,   2,   2,   4,   0,   0,   0,   1,   0,   1,   1,   2,\n",
       "          7,   7,  21,   0,   2,   1,  25],\n",
       "       [  2, 274,  14,  16,   5,  19,  12,   3,   2,   3,   2,   7,  10,\n",
       "          4,   3,   4,   4,   0,   1,   4],\n",
       "       [  1,  29, 257,  46,  13,  17,   7,   3,   1,   1,   0,   3,   6,\n",
       "          2,   3,   0,   0,   0,   3,   2],\n",
       "       [  1,  13,  30, 265,  25,   2,  21,   2,   0,   2,   0,   1,  26,\n",
       "          1,   1,   0,   2,   0,   0,   0],\n",
       "       [  2,  10,   7,  23, 308,   1,  10,   5,   0,   2,   0,   0,  11,\n",
       "          1,   2,   1,   0,   0,   2,   0],\n",
       "       [  1,  40,  33,   7,   6, 286,   8,   1,   0,   4,   2,   3,   2,\n",
       "          0,   1,   0,   0,   0,   1,   0],\n",
       "       [  0,   5,   3,  14,  11,   1, 325,   7,   2,   1,   1,   1,  11,\n",
       "          5,   1,   0,   1,   0,   0,   1],\n",
       "       [  0,   5,   4,   2,   4,   1,  14, 327,  11,   2,   0,   0,  17,\n",
       "          2,   0,   0,   3,   0,   4,   0],\n",
       "       [  1,   2,   0,   1,   3,   0,   5,  10, 362,   1,   0,   0,   4,\n",
       "          4,   0,   4,   0,   0,   1,   0],\n",
       "       [  0,   0,   3,   1,   2,   0,   3,   5,   1, 359,  11,   0,   4,\n",
       "          2,   0,   0,   2,   0,   4,   0],\n",
       "       [  0,   1,   0,   1,   2,   0,   2,   0,   0,   7, 380,   0,   2,\n",
       "          0,   0,   3,   1,   0,   0,   0],\n",
       "       [  0,   7,   1,   2,   6,   2,   4,   0,   0,   5,   0, 348,   6,\n",
       "          0,   0,   2,   7,   1,   5,   0],\n",
       "       [  1,  16,  12,  34,  11,   1,  12,   5,   5,   1,   2,  10, 256,\n",
       "          8,   7,   7,   2,   0,   1,   2],\n",
       "       [  4,   7,   2,   8,   2,   5,   9,   7,   2,   4,   4,   1,   6,\n",
       "        319,   1,   5,   2,   1,   5,   2],\n",
       "       [  1,   7,   0,   0,   4,   2,   3,   1,   2,   0,   0,   0,   6,\n",
       "          9, 352,   3,   1,   0,   3,   0],\n",
       "       [  9,   2,   2,   1,   1,   2,   0,   1,   0,   3,   1,   0,   0,\n",
       "          5,   4, 355,   0,   0,   0,  12],\n",
       "       [  0,   1,   0,   0,   2,   0,   2,   1,   1,   4,   1,   4,   1,\n",
       "          2,   1,   1, 328,   1,  10,   4],\n",
       "       [ 11,   0,   1,   0,   0,   0,   0,   1,   0,   3,   3,   2,   3,\n",
       "          2,   1,  12,   3, 322,  10,   2],\n",
       "       [  4,   3,   3,   0,   1,   0,   3,   2,   1,   1,   2,   2,   2,\n",
       "          6,   9,   3,  79,   2, 177,  10],\n",
       "       [ 27,   3,   1,   0,   3,   1,   2,   1,   0,   1,   0,   2,   1,\n",
       "          5,   5,  20,  11,   1,   4, 163]])"
      ]
     },
     "execution_count": 53,
     "metadata": {},
     "output_type": "execute_result"
    }
   ],
   "source": [
    "conf_mat = confusion_matrix(y_test, y_pred)\n",
    "conf_mat"
   ]
  },
  {
   "cell_type": "code",
   "execution_count": 57,
   "metadata": {
    "collapsed": false
   },
   "outputs": [
    {
     "data": {
      "text/plain": [
       "([<matplotlib.axis.XTick at 0x11fece470>,\n",
       "  <matplotlib.axis.XTick at 0x11fe58240>,\n",
       "  <matplotlib.axis.XTick at 0x11e5f25c0>,\n",
       "  <matplotlib.axis.XTick at 0x11bb82668>,\n",
       "  <matplotlib.axis.XTick at 0x11bb71da0>,\n",
       "  <matplotlib.axis.XTick at 0x11dc7d898>,\n",
       "  <matplotlib.axis.XTick at 0x11bb98e48>,\n",
       "  <matplotlib.axis.XTick at 0x11bba19e8>,\n",
       "  <matplotlib.axis.XTick at 0x11bb966d8>,\n",
       "  <matplotlib.axis.XTick at 0x11bb8ab70>,\n",
       "  <matplotlib.axis.XTick at 0x11bb7df60>,\n",
       "  <matplotlib.axis.XTick at 0x11bb75978>,\n",
       "  <matplotlib.axis.XTick at 0x11bb68d30>,\n",
       "  <matplotlib.axis.XTick at 0x11dc551d0>,\n",
       "  <matplotlib.axis.XTick at 0x11e5fce48>,\n",
       "  <matplotlib.axis.XTick at 0x11e5f5710>,\n",
       "  <matplotlib.axis.XTick at 0x11e5f27f0>,\n",
       "  <matplotlib.axis.XTick at 0x11bbc4080>,\n",
       "  <matplotlib.axis.XTick at 0x11bbc4898>,\n",
       "  <matplotlib.axis.XTick at 0x11bbc70f0>],\n",
       " <a list of 20 Text xticklabel objects>)"
      ]
     },
     "execution_count": 57,
     "metadata": {},
     "output_type": "execute_result"
    },
    {
     "data": {
      "image/png": "[encoded data removed]",
      "text/plain": [
       "<matplotlib.figure.Figure at 0x11dc1e2b0>"
      ]
     },
     "metadata": {},
     "output_type": "display_data"
    }
   ],
   "source": [
    "import matplotlib.pyplot as plt\n",
    "%matplotlib inline\n",
    "plt.gray()\n",
    "\n",
    "plt.imshow(1 - conf_mat / conf_mat.sum(axis=1), interpolation='nearest')\n",
    "\n",
    "plt.yticks(range(20), newsgroups_train.target_names);\n",
    "plt.xticks(range(20), newsgroups_train.target_names, rotation=90)\n",
    "\n",
    "# 黒いほど予測されたクラスが多い"
   ]
  },
  {
   "cell_type": "code",
   "execution_count": null,
   "metadata": {
    "collapsed": true
   },
   "outputs": [],
   "source": []
  },
  {
   "cell_type": "code",
   "execution_count": null,
   "metadata": {
    "collapsed": true
   },
   "outputs": [],
   "source": []
  }
 ],
 "metadata": {
  "kernelspec": {
   "display_name": "Python [default]",
   "language": "python",
   "name": "python3"
  },
  "language_info": {
   "codemirror_mode": {
    "name": "ipython",
    "version": 3
   },
   "file_extension": ".py",
   "mimetype": "text/x-python",
   "name": "python",
   "nbconvert_exporter": "python",
   "pygments_lexer": "ipython3",
   "version": "3.5.3"
  }
 },
 "nbformat": 4,
 "nbformat_minor": 1
}
