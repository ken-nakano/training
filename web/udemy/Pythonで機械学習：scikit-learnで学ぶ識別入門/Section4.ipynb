{
 "cells": [
  {
   "cell_type": "markdown",
   "metadata": {},
   "source": [
    "# 35.学習データとテストデータが同じ場合"
   ]
  },
  {
   "cell_type": "code",
   "execution_count": 6,
   "metadata": {
    "collapsed": false
   },
   "outputs": [
    {
     "name": "stderr",
     "output_type": "stream",
     "text": [
      "/Users/ken.nakano/anaconda/lib/python3.5/site-packages/matplotlib/font_manager.py:273: UserWarning: Matplotlib is building the font cache using fc-list. This may take a moment.\n",
      "  warnings.warn('Matplotlib is building the font cache using fc-list. This may take a moment.')\n",
      "/Users/ken.nakano/anaconda/lib/python3.5/site-packages/matplotlib/font_manager.py:273: UserWarning: Matplotlib is building the font cache using fc-list. This may take a moment.\n",
      "  warnings.warn('Matplotlib is building the font cache using fc-list. This may take a moment.')\n"
     ]
    }
   ],
   "source": [
    "import numpy as np\n",
    "import matplotlib.pyplot as plt\n",
    "%matplotlib inline"
   ]
  },
  {
   "cell_type": "code",
   "execution_count": 3,
   "metadata": {
    "collapsed": false
   },
   "outputs": [],
   "source": [
    "N = 500\n",
    "X = np.random.uniform(low=0, high=1, size=[N,2])\n",
    "y = np.random.choice([0,1], size=N)"
   ]
  },
  {
   "cell_type": "code",
   "execution_count": 4,
   "metadata": {
    "collapsed": false
   },
   "outputs": [
    {
     "data": {
      "text/plain": [
       "array([[  4.74511058e-01,   3.09079933e-02],\n",
       "       [  3.63006782e-01,   2.90324145e-01],\n",
       "       [  6.25204331e-01,   5.62499711e-01],\n",
       "       [  7.82577265e-01,   6.68558904e-01],\n",
       "       [  4.03552644e-01,   1.88526198e-01],\n",
       "       [  2.89823840e-01,   7.79937933e-01],\n",
       "       [  9.76887789e-01,   9.93980617e-01],\n",
       "       [  5.92319573e-01,   6.33912980e-02],\n",
       "       [  9.03034070e-01,   6.07985201e-01],\n",
       "       [  9.02405985e-01,   6.73260892e-01],\n",
       "       [  2.79626901e-01,   8.04227761e-01],\n",
       "       [  7.07785082e-01,   1.88405780e-01],\n",
       "       [  1.98352499e-01,   9.64350262e-01],\n",
       "       [  8.68869615e-02,   8.40830927e-01],\n",
       "       [  4.88477563e-01,   7.79256656e-01],\n",
       "       [  8.50676479e-01,   1.75483194e-01],\n",
       "       [  2.16564248e-01,   1.39249498e-01],\n",
       "       [  5.28151097e-01,   7.07585462e-01],\n",
       "       [  6.39912457e-01,   6.25954085e-01],\n",
       "       [  5.60036887e-01,   6.39285639e-01],\n",
       "       [  1.54009503e-01,   6.52224075e-01],\n",
       "       [  1.49348248e-01,   1.98481435e-01],\n",
       "       [  7.54169989e-01,   6.77190049e-03],\n",
       "       [  3.04991045e-01,   4.61472298e-01],\n",
       "       [  8.14775677e-01,   6.60387783e-01],\n",
       "       [  7.97437268e-01,   4.70760212e-01],\n",
       "       [  6.15497380e-01,   8.14530437e-01],\n",
       "       [  2.02517060e-01,   2.07675880e-01],\n",
       "       [  8.30266772e-01,   8.92228822e-01],\n",
       "       [  1.24194345e-01,   4.69368499e-01],\n",
       "       [  2.38219459e-01,   2.02957825e-01],\n",
       "       [  2.98148581e-01,   4.42323008e-01],\n",
       "       [  2.81700055e-01,   2.10873652e-01],\n",
       "       [  9.81105448e-01,   3.29804562e-01],\n",
       "       [  8.73187647e-01,   5.94591028e-01],\n",
       "       [  7.84947452e-02,   1.50397792e-01],\n",
       "       [  8.29320085e-01,   4.39023184e-03],\n",
       "       [  8.68109817e-01,   8.16841942e-01],\n",
       "       [  9.57794159e-01,   2.59488021e-01],\n",
       "       [  5.41596595e-01,   1.00726885e-02],\n",
       "       [  3.05780558e-02,   4.84698943e-01],\n",
       "       [  2.44078153e-01,   6.13774088e-01],\n",
       "       [  5.77221749e-01,   4.77974867e-01],\n",
       "       [  7.69891193e-01,   2.69013095e-01],\n",
       "       [  6.69893070e-01,   1.20386153e-01],\n",
       "       [  5.24234276e-01,   2.57122480e-01],\n",
       "       [  7.75816289e-01,   5.19294330e-01],\n",
       "       [  1.83253155e-02,   7.05352390e-01],\n",
       "       [  1.12916305e-01,   5.34722848e-01],\n",
       "       [  2.62459517e-01,   3.24513763e-01],\n",
       "       [  9.09431758e-01,   8.20359685e-01],\n",
       "       [  9.55635750e-01,   1.59559494e-01],\n",
       "       [  1.95532680e-01,   4.57841773e-01],\n",
       "       [  4.22696903e-01,   9.14373474e-01],\n",
       "       [  5.30605575e-01,   9.96523328e-01],\n",
       "       [  5.41161600e-01,   5.83843255e-01],\n",
       "       [  6.15706080e-01,   2.26805433e-01],\n",
       "       [  8.57375559e-01,   9.86138599e-01],\n",
       "       [  7.97315066e-01,   4.34336085e-01],\n",
       "       [  4.63482643e-01,   2.13584315e-01],\n",
       "       [  6.94527873e-01,   7.34095685e-01],\n",
       "       [  8.11078281e-01,   4.17654527e-01],\n",
       "       [  3.93790300e-01,   2.70076172e-01],\n",
       "       [  7.25279283e-01,   4.92284761e-01],\n",
       "       [  3.10732631e-01,   1.12727612e-01],\n",
       "       [  9.09684276e-01,   8.17002166e-01],\n",
       "       [  7.27584062e-01,   6.10072167e-01],\n",
       "       [  9.70053885e-01,   5.26855042e-01],\n",
       "       [  8.27659064e-01,   9.81027110e-01],\n",
       "       [  8.90865351e-01,   9.34028369e-01],\n",
       "       [  3.42386257e-02,   2.92343738e-01],\n",
       "       [  5.43595511e-01,   2.33118883e-01],\n",
       "       [  9.16091801e-01,   5.48158004e-01],\n",
       "       [  3.86002177e-01,   1.16192378e-02],\n",
       "       [  6.61846352e-01,   7.78084164e-01],\n",
       "       [  8.93332855e-01,   7.61469846e-01],\n",
       "       [  7.28946719e-01,   9.67323878e-01],\n",
       "       [  2.81653778e-01,   3.19478204e-01],\n",
       "       [  6.86437750e-01,   6.90684284e-01],\n",
       "       [  9.15729756e-01,   1.56065886e-01],\n",
       "       [  2.81582093e-01,   4.59379360e-01],\n",
       "       [  1.61503744e-01,   6.97684562e-01],\n",
       "       [  6.08519540e-01,   4.33060289e-01],\n",
       "       [  6.31772288e-01,   4.69571498e-01],\n",
       "       [  8.73448700e-01,   6.70795042e-01],\n",
       "       [  2.89490699e-01,   1.72836402e-01],\n",
       "       [  3.81839501e-01,   1.58764393e-01],\n",
       "       [  9.39857611e-02,   6.46454059e-01],\n",
       "       [  5.94487468e-02,   5.90851500e-01],\n",
       "       [  6.93889367e-02,   1.32137789e-01],\n",
       "       [  8.96786412e-01,   2.00418535e-01],\n",
       "       [  8.21542829e-01,   8.78623001e-01],\n",
       "       [  8.63121474e-02,   3.44558639e-01],\n",
       "       [  2.53181203e-01,   6.93311634e-01],\n",
       "       [  1.04795517e-01,   8.24360498e-01],\n",
       "       [  6.46507408e-01,   2.83651001e-01],\n",
       "       [  3.11345095e-01,   8.91885541e-01],\n",
       "       [  2.17894980e-01,   4.40039828e-01],\n",
       "       [  7.08968130e-01,   2.58070404e-01],\n",
       "       [  8.93308077e-01,   4.75320632e-01],\n",
       "       [  8.51810804e-02,   7.69187472e-01],\n",
       "       [  1.53377334e-01,   9.21201121e-01],\n",
       "       [  1.35348299e-01,   9.15298815e-01],\n",
       "       [  8.93800559e-01,   1.93511361e-01],\n",
       "       [  7.43777179e-01,   8.72841324e-01],\n",
       "       [  3.62774298e-01,   5.03718667e-01],\n",
       "       [  3.24897334e-01,   9.50188982e-01],\n",
       "       [  6.81552179e-01,   4.54743739e-01],\n",
       "       [  6.43626667e-01,   2.46824561e-01],\n",
       "       [  3.44824662e-01,   2.82394065e-01],\n",
       "       [  9.46327401e-01,   1.61647477e-01],\n",
       "       [  8.75946831e-02,   7.91153215e-01],\n",
       "       [  8.71522331e-01,   9.13818919e-01],\n",
       "       [  1.17648860e-02,   2.16715483e-01],\n",
       "       [  2.12506224e-01,   3.90009872e-02],\n",
       "       [  5.24988821e-01,   1.48432500e-01],\n",
       "       [  7.93025207e-01,   2.78745674e-01],\n",
       "       [  4.52715721e-01,   2.48739488e-01],\n",
       "       [  9.83050292e-01,   9.89804665e-01],\n",
       "       [  2.50689407e-01,   6.80531469e-02],\n",
       "       [  3.17538175e-01,   4.39901295e-01],\n",
       "       [  7.06095809e-01,   1.12525961e-02],\n",
       "       [  5.53316226e-01,   2.14818491e-01],\n",
       "       [  4.32956104e-01,   3.72937319e-01],\n",
       "       [  6.83723278e-01,   4.66678152e-02],\n",
       "       [  1.26511173e-01,   6.15222168e-01],\n",
       "       [  7.19157808e-01,   2.93732982e-01],\n",
       "       [  9.80451898e-01,   5.90019856e-01],\n",
       "       [  7.50373415e-01,   4.66123033e-01],\n",
       "       [  4.15708067e-01,   9.74549291e-01],\n",
       "       [  3.09012106e-02,   3.84610286e-01],\n",
       "       [  9.37476689e-01,   6.59463547e-01],\n",
       "       [  5.41801519e-01,   1.18125743e-01],\n",
       "       [  2.63287185e-01,   3.67739834e-01],\n",
       "       [  3.89756718e-01,   6.47405204e-01],\n",
       "       [  8.39371420e-01,   6.68000211e-01],\n",
       "       [  3.34433888e-01,   4.22470450e-01],\n",
       "       [  3.44442985e-01,   2.32998030e-02],\n",
       "       [  4.66248766e-01,   2.26377148e-01],\n",
       "       [  8.27843796e-01,   4.10377028e-01],\n",
       "       [  9.51075590e-01,   7.59444322e-01],\n",
       "       [  8.77158905e-01,   3.25167885e-02],\n",
       "       [  9.26172124e-01,   4.19012686e-01],\n",
       "       [  3.19809437e-01,   7.02036908e-02],\n",
       "       [  8.42823632e-01,   7.81364707e-01],\n",
       "       [  6.39848173e-01,   5.55660062e-01],\n",
       "       [  1.08494731e-02,   9.00652996e-01],\n",
       "       [  8.72699229e-01,   6.46004178e-03],\n",
       "       [  7.66571849e-01,   3.00651070e-01],\n",
       "       [  8.72280407e-01,   5.69182003e-01],\n",
       "       [  3.23602366e-03,   4.42840841e-01],\n",
       "       [  5.19713716e-01,   4.00063746e-01],\n",
       "       [  2.07141919e-01,   3.52424029e-02],\n",
       "       [  7.95597006e-01,   6.67539970e-01],\n",
       "       [  8.35194666e-01,   7.42653497e-01],\n",
       "       [  8.68604818e-01,   5.78985204e-01],\n",
       "       [  2.89604173e-01,   2.57648028e-01],\n",
       "       [  7.61038188e-01,   1.84313507e-01],\n",
       "       [  9.44734335e-01,   6.41185021e-01],\n",
       "       [  1.23774387e-01,   7.14089188e-01],\n",
       "       [  9.92684691e-01,   6.97903636e-01],\n",
       "       [  3.78780176e-01,   3.47323915e-01],\n",
       "       [  9.53541494e-01,   6.98869669e-01],\n",
       "       [  2.75527421e-02,   5.14223003e-01],\n",
       "       [  3.51470630e-01,   5.57855825e-01],\n",
       "       [  3.83912264e-01,   7.59805745e-02],\n",
       "       [  9.45042202e-01,   1.44371971e-01],\n",
       "       [  8.78187514e-01,   7.82795520e-01],\n",
       "       [  2.18955107e-01,   4.50027736e-02],\n",
       "       [  8.91300901e-01,   4.91309543e-01],\n",
       "       [  5.30224808e-01,   1.94224006e-01],\n",
       "       [  7.39922075e-01,   8.47136477e-01],\n",
       "       [  9.34564331e-02,   3.45984586e-01],\n",
       "       [  6.84326005e-01,   5.64580858e-01],\n",
       "       [  3.27268366e-01,   6.54764211e-03],\n",
       "       [  1.36064037e-01,   3.56277523e-01],\n",
       "       [  7.27373186e-02,   5.42721247e-01],\n",
       "       [  4.44161029e-01,   8.53039415e-01],\n",
       "       [  4.72799948e-01,   9.19919346e-01],\n",
       "       [  8.96230311e-01,   9.09167070e-01],\n",
       "       [  5.89971360e-02,   1.90554562e-01],\n",
       "       [  3.30647659e-01,   6.18038982e-01],\n",
       "       [  8.67623505e-01,   5.83629748e-01],\n",
       "       [  9.83613235e-01,   9.74470605e-01],\n",
       "       [  3.51754573e-01,   9.66470858e-01],\n",
       "       [  6.02328931e-01,   4.53709969e-01],\n",
       "       [  6.38489876e-01,   4.92030496e-01],\n",
       "       [  4.79447289e-01,   8.27859515e-01],\n",
       "       [  7.83656504e-01,   8.89058157e-01],\n",
       "       [  1.83005033e-01,   6.36448074e-01],\n",
       "       [  7.06614281e-01,   8.87712144e-01],\n",
       "       [  1.07489415e-01,   7.09275747e-01],\n",
       "       [  4.04455797e-01,   8.50946258e-02],\n",
       "       [  4.85076143e-02,   1.99024415e-01],\n",
       "       [  6.48180680e-01,   3.06652629e-01],\n",
       "       [  9.74247717e-01,   8.66837451e-01],\n",
       "       [  7.56717990e-01,   8.76528512e-01],\n",
       "       [  1.27901839e-01,   5.41856589e-01],\n",
       "       [  5.29674420e-01,   3.25894322e-01],\n",
       "       [  7.15878642e-01,   4.30138608e-01],\n",
       "       [  9.90157932e-01,   8.54928437e-01],\n",
       "       [  2.41066624e-02,   8.61265163e-01],\n",
       "       [  2.67177474e-01,   4.90212673e-01],\n",
       "       [  2.41553915e-01,   9.49045767e-04],\n",
       "       [  1.00409443e-01,   1.32605361e-01],\n",
       "       [  5.13740267e-01,   1.29446425e-01],\n",
       "       [  4.48263654e-01,   2.39424601e-01],\n",
       "       [  8.04721667e-01,   4.07279092e-01],\n",
       "       [  1.08897334e-01,   4.11628198e-01],\n",
       "       [  9.39669782e-01,   5.46298559e-01],\n",
       "       [  8.29745144e-01,   9.05637324e-01],\n",
       "       [  9.30102899e-01,   9.29452241e-01],\n",
       "       [  6.35694140e-01,   6.95437766e-01],\n",
       "       [  4.02439604e-01,   3.53707265e-01],\n",
       "       [  9.60197518e-01,   9.54099814e-01],\n",
       "       [  3.49518904e-01,   3.19920903e-01],\n",
       "       [  7.26600290e-01,   7.11735422e-01],\n",
       "       [  4.67831074e-01,   7.59853941e-01],\n",
       "       [  1.43404642e-01,   5.49469111e-01],\n",
       "       [  9.12874806e-01,   1.02262507e-01],\n",
       "       [  1.67322516e-01,   1.45025184e-03],\n",
       "       [  5.40741979e-01,   1.66338230e-01],\n",
       "       [  8.36216193e-01,   9.95988051e-01],\n",
       "       [  1.44950682e-01,   2.24175781e-01],\n",
       "       [  3.92371236e-01,   5.67007953e-01],\n",
       "       [  7.58686122e-01,   1.66048290e-01],\n",
       "       [  5.07054881e-01,   5.94172291e-01],\n",
       "       [  9.81688337e-01,   5.67237279e-01],\n",
       "       [  1.48371086e-01,   4.86279101e-01],\n",
       "       [  7.12653226e-01,   9.34529210e-01],\n",
       "       [  8.45245248e-01,   5.28393886e-01],\n",
       "       [  9.35228883e-01,   8.94473410e-02],\n",
       "       [  8.17349148e-01,   4.38142626e-01],\n",
       "       [  8.79051667e-01,   9.13151521e-01],\n",
       "       [  5.45980625e-01,   5.44275810e-01],\n",
       "       [  4.56004360e-01,   7.48377487e-02],\n",
       "       [  8.37950185e-01,   5.04867763e-01],\n",
       "       [  8.67668037e-01,   8.65574276e-02],\n",
       "       [  1.15333191e-01,   1.12399302e-02],\n",
       "       [  7.75897735e-01,   4.90957589e-01],\n",
       "       [  6.81580075e-01,   2.76747146e-01],\n",
       "       [  6.70452718e-01,   2.98605781e-01],\n",
       "       [  1.71361017e-01,   2.51492207e-01],\n",
       "       [  4.91859658e-01,   1.67712547e-01],\n",
       "       [  6.58839553e-01,   9.68177713e-01],\n",
       "       [  1.87315188e-01,   3.33864279e-02],\n",
       "       [  9.81852439e-01,   1.08932330e-01],\n",
       "       [  4.12121272e-01,   3.80322447e-01],\n",
       "       [  9.69419876e-02,   5.17959990e-01],\n",
       "       [  6.91899862e-01,   5.32099661e-01],\n",
       "       [  7.87775391e-01,   1.30370335e-01],\n",
       "       [  6.16699472e-01,   4.76166952e-01],\n",
       "       [  2.40263107e-01,   9.44714592e-01],\n",
       "       [  5.18314221e-01,   7.16152590e-01],\n",
       "       [  6.70827005e-01,   5.58135253e-01],\n",
       "       [  9.14003314e-01,   6.23976123e-01],\n",
       "       [  8.23633785e-01,   9.63730824e-01],\n",
       "       [  8.95558965e-01,   8.60208269e-01],\n",
       "       [  8.94967136e-01,   3.29880218e-01],\n",
       "       [  6.99662558e-01,   8.23639637e-01],\n",
       "       [  8.08195884e-01,   3.42419628e-01],\n",
       "       [  2.69443319e-01,   5.35104401e-01],\n",
       "       [  5.87287059e-01,   6.40523875e-01],\n",
       "       [  1.76065679e-01,   1.13831851e-01],\n",
       "       [  8.42468943e-01,   4.23887707e-01],\n",
       "       [  6.89634428e-01,   2.84761571e-01],\n",
       "       [  8.08314078e-02,   1.88476219e-01],\n",
       "       [  2.90956032e-01,   3.80982660e-01],\n",
       "       [  6.92847940e-01,   7.37936458e-01],\n",
       "       [  5.92388256e-01,   5.59652693e-01],\n",
       "       [  5.33677141e-01,   4.55414150e-01],\n",
       "       [  9.15815194e-01,   3.80853476e-01],\n",
       "       [  5.11782301e-01,   2.96341642e-01],\n",
       "       [  2.36443763e-01,   8.72147701e-01],\n",
       "       [  3.62872110e-01,   5.24970191e-01],\n",
       "       [  2.53071960e-01,   8.43861477e-01],\n",
       "       [  4.97603850e-02,   9.70571536e-01],\n",
       "       [  3.94822715e-01,   3.73952090e-01],\n",
       "       [  8.60017046e-01,   5.77228487e-01],\n",
       "       [  6.39738916e-01,   3.40046426e-01],\n",
       "       [  4.36074635e-02,   6.51481690e-01],\n",
       "       [  5.25967196e-01,   8.58168450e-01],\n",
       "       [  8.20842971e-01,   2.41684338e-01],\n",
       "       [  4.42307658e-01,   8.52480716e-01],\n",
       "       [  5.76223772e-01,   8.52641549e-01],\n",
       "       [  4.25466659e-03,   4.42109303e-02],\n",
       "       [  3.12344991e-01,   9.53071922e-01],\n",
       "       [  1.61256464e-01,   5.06893133e-01],\n",
       "       [  5.16060439e-01,   6.61212204e-01],\n",
       "       [  8.56495792e-01,   6.14232530e-01],\n",
       "       [  9.00317368e-01,   7.30946114e-01],\n",
       "       [  9.20046741e-01,   7.19723099e-01],\n",
       "       [  3.82830553e-01,   2.02121839e-01],\n",
       "       [  9.33388368e-01,   2.47780904e-01],\n",
       "       [  6.43442368e-01,   7.28913579e-01],\n",
       "       [  2.48818281e-01,   7.07572530e-01],\n",
       "       [  5.15353863e-01,   9.20696180e-01],\n",
       "       [  4.28914365e-01,   8.50952581e-01],\n",
       "       [  9.85387254e-01,   2.44931996e-02],\n",
       "       [  1.82973079e-01,   9.96900820e-01],\n",
       "       [  9.53579365e-01,   6.83067095e-02],\n",
       "       [  7.14170492e-01,   8.57260698e-01],\n",
       "       [  7.91861003e-01,   7.41100509e-01],\n",
       "       [  3.25182574e-01,   8.84708792e-01],\n",
       "       [  5.08677264e-01,   4.54337156e-01],\n",
       "       [  3.76450753e-02,   3.60604060e-01],\n",
       "       [  5.35299291e-01,   7.08712152e-01],\n",
       "       [  6.78144082e-01,   8.98891846e-01],\n",
       "       [  1.70732720e-01,   6.21885895e-01],\n",
       "       [  5.87894935e-02,   8.56692840e-01],\n",
       "       [  1.77094431e-01,   8.07719200e-01],\n",
       "       [  8.58193137e-01,   1.69768343e-01],\n",
       "       [  2.36589737e-01,   5.09282035e-01],\n",
       "       [  3.89383792e-01,   1.81725323e-01],\n",
       "       [  8.68627681e-01,   4.28995446e-01],\n",
       "       [  6.04136827e-01,   5.55252674e-01],\n",
       "       [  7.08830548e-01,   7.48435149e-01],\n",
       "       [  1.99480490e-01,   4.69741268e-01],\n",
       "       [  3.06764846e-03,   8.94225058e-01],\n",
       "       [  1.57023432e-01,   8.11548152e-01],\n",
       "       [  9.03285207e-01,   8.09478225e-01],\n",
       "       [  6.15992245e-01,   5.94959184e-01],\n",
       "       [  3.18348761e-01,   1.03181477e-01],\n",
       "       [  8.95293613e-01,   4.97143053e-01],\n",
       "       [  7.47351043e-01,   2.55044749e-01],\n",
       "       [  1.09814200e-01,   1.26969468e-01],\n",
       "       [  8.78638752e-01,   4.24219506e-01],\n",
       "       [  8.36569088e-01,   9.30793093e-01],\n",
       "       [  2.61805860e-01,   3.85287221e-01],\n",
       "       [  4.89215104e-02,   6.36801460e-01],\n",
       "       [  8.78566142e-01,   3.06066792e-01],\n",
       "       [  9.82010669e-02,   9.56059251e-01],\n",
       "       [  7.39240270e-01,   5.52247459e-01],\n",
       "       [  3.15988029e-01,   6.36509496e-02],\n",
       "       [  6.29343003e-01,   8.53110920e-01],\n",
       "       [  6.62899104e-02,   4.66605686e-01],\n",
       "       [  4.35556479e-01,   2.35859728e-01],\n",
       "       [  3.81088184e-01,   5.17979451e-01],\n",
       "       [  8.57337512e-01,   5.29034979e-01],\n",
       "       [  1.52949521e-01,   4.88039359e-01],\n",
       "       [  1.17909649e-01,   1.72432750e-01],\n",
       "       [  8.26192602e-01,   5.00693478e-01],\n",
       "       [  2.83402508e-01,   6.12773041e-02],\n",
       "       [  1.37625399e-01,   3.92361878e-01],\n",
       "       [  6.10948791e-01,   4.47904650e-01],\n",
       "       [  3.70930521e-01,   7.01047128e-01],\n",
       "       [  1.83850459e-01,   7.80873980e-01],\n",
       "       [  3.39568338e-01,   7.81225814e-01],\n",
       "       [  9.83205177e-01,   9.78642416e-01],\n",
       "       [  1.72610008e-01,   3.59412178e-01],\n",
       "       [  6.56253658e-01,   9.58643101e-01],\n",
       "       [  2.05241570e-01,   5.26334995e-01],\n",
       "       [  8.87514983e-01,   7.98856031e-01],\n",
       "       [  5.82905521e-01,   3.26268604e-01],\n",
       "       [  5.74939115e-01,   4.43307303e-01],\n",
       "       [  9.76957157e-01,   4.35147615e-01],\n",
       "       [  7.92866694e-01,   7.56144024e-01],\n",
       "       [  1.29308239e-01,   9.10829524e-02],\n",
       "       [  5.88367303e-01,   2.50156654e-01],\n",
       "       [  5.09365924e-01,   4.94020448e-01],\n",
       "       [  9.72223841e-01,   4.00636696e-01],\n",
       "       [  1.52257302e-01,   8.84150776e-01],\n",
       "       [  1.65285848e-02,   9.23860704e-01],\n",
       "       [  3.23019938e-01,   1.78067961e-01],\n",
       "       [  8.31688070e-01,   7.94356784e-01],\n",
       "       [  2.73926095e-01,   7.07865660e-01],\n",
       "       [  3.71432010e-01,   3.71772544e-01],\n",
       "       [  1.38165787e-01,   2.64760623e-01],\n",
       "       [  4.93086013e-01,   6.07707926e-01],\n",
       "       [  6.11521536e-02,   9.10794407e-01],\n",
       "       [  9.70469683e-01,   9.81536786e-01],\n",
       "       [  7.80030158e-01,   4.76941505e-01],\n",
       "       [  9.89625777e-01,   7.45753938e-01],\n",
       "       [  3.89269971e-01,   3.41725766e-02],\n",
       "       [  7.79510862e-01,   1.45028613e-01],\n",
       "       [  5.87335010e-01,   7.01521104e-01],\n",
       "       [  9.34665365e-01,   3.24134218e-01],\n",
       "       [  3.13786709e-01,   8.55528996e-01],\n",
       "       [  7.62629596e-01,   7.38905619e-01],\n",
       "       [  3.42735961e-01,   8.49775600e-01],\n",
       "       [  2.95212547e-01,   4.64739466e-01],\n",
       "       [  9.71803859e-01,   6.97225038e-01],\n",
       "       [  9.01220474e-01,   7.11648212e-01],\n",
       "       [  9.54827488e-01,   2.80517117e-03],\n",
       "       [  5.23721922e-01,   4.05104983e-01],\n",
       "       [  8.37672073e-01,   6.08081999e-01],\n",
       "       [  8.11016672e-01,   2.94924349e-02],\n",
       "       [  5.40086998e-01,   1.19605163e-01],\n",
       "       [  1.45206342e-03,   8.31778957e-01],\n",
       "       [  3.50294432e-01,   8.02854675e-01],\n",
       "       [  9.55045217e-01,   4.71524196e-01],\n",
       "       [  4.34100222e-01,   8.67308291e-01],\n",
       "       [  9.31649335e-01,   9.09326662e-01],\n",
       "       [  9.12752633e-01,   5.67174426e-01],\n",
       "       [  2.31142170e-01,   2.15295106e-01],\n",
       "       [  7.88216568e-01,   4.77843420e-01],\n",
       "       [  7.58574202e-01,   4.16528527e-01],\n",
       "       [  5.16372183e-01,   1.86538773e-01],\n",
       "       [  7.58839391e-01,   4.07922620e-01],\n",
       "       [  8.43507498e-01,   1.97842724e-01],\n",
       "       [  9.46221265e-01,   6.42423899e-01],\n",
       "       [  1.33066432e-01,   4.93935623e-01],\n",
       "       [  4.92475744e-01,   3.97783159e-01],\n",
       "       [  5.03797505e-01,   5.61684084e-01],\n",
       "       [  5.48178280e-01,   5.26694843e-01],\n",
       "       [  5.03317026e-01,   3.37139297e-01],\n",
       "       [  4.60253592e-02,   6.97085218e-01],\n",
       "       [  1.07956632e-01,   2.70356483e-01],\n",
       "       [  7.87112768e-01,   3.23634331e-01],\n",
       "       [  7.83266511e-01,   9.60289832e-01],\n",
       "       [  2.14597889e-01,   3.03648296e-01],\n",
       "       [  3.29022622e-01,   2.69782743e-01],\n",
       "       [  1.24961530e-01,   6.87354289e-02],\n",
       "       [  3.87949031e-01,   6.34515178e-01],\n",
       "       [  8.51723775e-02,   5.80314335e-01],\n",
       "       [  1.67537165e-01,   6.66670911e-01],\n",
       "       [  4.02962660e-01,   8.42241636e-01],\n",
       "       [  6.31617565e-01,   7.85368635e-01],\n",
       "       [  8.08692409e-01,   3.30185540e-01],\n",
       "       [  2.32010241e-02,   1.27140700e-01],\n",
       "       [  3.92046630e-01,   3.33125460e-01],\n",
       "       [  8.83687639e-02,   2.86779001e-01],\n",
       "       [  3.98237452e-01,   6.35112848e-01],\n",
       "       [  5.69460386e-01,   9.80754659e-01],\n",
       "       [  3.98079327e-01,   9.46847659e-01],\n",
       "       [  7.67912039e-01,   4.84472164e-01],\n",
       "       [  7.76947401e-02,   7.91381339e-01],\n",
       "       [  3.46656557e-01,   8.53501314e-01],\n",
       "       [  2.54518361e-01,   7.34709235e-01],\n",
       "       [  8.03613294e-01,   8.98448510e-01],\n",
       "       [  7.33002125e-01,   9.85916937e-01],\n",
       "       [  3.70251241e-01,   8.55499869e-02],\n",
       "       [  1.07605217e-01,   4.93314075e-01],\n",
       "       [  5.96911687e-02,   9.01815815e-01],\n",
       "       [  6.47441553e-01,   8.82633074e-01],\n",
       "       [  7.89101409e-01,   1.63895610e-01],\n",
       "       [  5.65783769e-01,   9.53363996e-01],\n",
       "       [  6.76439500e-01,   5.21835456e-01],\n",
       "       [  1.03418144e-01,   7.05006394e-01],\n",
       "       [  2.27945875e-01,   9.78461129e-01],\n",
       "       [  3.69188014e-01,   1.38977038e-01],\n",
       "       [  3.86453307e-01,   5.11257916e-01],\n",
       "       [  3.14865648e-01,   9.89161249e-01],\n",
       "       [  4.05527974e-01,   9.71653222e-01],\n",
       "       [  1.39865438e-01,   3.75858682e-01],\n",
       "       [  9.67927799e-01,   8.63439163e-01],\n",
       "       [  3.34117062e-01,   7.59298924e-01],\n",
       "       [  1.95300747e-01,   3.12052189e-01],\n",
       "       [  7.28188248e-02,   4.00291108e-01],\n",
       "       [  8.07742913e-01,   7.26941797e-01],\n",
       "       [  6.38684383e-01,   9.55725246e-01],\n",
       "       [  4.95360012e-03,   2.37363833e-01],\n",
       "       [  3.25863583e-01,   2.03497494e-01],\n",
       "       [  2.31811234e-01,   5.22187249e-01],\n",
       "       [  9.24280699e-02,   5.14673052e-01],\n",
       "       [  9.57646787e-01,   5.24794756e-01],\n",
       "       [  8.38353341e-01,   4.59036186e-01],\n",
       "       [  1.02754898e-01,   4.17554028e-01],\n",
       "       [  2.38871625e-01,   5.36529105e-01],\n",
       "       [  6.48323852e-01,   6.53544051e-01],\n",
       "       [  7.64771973e-01,   3.15325126e-02],\n",
       "       [  2.91182299e-01,   4.14516191e-01],\n",
       "       [  3.64565129e-02,   4.86691077e-01],\n",
       "       [  7.21514694e-01,   7.61287332e-01],\n",
       "       [  6.72825548e-01,   4.67367579e-01],\n",
       "       [  7.17907859e-02,   4.31771041e-01],\n",
       "       [  2.86529890e-01,   3.42263719e-01],\n",
       "       [  6.15987789e-01,   3.33122702e-01],\n",
       "       [  1.73073091e-01,   6.54438598e-01],\n",
       "       [  6.31960644e-01,   2.95042630e-01],\n",
       "       [  2.09030038e-01,   4.87802984e-01],\n",
       "       [  5.08451682e-01,   5.82520418e-01],\n",
       "       [  3.56150822e-01,   8.84646133e-01],\n",
       "       [  5.89770299e-02,   4.44473445e-01],\n",
       "       [  9.44477547e-01,   9.21547606e-01],\n",
       "       [  8.58511837e-01,   4.16160996e-02],\n",
       "       [  3.84700466e-01,   3.48093071e-01],\n",
       "       [  7.63240556e-01,   8.76908489e-01],\n",
       "       [  2.32589576e-01,   7.14267894e-01],\n",
       "       [  7.16620523e-01,   1.44373940e-01],\n",
       "       [  6.84099152e-01,   5.41432627e-02],\n",
       "       [  5.42223361e-01,   2.71717662e-01],\n",
       "       [  1.89422566e-01,   4.11445643e-01],\n",
       "       [  7.51814726e-02,   7.45385924e-01],\n",
       "       [  7.55358020e-01,   6.86373679e-01],\n",
       "       [  9.01370523e-01,   9.25608683e-01],\n",
       "       [  2.68975661e-01,   7.48090263e-01],\n",
       "       [  8.60139955e-01,   4.14062405e-02],\n",
       "       [  2.07326709e-02,   5.62377686e-01],\n",
       "       [  8.86060660e-01,   4.87140675e-01],\n",
       "       [  9.84617852e-02,   5.48793693e-01],\n",
       "       [  5.85977916e-01,   2.63981922e-01],\n",
       "       [  2.94037992e-02,   9.10297133e-01],\n",
       "       [  1.74072021e-01,   5.03555440e-01],\n",
       "       [  2.29203902e-01,   2.91978610e-01],\n",
       "       [  5.58855772e-01,   8.26641158e-01],\n",
       "       [  8.17335208e-01,   4.44376863e-01],\n",
       "       [  5.17062925e-02,   2.54075977e-01],\n",
       "       [  2.20461858e-02,   9.81868313e-01],\n",
       "       [  8.21105492e-01,   2.30721758e-01]])"
      ]
     },
     "execution_count": 4,
     "metadata": {},
     "output_type": "execute_result"
    }
   ],
   "source": [
    "X"
   ]
  },
  {
   "cell_type": "code",
   "execution_count": 5,
   "metadata": {
    "collapsed": false
   },
   "outputs": [
    {
     "data": {
      "text/plain": [
       "array([1, 0, 0, 0, 1, 1, 1, 0, 0, 0, 1, 1, 0, 1, 1, 0, 0, 1, 0, 0, 1, 0, 1,\n",
       "       0, 0, 1, 1, 0, 1, 0, 1, 1, 1, 1, 1, 0, 0, 1, 0, 1, 0, 0, 1, 1, 0, 0,\n",
       "       1, 1, 1, 0, 0, 1, 1, 1, 1, 0, 1, 0, 0, 0, 0, 1, 0, 1, 0, 0, 0, 1, 0,\n",
       "       0, 1, 1, 1, 1, 1, 0, 0, 1, 1, 1, 0, 0, 0, 1, 1, 1, 0, 1, 0, 0, 1, 1,\n",
       "       1, 0, 0, 0, 0, 1, 0, 1, 0, 1, 1, 1, 0, 0, 0, 1, 0, 1, 1, 0, 0, 0, 1,\n",
       "       0, 0, 0, 0, 1, 1, 0, 0, 1, 0, 0, 0, 0, 1, 0, 0, 1, 1, 0, 1, 1, 1, 0,\n",
       "       0, 1, 1, 0, 1, 1, 1, 1, 1, 1, 0, 0, 1, 0, 1, 0, 0, 0, 0, 1, 0, 0, 0,\n",
       "       1, 1, 0, 0, 1, 1, 1, 0, 0, 0, 1, 1, 0, 1, 0, 0, 1, 0, 0, 0, 0, 0, 1,\n",
       "       0, 0, 1, 0, 1, 1, 1, 1, 0, 0, 1, 1, 1, 0, 0, 0, 0, 0, 1, 1, 0, 0, 1,\n",
       "       1, 1, 0, 1, 0, 1, 1, 0, 0, 0, 1, 0, 1, 1, 1, 0, 0, 1, 1, 0, 1, 1, 0,\n",
       "       1, 1, 0, 0, 1, 0, 0, 0, 0, 1, 0, 0, 0, 1, 0, 1, 1, 0, 0, 1, 1, 1, 1,\n",
       "       0, 1, 1, 0, 0, 0, 1, 1, 0, 0, 1, 0, 1, 1, 0, 0, 0, 0, 0, 0, 1, 0, 1,\n",
       "       1, 0, 0, 1, 0, 1, 0, 1, 1, 1, 1, 1, 0, 0, 1, 1, 1, 1, 1, 0, 0, 1, 1,\n",
       "       1, 0, 1, 0, 0, 0, 0, 1, 0, 1, 0, 1, 0, 0, 1, 0, 1, 1, 1, 0, 0, 1, 0,\n",
       "       1, 1, 1, 0, 1, 1, 1, 1, 1, 0, 1, 1, 0, 1, 1, 1, 1, 1, 0, 0, 0, 1, 1,\n",
       "       1, 1, 0, 0, 0, 0, 0, 0, 1, 0, 1, 1, 0, 0, 0, 0, 0, 1, 0, 1, 1, 1, 0,\n",
       "       0, 1, 0, 1, 1, 1, 0, 0, 1, 1, 0, 0, 1, 0, 1, 1, 0, 1, 1, 0, 1, 0, 0,\n",
       "       0, 1, 0, 0, 0, 1, 1, 1, 0, 1, 1, 1, 0, 0, 0, 0, 1, 1, 1, 1, 0, 0, 1,\n",
       "       0, 1, 1, 1, 0, 1, 0, 0, 0, 0, 1, 1, 0, 1, 0, 0, 0, 1, 0, 1, 1, 0, 1,\n",
       "       1, 0, 1, 0, 1, 1, 0, 0, 1, 0, 0, 0, 0, 1, 1, 1, 1, 0, 1, 0, 0, 1, 0,\n",
       "       1, 1, 0, 1, 0, 1, 1, 0, 0, 1, 0, 0, 0, 0, 0, 0, 1, 1, 0, 1, 0, 1, 0,\n",
       "       0, 0, 0, 0, 1, 0, 1, 0, 1, 0, 1, 1, 0, 0, 1, 1, 0])"
      ]
     },
     "execution_count": 5,
     "metadata": {},
     "output_type": "execute_result"
    }
   ],
   "source": [
    "y"
   ]
  },
  {
   "cell_type": "code",
   "execution_count": 8,
   "metadata": {
    "collapsed": false
   },
   "outputs": [
    {
     "data": {
      "text/plain": [
       "<matplotlib.collections.PathCollection at 0x10d23ebe0>"
      ]
     },
     "execution_count": 8,
     "metadata": {},
     "output_type": "execute_result"
    },
    {
     "data": {
      "image/png": "[encoded data removed]",
      "text/plain": [
       "<matplotlib.figure.Figure at 0x10d122278>"
      ]
     },
     "metadata": {},
     "output_type": "display_data"
    }
   ],
   "source": [
    "plt.scatter(X[:,0], X[:,1], c=y, s=50, cmap=plt.cm.Paired)"
   ]
  },
  {
   "cell_type": "code",
   "execution_count": 9,
   "metadata": {
    "collapsed": true
   },
   "outputs": [],
   "source": [
    "from sklearn import neighbors\n",
    "clf = neighbors.KNeighborsClassifier(n_neighbors=1)"
   ]
  },
  {
   "cell_type": "code",
   "execution_count": 14,
   "metadata": {
    "collapsed": true
   },
   "outputs": [],
   "source": [
    "X_train, X_test = X, X\n",
    "y_train, y_test = y, y"
   ]
  },
  {
   "cell_type": "code",
   "execution_count": 15,
   "metadata": {
    "collapsed": false
   },
   "outputs": [
    {
     "data": {
      "text/plain": [
       "KNeighborsClassifier(algorithm='auto', leaf_size=30, metric='minkowski',\n",
       "           metric_params=None, n_jobs=1, n_neighbors=1, p=2,\n",
       "           weights='uniform')"
      ]
     },
     "execution_count": 15,
     "metadata": {},
     "output_type": "execute_result"
    }
   ],
   "source": [
    "clf.fit(X_train, y_train)"
   ]
  },
  {
   "cell_type": "code",
   "execution_count": 16,
   "metadata": {
    "collapsed": false
   },
   "outputs": [
    {
     "data": {
      "text/plain": [
       "1.0"
      ]
     },
     "execution_count": 16,
     "metadata": {},
     "output_type": "execute_result"
    }
   ],
   "source": [
    "clf.score(X_test, y_test) # 過学習！"
   ]
  },
  {
   "cell_type": "code",
   "execution_count": 18,
   "metadata": {
    "collapsed": false
   },
   "outputs": [],
   "source": [
    "X_test2 = np.random.uniform(low=0, high=1, size=[N,2])\n",
    "y_test2 = np.random.choice([0,1], size=N)"
   ]
  },
  {
   "cell_type": "code",
   "execution_count": 19,
   "metadata": {
    "collapsed": false
   },
   "outputs": [
    {
     "data": {
      "text/plain": [
       "0.50800000000000001"
      ]
     },
     "execution_count": 19,
     "metadata": {},
     "output_type": "execute_result"
    }
   ],
   "source": [
    "clf.score(X_test2, y_test2)"
   ]
  },
  {
   "cell_type": "markdown",
   "metadata": {},
   "source": [
    "# 36.Hold-out"
   ]
  },
  {
   "cell_type": "code",
   "execution_count": 27,
   "metadata": {
    "collapsed": false
   },
   "outputs": [],
   "source": [
    "import numpy as np\n",
    "\n",
    "from sklearn.datasets import load_breast_cancer\n",
    "data = load_breast_cancer()\n",
    "\n",
    "X = data.data\n",
    "y = data.target\n",
    "\n",
    "from sklearn import linear_model\n",
    "clf = linear_model.LogisticRegression()\n",
    "\n",
    "from sklearn.cross_validation import train_test_split"
   ]
  },
  {
   "cell_type": "code",
   "execution_count": 32,
   "metadata": {
    "collapsed": false
   },
   "outputs": [],
   "source": [
    "X_train, X_test, y_train, y_test = train_test_split(X, y, train_size=0.5)"
   ]
  },
  {
   "cell_type": "code",
   "execution_count": 33,
   "metadata": {
    "collapsed": false
   },
   "outputs": [
    {
     "data": {
      "text/plain": [
       "((284, 30), (285, 30))"
      ]
     },
     "execution_count": 33,
     "metadata": {},
     "output_type": "execute_result"
    }
   ],
   "source": [
    "X_train.shape, X_test.shape"
   ]
  },
  {
   "cell_type": "code",
   "execution_count": 34,
   "metadata": {
    "collapsed": false
   },
   "outputs": [
    {
     "data": {
      "text/plain": [
       "LogisticRegression(C=1.0, class_weight=None, dual=False, fit_intercept=True,\n",
       "          intercept_scaling=1, max_iter=100, multi_class='ovr', n_jobs=1,\n",
       "          penalty='l2', random_state=None, solver='liblinear', tol=0.0001,\n",
       "          verbose=0, warm_start=False)"
      ]
     },
     "execution_count": 34,
     "metadata": {},
     "output_type": "execute_result"
    }
   ],
   "source": [
    "clf.fit(X_train, y_train)"
   ]
  },
  {
   "cell_type": "code",
   "execution_count": 35,
   "metadata": {
    "collapsed": false
   },
   "outputs": [
    {
     "data": {
      "text/plain": [
       "0.91929824561403506"
      ]
     },
     "execution_count": 35,
     "metadata": {},
     "output_type": "execute_result"
    }
   ],
   "source": [
    "clf.score(X_test, y_test)"
   ]
  },
  {
   "cell_type": "code",
   "execution_count": 40,
   "metadata": {
    "collapsed": true
   },
   "outputs": [],
   "source": [
    "# データを大きく\n",
    "from os.path import join, exists\n",
    "from os import makedirs\n",
    "from sklearn.datasets import get_data_home, mldata_filename\n",
    "from urllib.request import urlretrieve\n",
    " \n",
    "data_home = join(get_data_home(), 'mldata') # データ保管場所\n",
    "makedirs(data_home, exist_ok=True) # 保管ディレクトリを作成\n",
    " \n",
    "filename = join(data_home, mldata_filename('MNIST original') + '.mat') # ダウンロードファイル名\n",
    "if not exists(filename):\n",
    "    urlretrieve(\"https://raw.githubusercontent.com/amplab/datascience-sp14/master/lab7/mldata/mnist-original.mat\", filename) # ダウンロード"
   ]
  },
  {
   "cell_type": "code",
   "execution_count": 41,
   "metadata": {
    "collapsed": false
   },
   "outputs": [],
   "source": [
    "mnist = fetch_mldata('MNIST original')"
   ]
  },
  {
   "cell_type": "code",
   "execution_count": 42,
   "metadata": {
    "collapsed": false
   },
   "outputs": [
    {
     "data": {
      "text/plain": [
       "['label', 'data']"
      ]
     },
     "execution_count": 42,
     "metadata": {},
     "output_type": "execute_result"
    }
   ],
   "source": [
    "mnist.COL_NAMES"
   ]
  },
  {
   "cell_type": "code",
   "execution_count": 43,
   "metadata": {
    "collapsed": false
   },
   "outputs": [
    {
     "data": {
      "text/plain": [
       "'mldata.org dataset: mnist-original'"
      ]
     },
     "execution_count": 43,
     "metadata": {},
     "output_type": "execute_result"
    }
   ],
   "source": [
    "mnist.DESCR"
   ]
  },
  {
   "cell_type": "code",
   "execution_count": 45,
   "metadata": {
    "collapsed": false
   },
   "outputs": [
    {
     "data": {
      "text/plain": [
       "(70000, 784)"
      ]
     },
     "execution_count": 45,
     "metadata": {},
     "output_type": "execute_result"
    }
   ],
   "source": [
    "mnist.data.shape"
   ]
  },
  {
   "cell_type": "code",
   "execution_count": 47,
   "metadata": {
    "collapsed": false
   },
   "outputs": [
    {
     "data": {
      "text/plain": [
       "array([ 0.,  0.,  0., ...,  9.,  9.,  9.])"
      ]
     },
     "execution_count": 47,
     "metadata": {},
     "output_type": "execute_result"
    }
   ],
   "source": [
    "mnist.target # 10クラス問題"
   ]
  },
  {
   "cell_type": "code",
   "execution_count": 48,
   "metadata": {
    "collapsed": true
   },
   "outputs": [],
   "source": [
    "# MNISTは60000が学習, 10000がテストと決まっている\n",
    "\n",
    "X_train = mnist.data[:60000]\n",
    "X_test = mnist.data[60000:70000]\n",
    "\n",
    "y_train = mnist.target[:60000]\n",
    "y_test = mnist.target[60000:70000]"
   ]
  },
  {
   "cell_type": "code",
   "execution_count": 49,
   "metadata": {
    "collapsed": false
   },
   "outputs": [
    {
     "data": {
      "text/plain": [
       "LogisticRegression(C=1.0, class_weight=None, dual=False, fit_intercept=True,\n",
       "          intercept_scaling=1, max_iter=100, multi_class='ovr', n_jobs=1,\n",
       "          penalty='l2', random_state=None, solver='liblinear', tol=0.0001,\n",
       "          verbose=0, warm_start=False)"
      ]
     },
     "execution_count": 49,
     "metadata": {},
     "output_type": "execute_result"
    }
   ],
   "source": [
    "clf"
   ]
  },
  {
   "cell_type": "code",
   "execution_count": 50,
   "metadata": {
    "collapsed": true
   },
   "outputs": [],
   "source": [
    "# clf.fit(X_train, y_train) # これは1時間くらい回しても終わらない"
   ]
  },
  {
   "cell_type": "markdown",
   "metadata": {},
   "source": [
    "# 37.Hold-out2 : stratified"
   ]
  },
  {
   "cell_type": "code",
   "execution_count": 53,
   "metadata": {
    "collapsed": true
   },
   "outputs": [],
   "source": [
    "import numpy as np\n",
    "\n",
    "from sklearn.datasets import load_breast_cancer\n",
    "data = load_breast_cancer()\n",
    "\n",
    "X = data.data\n",
    "y = data.target\n",
    "\n",
    "from sklearn import linear_model\n",
    "clf = linear_model.LogisticRegression()\n",
    "\n",
    "from sklearn.cross_validation import train_test_split"
   ]
  },
  {
   "cell_type": "code",
   "execution_count": 54,
   "metadata": {
    "collapsed": true
   },
   "outputs": [],
   "source": [
    "X_train, X_test, y_train, y_test = train_test_split(X, y, train_size=0.5)"
   ]
  },
  {
   "cell_type": "code",
   "execution_count": 55,
   "metadata": {
    "collapsed": false
   },
   "outputs": [
    {
     "data": {
      "text/plain": [
       "((284, 30), (285, 30))"
      ]
     },
     "execution_count": 55,
     "metadata": {},
     "output_type": "execute_result"
    }
   ],
   "source": [
    "X_train.shape, X_test.shape"
   ]
  },
  {
   "cell_type": "code",
   "execution_count": 56,
   "metadata": {
    "collapsed": false
   },
   "outputs": [
    {
     "data": {
      "text/plain": [
       "LogisticRegression(C=1.0, class_weight=None, dual=False, fit_intercept=True,\n",
       "          intercept_scaling=1, max_iter=100, multi_class='ovr', n_jobs=1,\n",
       "          penalty='l2', random_state=None, solver='liblinear', tol=0.0001,\n",
       "          verbose=0, warm_start=False)"
      ]
     },
     "execution_count": 56,
     "metadata": {},
     "output_type": "execute_result"
    }
   ],
   "source": [
    "clf.fit(X_train, y_train)"
   ]
  },
  {
   "cell_type": "code",
   "execution_count": 57,
   "metadata": {
    "collapsed": false
   },
   "outputs": [
    {
     "data": {
      "text/plain": [
       "0.93684210526315792"
      ]
     },
     "execution_count": 57,
     "metadata": {},
     "output_type": "execute_result"
    }
   ],
   "source": [
    "clf.score(X_test, y_test)"
   ]
  },
  {
   "cell_type": "code",
   "execution_count": 67,
   "metadata": {
    "collapsed": false
   },
   "outputs": [
    {
     "data": {
      "text/plain": [
       "[0.94736842105263153,\n",
       " 0.94035087719298249,\n",
       " 0.93684210526315792,\n",
       " 0.95789473684210524,\n",
       " 0.95438596491228067,\n",
       " 0.94736842105263153,\n",
       " 0.94035087719298249,\n",
       " 0.96491228070175439,\n",
       " 0.94385964912280707,\n",
       " 0.93684210526315792]"
      ]
     },
     "execution_count": 67,
     "metadata": {},
     "output_type": "execute_result"
    }
   ],
   "source": [
    "scores = []\n",
    "\n",
    "for _ in range(10):\n",
    "    X_train, X_test, y_train, y_test = train_test_split(X, y, train_size=0.5)\n",
    "    clf.fit(X_train, y_train)\n",
    "    score = clf.score(X_test, y_test)\n",
    "    scores.append(score)\n",
    "    \n",
    "scores"
   ]
  },
  {
   "cell_type": "code",
   "execution_count": 68,
   "metadata": {
    "collapsed": false
   },
   "outputs": [
    {
     "data": {
      "text/plain": [
       "0.94701754385964931"
      ]
     },
     "execution_count": 68,
     "metadata": {},
     "output_type": "execute_result"
    }
   ],
   "source": [
    "sum(scores) / len(scores)"
   ]
  },
  {
   "cell_type": "code",
   "execution_count": 71,
   "metadata": {
    "collapsed": false
   },
   "outputs": [
    {
     "data": {
      "text/plain": [
       "(array([ 2.,  2.,  1.,  2.,  0.,  0.,  1.,  1.,  0.,  1.]),\n",
       " array([ 0.93684211,  0.93964912,  0.94245614,  0.94526316,  0.94807018,\n",
       "         0.95087719,  0.95368421,  0.95649123,  0.95929825,  0.96210526,\n",
       "         0.96491228]),\n",
       " <a list of 10 Patch objects>)"
      ]
     },
     "execution_count": 71,
     "metadata": {},
     "output_type": "execute_result"
    },
    {
     "data": {
      "image/png": "[encoded data removed]",
      "text/plain": [
       "<matplotlib.figure.Figure at 0x11245a908>"
      ]
     },
     "metadata": {},
     "output_type": "display_data"
    }
   ],
   "source": [
    "plt.hist(scores)"
   ]
  },
  {
   "cell_type": "code",
   "execution_count": 79,
   "metadata": {
    "collapsed": false
   },
   "outputs": [],
   "source": [
    "# クラスのバランスが崩れたらどうなるか\n",
    "scores = []\n",
    "rates = []\n",
    "\n",
    "for _ in range(10):\n",
    "    X_train, X_test, y_train, y_test = train_test_split(X, y, train_size=0.95)\n",
    "    rate = sum(y_test) / len(y_test)\n",
    "    rates.append(rate)\n",
    "    clf.fit(X_train, y_train)\n",
    "    score = clf.score(X_test, y_test)\n",
    "    scores.append(score)"
   ]
  },
  {
   "cell_type": "code",
   "execution_count": 78,
   "metadata": {
    "collapsed": false
   },
   "outputs": [
    {
     "data": {
      "text/plain": [
       "[0.65517241379310343,\n",
       " 0.62068965517241381,\n",
       " 0.55172413793103448,\n",
       " 0.65517241379310343,\n",
       " 0.68965517241379315,\n",
       " 0.41379310344827586,\n",
       " 0.68965517241379315,\n",
       " 0.48275862068965519,\n",
       " 0.72413793103448276,\n",
       " 0.58620689655172409]"
      ]
     },
     "execution_count": 78,
     "metadata": {},
     "output_type": "execute_result"
    }
   ],
   "source": [
    "rates"
   ]
  },
  {
   "cell_type": "code",
   "execution_count": 80,
   "metadata": {
    "collapsed": false
   },
   "outputs": [
    {
     "data": {
      "text/plain": [
       "[0.93103448275862066,\n",
       " 1.0,\n",
       " 1.0,\n",
       " 1.0,\n",
       " 0.96551724137931039,\n",
       " 1.0,\n",
       " 0.93103448275862066,\n",
       " 1.0,\n",
       " 0.89655172413793105,\n",
       " 0.96551724137931039]"
      ]
     },
     "execution_count": 80,
     "metadata": {},
     "output_type": "execute_result"
    }
   ],
   "source": [
    "scores"
   ]
  },
  {
   "cell_type": "code",
   "execution_count": 81,
   "metadata": {
    "collapsed": true
   },
   "outputs": [],
   "source": [
    "# 層化（stratify)\n",
    "scores = []\n",
    "rates = []\n",
    "\n",
    "for _ in range(10):\n",
    "    X_train, X_test, y_train, y_test = train_test_split(X, y, train_size=0.95, stratify=y)\n",
    "    rate = sum(y_test) / len(y_test)\n",
    "    rates.append(rate)\n",
    "    clf.fit(X_train, y_train)\n",
    "    score = clf.score(X_test, y_test)\n",
    "    scores.append(score)"
   ]
  },
  {
   "cell_type": "code",
   "execution_count": 83,
   "metadata": {
    "collapsed": false
   },
   "outputs": [
    {
     "data": {
      "text/plain": [
       "[0.62068965517241381,\n",
       " 0.62068965517241381,\n",
       " 0.62068965517241381,\n",
       " 0.62068965517241381,\n",
       " 0.62068965517241381,\n",
       " 0.62068965517241381,\n",
       " 0.62068965517241381,\n",
       " 0.62068965517241381,\n",
       " 0.62068965517241381,\n",
       " 0.62068965517241381]"
      ]
     },
     "execution_count": 83,
     "metadata": {},
     "output_type": "execute_result"
    }
   ],
   "source": [
    "rates"
   ]
  },
  {
   "cell_type": "code",
   "execution_count": 84,
   "metadata": {
    "collapsed": false
   },
   "outputs": [
    {
     "data": {
      "text/plain": [
       "[0.93103448275862066,\n",
       " 0.86206896551724133,\n",
       " 1.0,\n",
       " 0.89655172413793105,\n",
       " 1.0,\n",
       " 0.96551724137931039,\n",
       " 0.93103448275862066,\n",
       " 0.96551724137931039,\n",
       " 0.96551724137931039,\n",
       " 0.89655172413793105]"
      ]
     },
     "execution_count": 84,
     "metadata": {},
     "output_type": "execute_result"
    }
   ],
   "source": [
    "scores"
   ]
  },
  {
   "cell_type": "markdown",
   "metadata": {},
   "source": [
    "# 38.cross validation, stratified 10-fold CV"
   ]
  },
  {
   "cell_type": "code",
   "execution_count": 103,
   "metadata": {
    "collapsed": true
   },
   "outputs": [],
   "source": [
    "import numpy as np\n",
    "\n",
    "from sklearn.datasets import load_breast_cancer\n",
    "data = load_breast_cancer()\n",
    "\n",
    "X = data.data\n",
    "y = data.target\n",
    "\n",
    "from sklearn import linear_model\n",
    "clf = linear_model.LogisticRegression()"
   ]
  },
  {
   "cell_type": "code",
   "execution_count": 105,
   "metadata": {
    "collapsed": false
   },
   "outputs": [],
   "source": [
    "from sklearn.cross_validation import KFold"
   ]
  },
  {
   "cell_type": "code",
   "execution_count": 120,
   "metadata": {
    "collapsed": false
   },
   "outputs": [
    {
     "name": "stdout",
     "output_type": "stream",
     "text": [
      "0.912280701754\n",
      "0.947368421053\n",
      "0.973684210526\n",
      "0.973684210526\n",
      "0.955752212389\n"
     ]
    }
   ],
   "source": [
    "for train_index, test_index in KFold(len(y), 5):\n",
    "    X_train, X_test = X[train_index], X[test_index]\n",
    "    y_train, y_test = y[train_index], y[test_index]\n",
    "    \n",
    "    clf.fit(X_train, y_train)\n",
    "    print(clf.score(X_test, y_test))"
   ]
  },
  {
   "cell_type": "code",
   "execution_count": 116,
   "metadata": {
    "collapsed": true
   },
   "outputs": [],
   "source": [
    "from sklearn.cross_validation import StratifiedKFold"
   ]
  },
  {
   "cell_type": "code",
   "execution_count": 125,
   "metadata": {
    "collapsed": false
   },
   "outputs": [
    {
     "name": "stdout",
     "output_type": "stream",
     "text": [
      "1. Score:0.9304347826086956\n",
      "2. Score:0.9391304347826087\n",
      "3. Score:0.9734513274336283\n",
      "4. Score:0.9469026548672567\n",
      "5. Score:0.9646017699115044\n"
     ]
    }
   ],
   "source": [
    "# 層化\n",
    "\n",
    "i = 1\n",
    "\n",
    "for train_index, test_index in StratifiedKFold(y, 5):\n",
    "    X_train, X_test = X[train_index], X[test_index]\n",
    "    y_train, y_test = y[train_index], y[test_index]\n",
    "    \n",
    "    clf.fit(X_train, y_train)\n",
    "    score = clf.score(X_test, y_test)\n",
    "    print('{}. Score:{}'.format(i, score))\n",
    "    i += 1"
   ]
  },
  {
   "cell_type": "code",
   "execution_count": 126,
   "metadata": {
    "collapsed": false
   },
   "outputs": [],
   "source": [
    "# 上記のことを簡単にやってくれるオブジェクトがある\n",
    "from sklearn.cross_validation import cross_val_score\n",
    "\n",
    "ave_score = cross_val_score(clf, X, y, cv=10) # Stratified "
   ]
  },
  {
   "cell_type": "code",
   "execution_count": 128,
   "metadata": {
    "collapsed": false
   },
   "outputs": [
    {
     "data": {
      "text/plain": [
       "0.95089987900786443"
      ]
     },
     "execution_count": 128,
     "metadata": {},
     "output_type": "execute_result"
    }
   ],
   "source": [
    "ave_score.mean()"
   ]
  },
  {
   "cell_type": "markdown",
   "metadata": {},
   "source": [
    "# 39. Leave One Out, Leave-p-out, Leave-one-group-out"
   ]
  },
  {
   "cell_type": "code",
   "execution_count": 2,
   "metadata": {
    "collapsed": true
   },
   "outputs": [],
   "source": [
    "import numpy as np\n",
    "\n",
    "from sklearn.datasets import load_breast_cancer\n",
    "data = load_breast_cancer()\n",
    "\n",
    "X = data.data\n",
    "y = data.target\n",
    "\n",
    "from sklearn import linear_model\n",
    "clf = linear_model.LogisticRegression()"
   ]
  },
  {
   "cell_type": "code",
   "execution_count": 3,
   "metadata": {
    "collapsed": false
   },
   "outputs": [],
   "source": [
    "from sklearn.cross_validation import LeaveOneOut\n",
    "loocv = LeaveOneOut(len(y))"
   ]
  },
  {
   "cell_type": "code",
   "execution_count": 4,
   "metadata": {
    "collapsed": false
   },
   "outputs": [],
   "source": [
    "from sklearn.cross_validation import cross_val_score\n",
    "\n",
    "scores = cross_val_score(clf, X, y, cv=loocv) # Stratified "
   ]
  },
  {
   "cell_type": "code",
   "execution_count": 5,
   "metadata": {
    "collapsed": false
   },
   "outputs": [
    {
     "data": {
      "text/plain": [
       "(0.95079086115992972, 0.21630441395100791, 569)"
      ]
     },
     "execution_count": 5,
     "metadata": {},
     "output_type": "execute_result"
    }
   ],
   "source": [
    "scores.mean(), scores.std(), scores.size"
   ]
  },
  {
   "cell_type": "code",
   "execution_count": 6,
   "metadata": {
    "collapsed": false
   },
   "outputs": [],
   "source": [
    "# leave-p-out\n",
    "\n",
    "from sklearn.cross_validation import LeavePOut\n",
    "loocv = LeavePOut(len(y), 2)"
   ]
  },
  {
   "cell_type": "code",
   "execution_count": null,
   "metadata": {
    "collapsed": true
   },
   "outputs": [],
   "source": [
    "# すごく時間がかかる\n",
    "# from sklearn.cross_validation import cross_val_score\n",
    "\n",
    "# scores = cross_val_score(clf, X, y, cv=loocv) # Stratified "
   ]
  },
  {
   "cell_type": "code",
   "execution_count": 8,
   "metadata": {
    "collapsed": false
   },
   "outputs": [
    {
     "data": {
      "text/plain": [
       "569"
      ]
     },
     "execution_count": 8,
     "metadata": {},
     "output_type": "execute_result"
    }
   ],
   "source": [
    "scores.size"
   ]
  },
  {
   "cell_type": "code",
   "execution_count": 9,
   "metadata": {
    "collapsed": true
   },
   "outputs": [],
   "source": [
    "# leave-one-group-out\n",
    "group = np.array(list(range(50))*12)\n",
    "group = np.sort(group[:y.size])"
   ]
  },
  {
   "cell_type": "code",
   "execution_count": 10,
   "metadata": {
    "collapsed": false
   },
   "outputs": [
    {
     "data": {
      "text/plain": [
       "569"
      ]
     },
     "execution_count": 10,
     "metadata": {},
     "output_type": "execute_result"
    }
   ],
   "source": [
    "group.size"
   ]
  },
  {
   "cell_type": "code",
   "execution_count": 12,
   "metadata": {
    "collapsed": false
   },
   "outputs": [
    {
     "data": {
      "text/plain": [
       "array([ 0,  0,  0,  0,  0,  0,  0,  0,  0,  0,  0,  0,  1,  1,  1,  1,  1,\n",
       "        1,  1,  1,  1,  1,  1,  1,  2,  2,  2,  2,  2,  2,  2,  2,  2,  2,\n",
       "        2,  2,  3,  3,  3,  3,  3,  3,  3,  3,  3,  3,  3,  3,  4,  4,  4,\n",
       "        4,  4,  4,  4,  4,  4,  4,  4,  4,  5,  5,  5,  5,  5,  5,  5,  5,\n",
       "        5,  5,  5,  5,  6,  6,  6,  6,  6,  6,  6,  6,  6,  6,  6,  6,  7,\n",
       "        7,  7,  7,  7,  7,  7,  7,  7,  7,  7,  7,  8,  8,  8,  8,  8,  8,\n",
       "        8,  8,  8,  8,  8,  8,  9,  9,  9,  9,  9,  9,  9,  9,  9,  9,  9,\n",
       "        9, 10, 10, 10, 10, 10, 10, 10, 10, 10, 10, 10, 10, 11, 11, 11, 11,\n",
       "       11, 11, 11, 11, 11, 11, 11, 11, 12, 12, 12, 12, 12, 12, 12, 12, 12,\n",
       "       12, 12, 12, 13, 13, 13, 13, 13, 13, 13, 13, 13, 13, 13, 13, 14, 14,\n",
       "       14, 14, 14, 14, 14, 14, 14, 14, 14, 14, 15, 15, 15, 15, 15, 15, 15,\n",
       "       15, 15, 15, 15, 15, 16, 16, 16, 16, 16, 16, 16, 16, 16, 16, 16, 16,\n",
       "       17, 17, 17, 17, 17, 17, 17, 17, 17, 17, 17, 17, 18, 18, 18, 18, 18,\n",
       "       18, 18, 18, 18, 18, 18, 18, 19, 19, 19, 19, 19, 19, 19, 19, 19, 19,\n",
       "       19, 20, 20, 20, 20, 20, 20, 20, 20, 20, 20, 20, 21, 21, 21, 21, 21,\n",
       "       21, 21, 21, 21, 21, 21, 22, 22, 22, 22, 22, 22, 22, 22, 22, 22, 22,\n",
       "       23, 23, 23, 23, 23, 23, 23, 23, 23, 23, 23, 24, 24, 24, 24, 24, 24,\n",
       "       24, 24, 24, 24, 24, 25, 25, 25, 25, 25, 25, 25, 25, 25, 25, 25, 26,\n",
       "       26, 26, 26, 26, 26, 26, 26, 26, 26, 26, 27, 27, 27, 27, 27, 27, 27,\n",
       "       27, 27, 27, 27, 28, 28, 28, 28, 28, 28, 28, 28, 28, 28, 28, 29, 29,\n",
       "       29, 29, 29, 29, 29, 29, 29, 29, 29, 30, 30, 30, 30, 30, 30, 30, 30,\n",
       "       30, 30, 30, 31, 31, 31, 31, 31, 31, 31, 31, 31, 31, 31, 32, 32, 32,\n",
       "       32, 32, 32, 32, 32, 32, 32, 32, 33, 33, 33, 33, 33, 33, 33, 33, 33,\n",
       "       33, 33, 34, 34, 34, 34, 34, 34, 34, 34, 34, 34, 34, 35, 35, 35, 35,\n",
       "       35, 35, 35, 35, 35, 35, 35, 36, 36, 36, 36, 36, 36, 36, 36, 36, 36,\n",
       "       36, 37, 37, 37, 37, 37, 37, 37, 37, 37, 37, 37, 38, 38, 38, 38, 38,\n",
       "       38, 38, 38, 38, 38, 38, 39, 39, 39, 39, 39, 39, 39, 39, 39, 39, 39,\n",
       "       40, 40, 40, 40, 40, 40, 40, 40, 40, 40, 40, 41, 41, 41, 41, 41, 41,\n",
       "       41, 41, 41, 41, 41, 42, 42, 42, 42, 42, 42, 42, 42, 42, 42, 42, 43,\n",
       "       43, 43, 43, 43, 43, 43, 43, 43, 43, 43, 44, 44, 44, 44, 44, 44, 44,\n",
       "       44, 44, 44, 44, 45, 45, 45, 45, 45, 45, 45, 45, 45, 45, 45, 46, 46,\n",
       "       46, 46, 46, 46, 46, 46, 46, 46, 46, 47, 47, 47, 47, 47, 47, 47, 47,\n",
       "       47, 47, 47, 48, 48, 48, 48, 48, 48, 48, 48, 48, 48, 48, 49, 49, 49,\n",
       "       49, 49, 49, 49, 49, 49, 49, 49])"
      ]
     },
     "execution_count": 12,
     "metadata": {},
     "output_type": "execute_result"
    }
   ],
   "source": [
    "group"
   ]
  },
  {
   "cell_type": "code",
   "execution_count": 18,
   "metadata": {
    "collapsed": false
   },
   "outputs": [],
   "source": [
    "# leave-one-group-out\n",
    "\n",
    "from sklearn.cross_validation import LeaveOneLabelOut\n",
    "loocv = LeaveOneLabelOut(y)"
   ]
  },
  {
   "cell_type": "code",
   "execution_count": 19,
   "metadata": {
    "collapsed": false
   },
   "outputs": [
    {
     "ename": "ValueError",
     "evalue": "This solver needs samples of at least 2 classes in the data, but the data contains only one class: 1",
     "output_type": "error",
     "traceback": [
      "\u001b[0;31m---------------------------------------------------------------------------\u001b[0m",
      "\u001b[0;31mValueError\u001b[0m                                Traceback (most recent call last)",
      "\u001b[0;32m<ipython-input-19-daf05e773eda>\u001b[0m in \u001b[0;36m<module>\u001b[0;34m()\u001b[0m\n\u001b[1;32m      1\u001b[0m \u001b[0;32mfrom\u001b[0m \u001b[0msklearn\u001b[0m\u001b[0;34m.\u001b[0m\u001b[0mcross_validation\u001b[0m \u001b[0;32mimport\u001b[0m \u001b[0mcross_val_score\u001b[0m\u001b[0;34m\u001b[0m\u001b[0m\n\u001b[1;32m      2\u001b[0m \u001b[0;34m\u001b[0m\u001b[0m\n\u001b[0;32m----> 3\u001b[0;31m \u001b[0mscores\u001b[0m \u001b[0;34m=\u001b[0m \u001b[0mcross_val_score\u001b[0m\u001b[0;34m(\u001b[0m\u001b[0mclf\u001b[0m\u001b[0;34m,\u001b[0m \u001b[0mX\u001b[0m\u001b[0;34m,\u001b[0m \u001b[0my\u001b[0m\u001b[0;34m,\u001b[0m \u001b[0mcv\u001b[0m\u001b[0;34m=\u001b[0m\u001b[0mloocv\u001b[0m\u001b[0;34m)\u001b[0m \u001b[0;31m# Stratified\u001b[0m\u001b[0;34m\u001b[0m\u001b[0m\n\u001b[0m",
      "\u001b[0;32m/Users/ken.nakano/anaconda/lib/python3.5/site-packages/sklearn/cross_validation.py\u001b[0m in \u001b[0;36mcross_val_score\u001b[0;34m(estimator, X, y, scoring, cv, n_jobs, verbose, fit_params, pre_dispatch)\u001b[0m\n\u001b[1;32m   1431\u001b[0m                                               \u001b[0mtrain\u001b[0m\u001b[0;34m,\u001b[0m \u001b[0mtest\u001b[0m\u001b[0;34m,\u001b[0m \u001b[0mverbose\u001b[0m\u001b[0;34m,\u001b[0m \u001b[0;32mNone\u001b[0m\u001b[0;34m,\u001b[0m\u001b[0;34m\u001b[0m\u001b[0m\n\u001b[1;32m   1432\u001b[0m                                               fit_params)\n\u001b[0;32m-> 1433\u001b[0;31m                       for train, test in cv)\n\u001b[0m\u001b[1;32m   1434\u001b[0m     \u001b[0;32mreturn\u001b[0m \u001b[0mnp\u001b[0m\u001b[0;34m.\u001b[0m\u001b[0marray\u001b[0m\u001b[0;34m(\u001b[0m\u001b[0mscores\u001b[0m\u001b[0;34m)\u001b[0m\u001b[0;34m[\u001b[0m\u001b[0;34m:\u001b[0m\u001b[0;34m,\u001b[0m \u001b[0;36m0\u001b[0m\u001b[0;34m]\u001b[0m\u001b[0;34m\u001b[0m\u001b[0m\n\u001b[1;32m   1435\u001b[0m \u001b[0;34m\u001b[0m\u001b[0m\n",
      "\u001b[0;32m/Users/ken.nakano/anaconda/lib/python3.5/site-packages/sklearn/externals/joblib/parallel.py\u001b[0m in \u001b[0;36m__call__\u001b[0;34m(self, iterable)\u001b[0m\n\u001b[1;32m    798\u001b[0m             \u001b[0;31m# was dispatched. In particular this covers the edge\u001b[0m\u001b[0;34m\u001b[0m\u001b[0;34m\u001b[0m\u001b[0m\n\u001b[1;32m    799\u001b[0m             \u001b[0;31m# case of Parallel used with an exhausted iterator.\u001b[0m\u001b[0;34m\u001b[0m\u001b[0;34m\u001b[0m\u001b[0m\n\u001b[0;32m--> 800\u001b[0;31m             \u001b[0;32mwhile\u001b[0m \u001b[0mself\u001b[0m\u001b[0;34m.\u001b[0m\u001b[0mdispatch_one_batch\u001b[0m\u001b[0;34m(\u001b[0m\u001b[0miterator\u001b[0m\u001b[0;34m)\u001b[0m\u001b[0;34m:\u001b[0m\u001b[0;34m\u001b[0m\u001b[0m\n\u001b[0m\u001b[1;32m    801\u001b[0m                 \u001b[0mself\u001b[0m\u001b[0;34m.\u001b[0m\u001b[0m_iterating\u001b[0m \u001b[0;34m=\u001b[0m \u001b[0;32mTrue\u001b[0m\u001b[0;34m\u001b[0m\u001b[0m\n\u001b[1;32m    802\u001b[0m             \u001b[0;32melse\u001b[0m\u001b[0;34m:\u001b[0m\u001b[0;34m\u001b[0m\u001b[0m\n",
      "\u001b[0;32m/Users/ken.nakano/anaconda/lib/python3.5/site-packages/sklearn/externals/joblib/parallel.py\u001b[0m in \u001b[0;36mdispatch_one_batch\u001b[0;34m(self, iterator)\u001b[0m\n\u001b[1;32m    656\u001b[0m                 \u001b[0;32mreturn\u001b[0m \u001b[0;32mFalse\u001b[0m\u001b[0;34m\u001b[0m\u001b[0m\n\u001b[1;32m    657\u001b[0m             \u001b[0;32melse\u001b[0m\u001b[0;34m:\u001b[0m\u001b[0;34m\u001b[0m\u001b[0m\n\u001b[0;32m--> 658\u001b[0;31m                 \u001b[0mself\u001b[0m\u001b[0;34m.\u001b[0m\u001b[0m_dispatch\u001b[0m\u001b[0;34m(\u001b[0m\u001b[0mtasks\u001b[0m\u001b[0;34m)\u001b[0m\u001b[0;34m\u001b[0m\u001b[0m\n\u001b[0m\u001b[1;32m    659\u001b[0m                 \u001b[0;32mreturn\u001b[0m \u001b[0;32mTrue\u001b[0m\u001b[0;34m\u001b[0m\u001b[0m\n\u001b[1;32m    660\u001b[0m \u001b[0;34m\u001b[0m\u001b[0m\n",
      "\u001b[0;32m/Users/ken.nakano/anaconda/lib/python3.5/site-packages/sklearn/externals/joblib/parallel.py\u001b[0m in \u001b[0;36m_dispatch\u001b[0;34m(self, batch)\u001b[0m\n\u001b[1;32m    564\u001b[0m \u001b[0;34m\u001b[0m\u001b[0m\n\u001b[1;32m    565\u001b[0m         \u001b[0;32mif\u001b[0m \u001b[0mself\u001b[0m\u001b[0;34m.\u001b[0m\u001b[0m_pool\u001b[0m \u001b[0;32mis\u001b[0m \u001b[0;32mNone\u001b[0m\u001b[0;34m:\u001b[0m\u001b[0;34m\u001b[0m\u001b[0m\n\u001b[0;32m--> 566\u001b[0;31m             \u001b[0mjob\u001b[0m \u001b[0;34m=\u001b[0m \u001b[0mImmediateComputeBatch\u001b[0m\u001b[0;34m(\u001b[0m\u001b[0mbatch\u001b[0m\u001b[0;34m)\u001b[0m\u001b[0;34m\u001b[0m\u001b[0m\n\u001b[0m\u001b[1;32m    567\u001b[0m             \u001b[0mself\u001b[0m\u001b[0;34m.\u001b[0m\u001b[0m_jobs\u001b[0m\u001b[0;34m.\u001b[0m\u001b[0mappend\u001b[0m\u001b[0;34m(\u001b[0m\u001b[0mjob\u001b[0m\u001b[0;34m)\u001b[0m\u001b[0;34m\u001b[0m\u001b[0m\n\u001b[1;32m    568\u001b[0m             \u001b[0mself\u001b[0m\u001b[0;34m.\u001b[0m\u001b[0mn_dispatched_batches\u001b[0m \u001b[0;34m+=\u001b[0m \u001b[0;36m1\u001b[0m\u001b[0;34m\u001b[0m\u001b[0m\n",
      "\u001b[0;32m/Users/ken.nakano/anaconda/lib/python3.5/site-packages/sklearn/externals/joblib/parallel.py\u001b[0m in \u001b[0;36m__init__\u001b[0;34m(self, batch)\u001b[0m\n\u001b[1;32m    178\u001b[0m         \u001b[0;31m# Don't delay the application, to avoid keeping the input\u001b[0m\u001b[0;34m\u001b[0m\u001b[0;34m\u001b[0m\u001b[0m\n\u001b[1;32m    179\u001b[0m         \u001b[0;31m# arguments in memory\u001b[0m\u001b[0;34m\u001b[0m\u001b[0;34m\u001b[0m\u001b[0m\n\u001b[0;32m--> 180\u001b[0;31m         \u001b[0mself\u001b[0m\u001b[0;34m.\u001b[0m\u001b[0mresults\u001b[0m \u001b[0;34m=\u001b[0m \u001b[0mbatch\u001b[0m\u001b[0;34m(\u001b[0m\u001b[0;34m)\u001b[0m\u001b[0;34m\u001b[0m\u001b[0m\n\u001b[0m\u001b[1;32m    181\u001b[0m \u001b[0;34m\u001b[0m\u001b[0m\n\u001b[1;32m    182\u001b[0m     \u001b[0;32mdef\u001b[0m \u001b[0mget\u001b[0m\u001b[0;34m(\u001b[0m\u001b[0mself\u001b[0m\u001b[0;34m)\u001b[0m\u001b[0;34m:\u001b[0m\u001b[0;34m\u001b[0m\u001b[0m\n",
      "\u001b[0;32m/Users/ken.nakano/anaconda/lib/python3.5/site-packages/sklearn/externals/joblib/parallel.py\u001b[0m in \u001b[0;36m__call__\u001b[0;34m(self)\u001b[0m\n\u001b[1;32m     70\u001b[0m \u001b[0;34m\u001b[0m\u001b[0m\n\u001b[1;32m     71\u001b[0m     \u001b[0;32mdef\u001b[0m \u001b[0m__call__\u001b[0m\u001b[0;34m(\u001b[0m\u001b[0mself\u001b[0m\u001b[0;34m)\u001b[0m\u001b[0;34m:\u001b[0m\u001b[0;34m\u001b[0m\u001b[0m\n\u001b[0;32m---> 72\u001b[0;31m         \u001b[0;32mreturn\u001b[0m \u001b[0;34m[\u001b[0m\u001b[0mfunc\u001b[0m\u001b[0;34m(\u001b[0m\u001b[0;34m*\u001b[0m\u001b[0margs\u001b[0m\u001b[0;34m,\u001b[0m \u001b[0;34m**\u001b[0m\u001b[0mkwargs\u001b[0m\u001b[0;34m)\u001b[0m \u001b[0;32mfor\u001b[0m \u001b[0mfunc\u001b[0m\u001b[0;34m,\u001b[0m \u001b[0margs\u001b[0m\u001b[0;34m,\u001b[0m \u001b[0mkwargs\u001b[0m \u001b[0;32min\u001b[0m \u001b[0mself\u001b[0m\u001b[0;34m.\u001b[0m\u001b[0mitems\u001b[0m\u001b[0;34m]\u001b[0m\u001b[0;34m\u001b[0m\u001b[0m\n\u001b[0m\u001b[1;32m     73\u001b[0m \u001b[0;34m\u001b[0m\u001b[0m\n\u001b[1;32m     74\u001b[0m     \u001b[0;32mdef\u001b[0m \u001b[0m__len__\u001b[0m\u001b[0;34m(\u001b[0m\u001b[0mself\u001b[0m\u001b[0;34m)\u001b[0m\u001b[0;34m:\u001b[0m\u001b[0;34m\u001b[0m\u001b[0m\n",
      "\u001b[0;32m/Users/ken.nakano/anaconda/lib/python3.5/site-packages/sklearn/externals/joblib/parallel.py\u001b[0m in \u001b[0;36m<listcomp>\u001b[0;34m(.0)\u001b[0m\n\u001b[1;32m     70\u001b[0m \u001b[0;34m\u001b[0m\u001b[0m\n\u001b[1;32m     71\u001b[0m     \u001b[0;32mdef\u001b[0m \u001b[0m__call__\u001b[0m\u001b[0;34m(\u001b[0m\u001b[0mself\u001b[0m\u001b[0;34m)\u001b[0m\u001b[0;34m:\u001b[0m\u001b[0;34m\u001b[0m\u001b[0m\n\u001b[0;32m---> 72\u001b[0;31m         \u001b[0;32mreturn\u001b[0m \u001b[0;34m[\u001b[0m\u001b[0mfunc\u001b[0m\u001b[0;34m(\u001b[0m\u001b[0;34m*\u001b[0m\u001b[0margs\u001b[0m\u001b[0;34m,\u001b[0m \u001b[0;34m**\u001b[0m\u001b[0mkwargs\u001b[0m\u001b[0;34m)\u001b[0m \u001b[0;32mfor\u001b[0m \u001b[0mfunc\u001b[0m\u001b[0;34m,\u001b[0m \u001b[0margs\u001b[0m\u001b[0;34m,\u001b[0m \u001b[0mkwargs\u001b[0m \u001b[0;32min\u001b[0m \u001b[0mself\u001b[0m\u001b[0;34m.\u001b[0m\u001b[0mitems\u001b[0m\u001b[0;34m]\u001b[0m\u001b[0;34m\u001b[0m\u001b[0m\n\u001b[0m\u001b[1;32m     73\u001b[0m \u001b[0;34m\u001b[0m\u001b[0m\n\u001b[1;32m     74\u001b[0m     \u001b[0;32mdef\u001b[0m \u001b[0m__len__\u001b[0m\u001b[0;34m(\u001b[0m\u001b[0mself\u001b[0m\u001b[0;34m)\u001b[0m\u001b[0;34m:\u001b[0m\u001b[0;34m\u001b[0m\u001b[0m\n",
      "\u001b[0;32m/Users/ken.nakano/anaconda/lib/python3.5/site-packages/sklearn/cross_validation.py\u001b[0m in \u001b[0;36m_fit_and_score\u001b[0;34m(estimator, X, y, scorer, train, test, verbose, parameters, fit_params, return_train_score, return_parameters, error_score)\u001b[0m\n\u001b[1;32m   1529\u001b[0m             \u001b[0mestimator\u001b[0m\u001b[0;34m.\u001b[0m\u001b[0mfit\u001b[0m\u001b[0;34m(\u001b[0m\u001b[0mX_train\u001b[0m\u001b[0;34m,\u001b[0m \u001b[0;34m**\u001b[0m\u001b[0mfit_params\u001b[0m\u001b[0;34m)\u001b[0m\u001b[0;34m\u001b[0m\u001b[0m\n\u001b[1;32m   1530\u001b[0m         \u001b[0;32melse\u001b[0m\u001b[0;34m:\u001b[0m\u001b[0;34m\u001b[0m\u001b[0m\n\u001b[0;32m-> 1531\u001b[0;31m             \u001b[0mestimator\u001b[0m\u001b[0;34m.\u001b[0m\u001b[0mfit\u001b[0m\u001b[0;34m(\u001b[0m\u001b[0mX_train\u001b[0m\u001b[0;34m,\u001b[0m \u001b[0my_train\u001b[0m\u001b[0;34m,\u001b[0m \u001b[0;34m**\u001b[0m\u001b[0mfit_params\u001b[0m\u001b[0;34m)\u001b[0m\u001b[0;34m\u001b[0m\u001b[0m\n\u001b[0m\u001b[1;32m   1532\u001b[0m \u001b[0;34m\u001b[0m\u001b[0m\n\u001b[1;32m   1533\u001b[0m     \u001b[0;32mexcept\u001b[0m \u001b[0mException\u001b[0m \u001b[0;32mas\u001b[0m \u001b[0me\u001b[0m\u001b[0;34m:\u001b[0m\u001b[0;34m\u001b[0m\u001b[0m\n",
      "\u001b[0;32m/Users/ken.nakano/anaconda/lib/python3.5/site-packages/sklearn/linear_model/logistic.py\u001b[0m in \u001b[0;36mfit\u001b[0;34m(self, X, y, sample_weight)\u001b[0m\n\u001b[1;32m   1152\u001b[0m                 \u001b[0mX\u001b[0m\u001b[0;34m,\u001b[0m \u001b[0my\u001b[0m\u001b[0;34m,\u001b[0m \u001b[0mself\u001b[0m\u001b[0;34m.\u001b[0m\u001b[0mC\u001b[0m\u001b[0;34m,\u001b[0m \u001b[0mself\u001b[0m\u001b[0;34m.\u001b[0m\u001b[0mfit_intercept\u001b[0m\u001b[0;34m,\u001b[0m \u001b[0mself\u001b[0m\u001b[0;34m.\u001b[0m\u001b[0mintercept_scaling\u001b[0m\u001b[0;34m,\u001b[0m\u001b[0;34m\u001b[0m\u001b[0m\n\u001b[1;32m   1153\u001b[0m                 \u001b[0mself\u001b[0m\u001b[0;34m.\u001b[0m\u001b[0mclass_weight\u001b[0m\u001b[0;34m,\u001b[0m \u001b[0mself\u001b[0m\u001b[0;34m.\u001b[0m\u001b[0mpenalty\u001b[0m\u001b[0;34m,\u001b[0m \u001b[0mself\u001b[0m\u001b[0;34m.\u001b[0m\u001b[0mdual\u001b[0m\u001b[0;34m,\u001b[0m \u001b[0mself\u001b[0m\u001b[0;34m.\u001b[0m\u001b[0mverbose\u001b[0m\u001b[0;34m,\u001b[0m\u001b[0;34m\u001b[0m\u001b[0m\n\u001b[0;32m-> 1154\u001b[0;31m                 self.max_iter, self.tol, self.random_state)\n\u001b[0m\u001b[1;32m   1155\u001b[0m             \u001b[0mself\u001b[0m\u001b[0;34m.\u001b[0m\u001b[0mn_iter_\u001b[0m \u001b[0;34m=\u001b[0m \u001b[0mnp\u001b[0m\u001b[0;34m.\u001b[0m\u001b[0marray\u001b[0m\u001b[0;34m(\u001b[0m\u001b[0;34m[\u001b[0m\u001b[0mn_iter_\u001b[0m\u001b[0;34m]\u001b[0m\u001b[0;34m)\u001b[0m\u001b[0;34m\u001b[0m\u001b[0m\n\u001b[1;32m   1156\u001b[0m             \u001b[0;32mreturn\u001b[0m \u001b[0mself\u001b[0m\u001b[0;34m\u001b[0m\u001b[0m\n",
      "\u001b[0;32m/Users/ken.nakano/anaconda/lib/python3.5/site-packages/sklearn/svm/base.py\u001b[0m in \u001b[0;36m_fit_liblinear\u001b[0;34m(X, y, C, fit_intercept, intercept_scaling, class_weight, penalty, dual, verbose, max_iter, tol, random_state, multi_class, loss, epsilon)\u001b[0m\n\u001b[1;32m    883\u001b[0m             raise ValueError(\"This solver needs samples of at least 2 classes\"\n\u001b[1;32m    884\u001b[0m                              \u001b[0;34m\" in the data, but the data contains only one\"\u001b[0m\u001b[0;34m\u001b[0m\u001b[0m\n\u001b[0;32m--> 885\u001b[0;31m                              \" class: %r\" % classes_[0])\n\u001b[0m\u001b[1;32m    886\u001b[0m \u001b[0;34m\u001b[0m\u001b[0m\n\u001b[1;32m    887\u001b[0m         \u001b[0mclass_weight_\u001b[0m \u001b[0;34m=\u001b[0m \u001b[0mcompute_class_weight\u001b[0m\u001b[0;34m(\u001b[0m\u001b[0mclass_weight\u001b[0m\u001b[0;34m,\u001b[0m \u001b[0mclasses_\u001b[0m\u001b[0;34m,\u001b[0m \u001b[0my\u001b[0m\u001b[0;34m)\u001b[0m\u001b[0;34m\u001b[0m\u001b[0m\n",
      "\u001b[0;31mValueError\u001b[0m: This solver needs samples of at least 2 classes in the data, but the data contains only one class: 1"
     ]
    }
   ],
   "source": [
    "from sklearn.cross_validation import cross_val_score\n",
    "\n",
    "scores = cross_val_score(clf, X, y, cv=loocv) # Stratified "
   ]
  },
  {
   "cell_type": "markdown",
   "metadata": {},
   "source": [
    "# 40.学習データ・検証データとテストデータ\n"
   ]
  },
  {
   "cell_type": "code",
   "execution_count": 2,
   "metadata": {
    "collapsed": false
   },
   "outputs": [],
   "source": [
    "import numpy as np\n",
    "\n",
    "from sklearn.datasets import load_breast_cancer\n",
    "data = load_breast_cancer()\n",
    "\n",
    "X = data.data\n",
    "y = data.target\n",
    "\n",
    "from sklearn import linear_model\n",
    "clf = linear_model.LogisticRegression()"
   ]
  },
  {
   "cell_type": "code",
   "execution_count": 3,
   "metadata": {
    "collapsed": true
   },
   "outputs": [],
   "source": [
    "from sklearn.cross_validation import train_test_split"
   ]
  },
  {
   "cell_type": "code",
   "execution_count": 4,
   "metadata": {
    "collapsed": true
   },
   "outputs": [],
   "source": [
    "X_train, X_test, y_train, y_test = train_test_split(X, y, train_size=0.8)"
   ]
  },
  {
   "cell_type": "code",
   "execution_count": 6,
   "metadata": {
    "collapsed": false
   },
   "outputs": [
    {
     "data": {
      "text/plain": [
       "((455, 30), (114, 30))"
      ]
     },
     "execution_count": 6,
     "metadata": {},
     "output_type": "execute_result"
    }
   ],
   "source": [
    "X_train.shape, X_test.shape"
   ]
  },
  {
   "cell_type": "code",
   "execution_count": 8,
   "metadata": {
    "collapsed": true
   },
   "outputs": [],
   "source": [
    "from sklearn.cross_validation import cross_val_score\n",
    "\n",
    "scores = cross_val_score(clf, X_train, y_train, cv=10)"
   ]
  },
  {
   "cell_type": "code",
   "execution_count": 9,
   "metadata": {
    "collapsed": false
   },
   "outputs": [
    {
     "data": {
      "text/plain": [
       "0.94521122417514647"
      ]
     },
     "execution_count": 9,
     "metadata": {},
     "output_type": "execute_result"
    }
   ],
   "source": [
    "scores.mean()"
   ]
  },
  {
   "cell_type": "code",
   "execution_count": 17,
   "metadata": {
    "collapsed": true
   },
   "outputs": [],
   "source": [
    "C_range_exp = np.linspace(-15, 20, 36)"
   ]
  },
  {
   "cell_type": "code",
   "execution_count": 18,
   "metadata": {
    "collapsed": false
   },
   "outputs": [],
   "source": [
    "C_range = 10 ** C_range_exp"
   ]
  },
  {
   "cell_type": "code",
   "execution_count": 19,
   "metadata": {
    "collapsed": true
   },
   "outputs": [],
   "source": [
    "all_scores_mean = []\n",
    "all_scores_std = []\n",
    "\n",
    "for C in C_range:\n",
    "    clf.C = C\n",
    "    scores = cross_val_score(clf, X_train, y_train, cv=10)\n",
    "    all_scores_mean.append(scores.mean())\n",
    "    all_scores_std.append(scores.std())"
   ]
  },
  {
   "cell_type": "code",
   "execution_count": 21,
   "metadata": {
    "collapsed": false
   },
   "outputs": [],
   "source": [
    "import matplotlib.pyplot as plt\n",
    "%matplotlib inline"
   ]
  },
  {
   "cell_type": "code",
   "execution_count": 25,
   "metadata": {
    "collapsed": false
   },
   "outputs": [
    {
     "data": {
      "text/plain": [
       "<Container object of 3 artists>"
      ]
     },
     "execution_count": 25,
     "metadata": {},
     "output_type": "execute_result"
    },
    {
     "data": {
      "image/png": "[encoded data removed]",
      "text/plain": [
       "<matplotlib.figure.Figure at 0x1128cec18>"
      ]
     },
     "metadata": {},
     "output_type": "display_data"
    }
   ],
   "source": [
    "plt.plot(C_range_exp, all_scores_mean)\n",
    "\n",
    "plt.errorbar(C_range_exp, all_scores_mean, yerr=all_scores_std)"
   ]
  },
  {
   "cell_type": "code",
   "execution_count": 28,
   "metadata": {
    "collapsed": false
   },
   "outputs": [
    {
     "data": {
      "text/plain": [
       "0.95617740775002569"
      ]
     },
     "execution_count": 28,
     "metadata": {},
     "output_type": "execute_result"
    }
   ],
   "source": [
    "max(all_scores_mean)"
   ]
  },
  {
   "cell_type": "code",
   "execution_count": 29,
   "metadata": {
    "collapsed": true
   },
   "outputs": [],
   "source": [
    "max_index = np.argmax(all_scores_mean)"
   ]
  },
  {
   "cell_type": "code",
   "execution_count": 30,
   "metadata": {
    "collapsed": false
   },
   "outputs": [
    {
     "data": {
      "text/plain": [
       "22"
      ]
     },
     "execution_count": 30,
     "metadata": {},
     "output_type": "execute_result"
    }
   ],
   "source": [
    "max_index"
   ]
  },
  {
   "cell_type": "code",
   "execution_count": 31,
   "metadata": {
    "collapsed": false
   },
   "outputs": [
    {
     "data": {
      "text/plain": [
       "7.0"
      ]
     },
     "execution_count": 31,
     "metadata": {},
     "output_type": "execute_result"
    }
   ],
   "source": [
    "C_range_exp[max_index]"
   ]
  },
  {
   "cell_type": "code",
   "execution_count": 32,
   "metadata": {
    "collapsed": true
   },
   "outputs": [],
   "source": [
    "clf.C = 10 ** C_range_exp[max_index]"
   ]
  },
  {
   "cell_type": "code",
   "execution_count": 33,
   "metadata": {
    "collapsed": false
   },
   "outputs": [
    {
     "data": {
      "text/plain": [
       "LogisticRegression(C=10000000.0, class_weight=None, dual=False,\n",
       "          fit_intercept=True, intercept_scaling=1, max_iter=100,\n",
       "          multi_class='ovr', n_jobs=1, penalty='l2', random_state=None,\n",
       "          solver='liblinear', tol=0.0001, verbose=0, warm_start=False)"
      ]
     },
     "execution_count": 33,
     "metadata": {},
     "output_type": "execute_result"
    }
   ],
   "source": [
    "clf.fit(X_train, y_train)"
   ]
  },
  {
   "cell_type": "code",
   "execution_count": 34,
   "metadata": {
    "collapsed": false
   },
   "outputs": [
    {
     "data": {
      "text/plain": [
       "0.97368421052631582"
      ]
     },
     "execution_count": 34,
     "metadata": {},
     "output_type": "execute_result"
    }
   ],
   "source": [
    "clf.score(X_test, y_test)"
   ]
  },
  {
   "cell_type": "code",
   "execution_count": 37,
   "metadata": {
    "collapsed": false
   },
   "outputs": [
    {
     "data": {
      "text/plain": [
       "0.96491228070175439"
      ]
     },
     "execution_count": 37,
     "metadata": {},
     "output_type": "execute_result"
    }
   ],
   "source": [
    "clf = linear_model.LogisticRegression()\n",
    "clf.fit(X_train, y_train)\n",
    "clf.score(X_test, y_test)"
   ]
  }
 ],
 "metadata": {
  "anaconda-cloud": {},
  "kernelspec": {
   "display_name": "Python [default]",
   "language": "python",
   "name": "python3"
  },
  "language_info": {
   "codemirror_mode": {
    "name": "ipython",
    "version": 3
   },
   "file_extension": ".py",
   "mimetype": "text/x-python",
   "name": "python",
   "nbconvert_exporter": "python",
   "pygments_lexer": "ipython3",
   "version": "3.5.2"
  }
 },
 "nbformat": 4,
 "nbformat_minor": 1
}
