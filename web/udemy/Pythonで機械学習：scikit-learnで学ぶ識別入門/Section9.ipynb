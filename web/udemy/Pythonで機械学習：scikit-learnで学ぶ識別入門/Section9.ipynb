{
 "cells": [
  {
   "cell_type": "markdown",
   "metadata": {},
   "source": [
    "# linear SVM（lib linear）"
   ]
  },
  {
   "cell_type": "code",
   "execution_count": 1,
   "metadata": {
    "collapsed": true
   },
   "outputs": [],
   "source": [
    "import numpy as np\n",
    "import matplotlib.pyplot as plt\n",
    "%matplotlib inline"
   ]
  },
  {
   "cell_type": "code",
   "execution_count": 14,
   "metadata": {
    "collapsed": true
   },
   "outputs": [],
   "source": [
    "from sklearn.datasets import load_breast_cancer\n",
    "data = load_breast_cancer()\n",
    "\n",
    "X = data.data\n",
    "y = data.target"
   ]
  },
  {
   "cell_type": "code",
   "execution_count": 15,
   "metadata": {
    "collapsed": true
   },
   "outputs": [],
   "source": [
    "from sklearn.model_selection import train_test_split\n",
    "X_train, X_test, y_train, y_test = train_test_split(X, y, train_size=0.8)"
   ]
  },
  {
   "cell_type": "code",
   "execution_count": 16,
   "metadata": {
    "collapsed": true
   },
   "outputs": [],
   "source": [
    "from sklearn.preprocessing import MinMaxScaler\n",
    "scaler = MinMaxScaler()\n",
    "scaler.fit(X_train)\n",
    "\n",
    "X_train = scaler.transform(X_train)\n",
    "X_test = scaler.transform(X_test)"
   ]
  },
  {
   "cell_type": "code",
   "execution_count": 17,
   "metadata": {
    "collapsed": true
   },
   "outputs": [],
   "source": [
    "import time"
   ]
  },
  {
   "cell_type": "code",
   "execution_count": 18,
   "metadata": {
    "collapsed": true
   },
   "outputs": [],
   "source": [
    "from sklearn.svm import SVC\n",
    "\n",
    "clf = SVC(kernel='linear')"
   ]
  },
  {
   "cell_type": "code",
   "execution_count": 19,
   "metadata": {
    "collapsed": false
   },
   "outputs": [
    {
     "name": "stdout",
     "output_type": "stream",
     "text": [
      "3.6661624908447266 [ms]\n"
     ]
    },
    {
     "data": {
      "text/plain": [
       "0.98245614035087714"
      ]
     },
     "execution_count": 19,
     "metadata": {},
     "output_type": "execute_result"
    }
   ],
   "source": [
    "clf.C = 1\n",
    "\n",
    "st = time.time()\n",
    "clf.fit(X_train, y_train)\n",
    "print(1000 * (time.time() - st), \"[ms]\")\n",
    "\n",
    "clf.score(X_test, y_test)"
   ]
  },
  {
   "cell_type": "code",
   "execution_count": 20,
   "metadata": {
    "collapsed": false
   },
   "outputs": [
    {
     "name": "stdout",
     "output_type": "stream",
     "text": [
      "1984.2379093170166 [ms]\n"
     ]
    },
    {
     "data": {
      "text/plain": [
       "0.97368421052631582"
      ]
     },
     "execution_count": 20,
     "metadata": {},
     "output_type": "execute_result"
    }
   ],
   "source": [
    "clf.C = 1e20\n",
    "\n",
    "st = time.time()\n",
    "clf.fit(X_train, y_train)\n",
    "print(1000 * (time.time() - st), \"[ms]\")\n",
    "\n",
    "clf.score(X_test, y_test)"
   ]
  },
  {
   "cell_type": "code",
   "execution_count": 21,
   "metadata": {
    "collapsed": false
   },
   "outputs": [
    {
     "name": "stdout",
     "output_type": "stream",
     "text": [
      "Fitting 3 folds for each of 36 candidates, totalling 108 fits\n"
     ]
    },
    {
     "name": "stderr",
     "output_type": "stream",
     "text": [
      "[Parallel(n_jobs=1)]: Done 108 out of 108 | elapsed:    1.2s finished\n"
     ]
    },
    {
     "data": {
      "text/plain": [
       "GridSearchCV(cv=None, error_score='raise',\n",
       "       estimator=SVC(C=1e+20, cache_size=200, class_weight=None, coef0=0.0,\n",
       "  decision_function_shape=None, degree=3, gamma='auto', kernel='linear',\n",
       "  max_iter=-1, probability=False, random_state=None, shrinking=True,\n",
       "  tol=0.001, verbose=False),\n",
       "       fit_params={}, iid=True, n_jobs=1,\n",
       "       param_grid={'C': array([  1.00000e-15,   1.00000e-14,   1.00000e-13,   1.00000e-12,\n",
       "         1.00000e-11,   1.00000e-10,   1.00000e-09,   1.00000e-08,\n",
       "         1.00000e-07,   1.00000e-06,   1.00000e-05,   1.00000e-04,\n",
       "         1.00000e-03,   1.00000e-02,   1.00000e-01,   1.00000e+00,\n",
       "         1.0000...,   1.00000e+15,   1.00000e+16,\n",
       "         1.00000e+17,   1.00000e+18,   1.00000e+19,   1.00000e+20])},\n",
       "       pre_dispatch='2*n_jobs', refit=True, return_train_score=True,\n",
       "       scoring=None, verbose=1)"
      ]
     },
     "execution_count": 21,
     "metadata": {},
     "output_type": "execute_result"
    }
   ],
   "source": [
    "from sklearn.model_selection import GridSearchCV\n",
    "\n",
    "param = {'C':10 ** np.arange(-15.0, 21.0)}\n",
    "\n",
    "gs = GridSearchCV(clf, param, verbose=1)\n",
    "gs.fit(X_train, y_train)"
   ]
  },
  {
   "cell_type": "code",
   "execution_count": 22,
   "metadata": {
    "collapsed": false
   },
   "outputs": [
    {
     "data": {
      "text/plain": [
       "<matplotlib.text.Text at 0x114538c50>"
      ]
     },
     "execution_count": 22,
     "metadata": {},
     "output_type": "execute_result"
    },
    {
     "data": {
      "image/png": "[encoded data removed]",
      "text/plain": [
       "<matplotlib.figure.Figure at 0x1144b81d0>"
      ]
     },
     "metadata": {},
     "output_type": "display_data"
    }
   ],
   "source": [
    "plt.plot(gs.cv_results_['param_C'].data,\n",
    "        gs.cv_results_['mean_fit_time'],\n",
    "        label=\"training\")\n",
    "\n",
    "plt.plot(gs.cv_results_['param_C'].data,\n",
    "        gs.cv_results_['mean_score_time'],\n",
    "        label=\"test(val)\")\n",
    "\n",
    "plt.ylim(0, )\n",
    "plt.xscale(\"log\")\n",
    "plt.xlabel(\"C\")\n",
    "plt.ylabel(\"computation time [sec]\")\n",
    "plt.legend(loc=\"best\")\n",
    "plt.title(\"SVM with linear kernel\")"
   ]
  },
  {
   "cell_type": "code",
   "execution_count": 26,
   "metadata": {
    "collapsed": true
   },
   "outputs": [],
   "source": [
    "from sklearn.svm import LinearSVC # linearカーネルを使う場合はこちらの方がはやい\n",
    "\n",
    "clf = LinearSVC()"
   ]
  },
  {
   "cell_type": "code",
   "execution_count": 27,
   "metadata": {
    "collapsed": false
   },
   "outputs": [
    {
     "name": "stdout",
     "output_type": "stream",
     "text": [
      "4.391193389892578 [ms]\n"
     ]
    },
    {
     "data": {
      "text/plain": [
       "0.98245614035087714"
      ]
     },
     "execution_count": 27,
     "metadata": {},
     "output_type": "execute_result"
    }
   ],
   "source": [
    "clf.C = 1\n",
    "\n",
    "st = time.time()\n",
    "clf.fit(X_train, y_train)\n",
    "\n",
    "print(1000 * (time.time() - st), \"[ms]\")\n",
    "\n",
    "clf.score(X_test, y_test)"
   ]
  },
  {
   "cell_type": "code",
   "execution_count": 28,
   "metadata": {
    "collapsed": false
   },
   "outputs": [
    {
     "name": "stdout",
     "output_type": "stream",
     "text": [
      "9.933948516845703 [ms]\n"
     ]
    },
    {
     "data": {
      "text/plain": [
       "0.99122807017543857"
      ]
     },
     "execution_count": 28,
     "metadata": {},
     "output_type": "execute_result"
    }
   ],
   "source": [
    "clf.C = 1e20\n",
    "\n",
    "st = time.time()\n",
    "clf.fit(X_train, y_train)\n",
    "\n",
    "print(1000 * (time.time() - st), \"[ms]\")\n",
    "\n",
    "clf.score(X_test, y_test)"
   ]
  },
  {
   "cell_type": "code",
   "execution_count": 29,
   "metadata": {
    "collapsed": false
   },
   "outputs": [
    {
     "name": "stdout",
     "output_type": "stream",
     "text": [
      "Fitting 3 folds for each of 36 candidates, totalling 108 fits\n"
     ]
    },
    {
     "name": "stderr",
     "output_type": "stream",
     "text": [
      "[Parallel(n_jobs=1)]: Done 108 out of 108 | elapsed:    0.5s finished\n"
     ]
    },
    {
     "data": {
      "text/plain": [
       "GridSearchCV(cv=None, error_score='raise',\n",
       "       estimator=LinearSVC(C=1e+20, class_weight=None, dual=True, fit_intercept=True,\n",
       "     intercept_scaling=1, loss='squared_hinge', max_iter=1000,\n",
       "     multi_class='ovr', penalty='l2', random_state=None, tol=0.0001,\n",
       "     verbose=0),\n",
       "       fit_params={}, iid=True, n_jobs=1,\n",
       "       param_grid={'C': array([  1.00000e-15,   1.00000e-14,   1.00000e-13,   1.00000e-12,\n",
       "         1.00000e-11,   1.00000e-10,   1.00000e-09,   1.00000e-08,\n",
       "         1.00000e-07,   1.00000e-06,   1.00000e-05,   1.00000e-04,\n",
       "         1.00000e-03,   1.00000e-02,   1.00000e-01,   1.00000e+00,\n",
       "         1.0000...,   1.00000e+15,   1.00000e+16,\n",
       "         1.00000e+17,   1.00000e+18,   1.00000e+19,   1.00000e+20])},\n",
       "       pre_dispatch='2*n_jobs', refit=True, return_train_score=True,\n",
       "       scoring=None, verbose=1)"
      ]
     },
     "execution_count": 29,
     "metadata": {},
     "output_type": "execute_result"
    }
   ],
   "source": [
    "from sklearn.model_selection import GridSearchCV\n",
    "\n",
    "param = {'C':10 ** np.arange(-15.0, 21.0)}\n",
    "\n",
    "gs = GridSearchCV(clf, param, verbose=1)\n",
    "gs.fit(X_train, y_train)"
   ]
  },
  {
   "cell_type": "code",
   "execution_count": 30,
   "metadata": {
    "collapsed": false
   },
   "outputs": [
    {
     "data": {
      "text/plain": [
       "<matplotlib.text.Text at 0x114239978>"
      ]
     },
     "execution_count": 30,
     "metadata": {},
     "output_type": "execute_result"
    },
    {
     "data": {
      "image/png": "[encoded data removed]",
      "text/plain": [
       "<matplotlib.figure.Figure at 0x110c95828>"
      ]
     },
     "metadata": {},
     "output_type": "display_data"
    }
   ],
   "source": [
    "plt.plot(gs.cv_results_['param_C'].data,\n",
    "        gs.cv_results_['mean_fit_time'],\n",
    "        label=\"training\")\n",
    "\n",
    "plt.plot(gs.cv_results_['param_C'].data,\n",
    "        gs.cv_results_['mean_score_time'],\n",
    "        label=\"test(val)\")\n",
    "\n",
    "plt.ylim(0, )\n",
    "plt.xscale(\"log\")\n",
    "plt.xlabel(\"C\")\n",
    "plt.ylabel(\"computation time [sec]\")\n",
    "plt.legend(loc=\"best\")\n",
    "plt.title(\"SVM with linear kernel\")"
   ]
  },
  {
   "cell_type": "code",
   "execution_count": 31,
   "metadata": {
    "collapsed": true
   },
   "outputs": [],
   "source": [
    "# 省略"
   ]
  },
  {
   "cell_type": "markdown",
   "metadata": {},
   "source": [
    "# linear SVM（lib linear）：primalソルバ"
   ]
  },
  {
   "cell_type": "code",
   "execution_count": 32,
   "metadata": {
    "collapsed": true
   },
   "outputs": [],
   "source": [
    "from sklearn.datasets import fetch_mldata\n",
    "mnist = fetch_mldata('MNIST original')"
   ]
  },
  {
   "cell_type": "code",
   "execution_count": 33,
   "metadata": {
    "collapsed": true
   },
   "outputs": [],
   "source": [
    "X_train, X_test = mnist.data[:60000]/255., mnist.data[60000:]/255.\n",
    "y_train, y_test = mnist.target[:60000], mnist.target[60000:]"
   ]
  },
  {
   "cell_type": "code",
   "execution_count": 35,
   "metadata": {
    "collapsed": false
   },
   "outputs": [
    {
     "data": {
      "text/plain": [
       "((60000, 784), (10000, 784))"
      ]
     },
     "execution_count": 35,
     "metadata": {},
     "output_type": "execute_result"
    }
   ],
   "source": [
    "X_train.shape, X_test.shape"
   ]
  },
  {
   "cell_type": "code",
   "execution_count": 36,
   "metadata": {
    "collapsed": true
   },
   "outputs": [],
   "source": [
    "clf = SVC(kernel='linear')"
   ]
  },
  {
   "cell_type": "code",
   "execution_count": 38,
   "metadata": {
    "collapsed": false
   },
   "outputs": [
    {
     "name": "stdout",
     "output_type": "stream",
     "text": [
      "186.6610050201416 [ms]\n"
     ]
    }
   ],
   "source": [
    "st = time.time()\n",
    "clf.fit(X_train[::100], y_train[::100]) # 60000個のうち100個置きにとる（600個）\n",
    "print(1000 * (time.time() - st), \"[ms]\")"
   ]
  },
  {
   "cell_type": "code",
   "execution_count": 40,
   "metadata": {
    "collapsed": false
   },
   "outputs": [
    {
     "name": "stdout",
     "output_type": "stream",
     "text": [
      "0.18 sec, size 600, accuracy 0.89\n",
      "0.48 sec, size 1200, accuracy 0.9\n",
      "5.67 sec, size 6000, accuracy 0.905\n",
      "17.63 sec, size 12000, accuracy 0.917\n",
      "25.49 sec, size 15000, accuracy 0.9164\n"
     ]
    }
   ],
   "source": [
    "# 間引きの感覚を変える\n",
    "\n",
    "for thin in [100, 50, 10, 5, 4]:\n",
    "    st = time.time()\n",
    "    clf.fit(X_train[::thin], y_train[::thin])\n",
    "    et = time.time() -st\n",
    "    score = clf.score(X_test[::thin], y_test[::thin])\n",
    "    print(\"{0:.2f} sec, size {1}, accuracy {2}\".format(et, y_train[::thin].size, score))"
   ]
  },
  {
   "cell_type": "code",
   "execution_count": 43,
   "metadata": {
    "collapsed": true
   },
   "outputs": [],
   "source": [
    "clf = LinearSVC() # dual"
   ]
  },
  {
   "cell_type": "code",
   "execution_count": 44,
   "metadata": {
    "collapsed": false
   },
   "outputs": [
    {
     "name": "stdout",
     "output_type": "stream",
     "text": [
      "0.14 sec, size 600, accuracy 0.91\n",
      "0.47 sec, size 1200, accuracy 0.865\n",
      "3.22 sec, size 6000, accuracy 0.867\n",
      "9.08 sec, size 12000, accuracy 0.8935\n",
      "13.23 sec, size 15000, accuracy 0.8952\n"
     ]
    }
   ],
   "source": [
    "# 間引きの感覚を変える\n",
    "\n",
    "for thin in [100, 50, 10, 5, 4]:\n",
    "    st = time.time()\n",
    "    clf.fit(X_train[::thin], y_train[::thin])\n",
    "    et = time.time() -st\n",
    "    score = clf.score(X_test[::thin], y_test[::thin])\n",
    "    print(\"{0:.2f} sec, size {1}, accuracy {2}\".format(et, y_train[::thin].size, score))"
   ]
  },
  {
   "cell_type": "code",
   "execution_count": 46,
   "metadata": {
    "collapsed": true
   },
   "outputs": [],
   "source": [
    "clf = LinearSVC(dual=False) # primal"
   ]
  },
  {
   "cell_type": "code",
   "execution_count": 47,
   "metadata": {
    "collapsed": false
   },
   "outputs": [
    {
     "name": "stdout",
     "output_type": "stream",
     "text": [
      "0.17 sec, size 600, accuracy 0.91\n",
      "0.30 sec, size 1200, accuracy 0.87\n",
      "1.48 sec, size 6000, accuracy 0.865\n",
      "3.89 sec, size 12000, accuracy 0.894\n",
      "5.30 sec, size 15000, accuracy 0.8956\n"
     ]
    }
   ],
   "source": [
    "# 間引きの感覚を変える\n",
    "\n",
    "for thin in [100, 50, 10, 5, 4]:\n",
    "    st = time.time()\n",
    "    clf.fit(X_train[::thin], y_train[::thin])\n",
    "    et = time.time() -st\n",
    "    score = clf.score(X_test[::thin], y_test[::thin])\n",
    "    print(\"{0:.2f} sec, size {1}, accuracy {2}\".format(et, y_train[::thin].size, score))"
   ]
  },
  {
   "cell_type": "markdown",
   "metadata": {},
   "source": [
    "# linear SVM（lib linear）：グリッドサーチ"
   ]
  },
  {
   "cell_type": "code",
   "execution_count": 50,
   "metadata": {
    "collapsed": false
   },
   "outputs": [
    {
     "data": {
      "image/png": "[encoded data removed]",
      "text/plain": [
       "<matplotlib.figure.Figure at 0x1147850f0>"
      ]
     },
     "metadata": {},
     "output_type": "display_data"
    }
   ],
   "source": [
    "for clf in [SVC(kernel='linear'), LinearSVC(), LinearSVC(dual=False)]:\n",
    "    times = []\n",
    "    sizes = []\n",
    "    for thin in [100, 50, 10, 5, 4]:\n",
    "        st = time.time()\n",
    "        clf.fit(X_train[::thin], y_train[::thin])\n",
    "        times.append(time.time() - st)\n",
    "        sizes.append(y_train[::thin].size)\n",
    "    plt.plot(sizes, times, label=clf.__class__.__name__)\n",
    "    \n",
    "plt.legend(loc=\"best\")\n",
    "plt.show()"
   ]
  },
  {
   "cell_type": "code",
   "execution_count": 51,
   "metadata": {
    "collapsed": true
   },
   "outputs": [],
   "source": [
    "from sklearn.pipeline import Pipeline"
   ]
  },
  {
   "cell_type": "code",
   "execution_count": 54,
   "metadata": {
    "collapsed": false
   },
   "outputs": [],
   "source": [
    "# GridSearch\n",
    "estimators = [('scaler', MinMaxScaler()),\n",
    "             ('clf', LinearSVC(dual=False))]\n",
    "\n",
    "pipe = Pipeline(estimators)\n",
    "\n",
    "param = {'clf__C':10 ** np.arange(-5.0, 10.0)}\n",
    "\n",
    "gs = GridSearchCV(pipe, param, n_jobs=1, verbose=2)\n",
    "# gs.fit(X_train, y_train) # about 30min... おおきなデータにいきなりグリッドサーチはできない"
   ]
  },
  {
   "cell_type": "markdown",
   "metadata": {},
   "source": [
    "# 確率勾配法（SGD）\n",
    "データ数が多いときに有利になる"
   ]
  },
  {
   "cell_type": "code",
   "execution_count": 55,
   "metadata": {
    "collapsed": true
   },
   "outputs": [],
   "source": [
    "import numpy as np\n",
    "import matplotlib.pyplot as plt\n",
    "%matplotlib inline"
   ]
  },
  {
   "cell_type": "code",
   "execution_count": 56,
   "metadata": {
    "collapsed": true
   },
   "outputs": [],
   "source": [
    "import time"
   ]
  },
  {
   "cell_type": "code",
   "execution_count": 57,
   "metadata": {
    "collapsed": true
   },
   "outputs": [],
   "source": [
    "from sklearn.datasets import fetch_mldata\n",
    "mnist = fetch_mldata('MNIST original')\n",
    "\n",
    "X_train, X_test = mnist.data[:60000]/255., mnist.data[60000:]/255.\n",
    "y_train, y_test = mnist.target[:60000], mnist.target[60000:]\n"
   ]
  },
  {
   "cell_type": "code",
   "execution_count": 59,
   "metadata": {
    "collapsed": false
   },
   "outputs": [
    {
     "data": {
      "text/plain": [
       "((60000, 784), (10000, 784))"
      ]
     },
     "execution_count": 59,
     "metadata": {},
     "output_type": "execute_result"
    }
   ],
   "source": [
    "X_train.shape, X_test.shape"
   ]
  },
  {
   "cell_type": "code",
   "execution_count": 60,
   "metadata": {
    "collapsed": true
   },
   "outputs": [],
   "source": [
    "from sklearn.linear_model import SGDClassifier"
   ]
  },
  {
   "cell_type": "code",
   "execution_count": 62,
   "metadata": {
    "collapsed": true
   },
   "outputs": [],
   "source": [
    "clf = SGDClassifier(loss=\"log\") # Logistic regressionに相当する"
   ]
  },
  {
   "cell_type": "code",
   "execution_count": 63,
   "metadata": {
    "collapsed": false
   },
   "outputs": [
    {
     "name": "stdout",
     "output_type": "stream",
     "text": [
      "0.08 sec, size 600, accuracy 0.86\n",
      "0.16 sec, size 1200, accuracy 0.87\n",
      "0.69 sec, size 6000, accuracy 0.859\n",
      "1.55 sec, size 12000, accuracy 0.877\n",
      "1.88 sec, size 15000, accuracy 0.8792\n",
      "2.47 sec, size 20000, accuracy 0.8764247150569886\n",
      "3.80 sec, size 30000, accuracy 0.8818\n",
      "7.34 sec, size 60000, accuracy 0.8956\n"
     ]
    }
   ],
   "source": [
    "for thin in [100, 50, 10, 5, 4, 3, 2, 1]:\n",
    "    st = time.time()\n",
    "    clf.fit(X_train[::thin], y_train[::thin])\n",
    "    et = time.time() - st\n",
    "    score = clf.score(X_test[::thin], y_test[::thin])\n",
    "    print(\"{0:.2f} sec, size {1}, accuracy {2}\".format(et, y_train[::thin].size, score))"
   ]
  },
  {
   "cell_type": "code",
   "execution_count": 64,
   "metadata": {
    "collapsed": true
   },
   "outputs": [],
   "source": [
    "clf = SGDClassifier(loss=\"hinge\") # linear SVMに相当する"
   ]
  },
  {
   "cell_type": "code",
   "execution_count": 65,
   "metadata": {
    "collapsed": false
   },
   "outputs": [
    {
     "name": "stdout",
     "output_type": "stream",
     "text": [
      "0.05 sec, size 600, accuracy 0.89\n",
      "0.08 sec, size 1200, accuracy 0.88\n",
      "0.34 sec, size 6000, accuracy 0.854\n",
      "0.67 sec, size 12000, accuracy 0.8795\n",
      "0.96 sec, size 15000, accuracy 0.8764\n",
      "1.27 sec, size 20000, accuracy 0.8764247150569886\n",
      "1.98 sec, size 30000, accuracy 0.8822\n",
      "3.64 sec, size 60000, accuracy 0.8968\n"
     ]
    }
   ],
   "source": [
    "for thin in [100, 50, 10, 5, 4, 3, 2, 1]:\n",
    "    st = time.time()\n",
    "    clf.fit(X_train[::thin], y_train[::thin])\n",
    "    et = time.time() - st\n",
    "    score = clf.score(X_test[::thin], y_test[::thin])\n",
    "    print(\"{0:.2f} sec, size {1}, accuracy {2}\".format(et, y_train[::thin].size, score))"
   ]
  },
  {
   "cell_type": "code",
   "execution_count": 66,
   "metadata": {
    "collapsed": true
   },
   "outputs": [],
   "source": [
    "# 省略"
   ]
  },
  {
   "cell_type": "markdown",
   "metadata": {},
   "source": [
    "# 確率勾配法（SGD）：数式の説明"
   ]
  },
  {
   "cell_type": "code",
   "execution_count": 67,
   "metadata": {
    "collapsed": true
   },
   "outputs": [],
   "source": [
    "# サンプル数が少ないときは普通にやればよい。多くなってきたら確率勾配法"
   ]
  },
  {
   "cell_type": "markdown",
   "metadata": {},
   "source": [
    "# 確率勾配法（SGD）：グリッドサーチ"
   ]
  },
  {
   "cell_type": "code",
   "execution_count": 70,
   "metadata": {
    "collapsed": true
   },
   "outputs": [],
   "source": [
    "# 省略"
   ]
  },
  {
   "cell_type": "markdown",
   "metadata": {},
   "source": [
    "# 確率勾配法（SGD）：スモールデータの認識"
   ]
  },
  {
   "cell_type": "code",
   "execution_count": 71,
   "metadata": {
    "collapsed": true
   },
   "outputs": [],
   "source": [
    "# 確率勾配法をスモールデータに適用するとどうなるか？\n",
    "\n",
    "from sklearn.datasets import load_breast_cancer\n",
    "data = load_breast_cancer()\n",
    "\n",
    "X = data.data\n",
    "y = data.target"
   ]
  },
  {
   "cell_type": "code",
   "execution_count": 72,
   "metadata": {
    "collapsed": true
   },
   "outputs": [],
   "source": [
    "from sklearn.model_selection import train_test_split\n",
    "\n",
    "X_train, X_test, y_train, y_test = train_test_split(X, y, train_size=0.8)"
   ]
  },
  {
   "cell_type": "code",
   "execution_count": 73,
   "metadata": {
    "collapsed": true
   },
   "outputs": [],
   "source": [
    "from sklearn.preprocessing import MinMaxScaler\n",
    "scaler = MinMaxScaler()\n",
    "\n",
    "scaler.fit(X_train)\n",
    "X_train = scaler.transform(X_train)\n",
    "X_test = scaler.transform(X_test)"
   ]
  },
  {
   "cell_type": "code",
   "execution_count": 74,
   "metadata": {
    "collapsed": true
   },
   "outputs": [],
   "source": [
    "clf = SGDClassifier(loss = \"hinge\") # SVM"
   ]
  },
  {
   "cell_type": "code",
   "execution_count": 102,
   "metadata": {
    "collapsed": false
   },
   "outputs": [
    {
     "data": {
      "text/plain": [
       "0.96491228070175439"
      ]
     },
     "execution_count": 102,
     "metadata": {},
     "output_type": "execute_result"
    }
   ],
   "source": [
    "clf.fit(X_train, y_train)\n",
    "clf.score(X_test, y_test)"
   ]
  },
  {
   "cell_type": "code",
   "execution_count": 103,
   "metadata": {
    "collapsed": true
   },
   "outputs": [],
   "source": [
    "scores = []\n",
    "\n",
    "for _ in range(50):\n",
    "    clf.fit(X_train, y_train)\n",
    "    scores.append(clf.score(X_test, y_test))"
   ]
  },
  {
   "cell_type": "code",
   "execution_count": 107,
   "metadata": {
    "collapsed": false
   },
   "outputs": [
    {
     "data": {
      "text/plain": [
       "0.92859649122806975"
      ]
     },
     "execution_count": 107,
     "metadata": {},
     "output_type": "execute_result"
    }
   ],
   "source": [
    "sum(scores) / len(scores)"
   ]
  },
  {
   "cell_type": "code",
   "execution_count": 108,
   "metadata": {
    "collapsed": false
   },
   "outputs": [
    {
     "data": {
      "text/plain": [
       "[<matplotlib.lines.Line2D at 0x11476f710>]"
      ]
     },
     "execution_count": 108,
     "metadata": {},
     "output_type": "execute_result"
    },
    {
     "data": {
      "image/png": "[encoded data removed]",
      "text/plain": [
       "<matplotlib.figure.Figure at 0x1147b7ba8>"
      ]
     },
     "metadata": {},
     "output_type": "display_data"
    }
   ],
   "source": [
    "plt.plot(scores)"
   ]
  }
 ],
 "metadata": {
  "kernelspec": {
   "display_name": "Python [default]",
   "language": "python",
   "name": "python3"
  },
  "language_info": {
   "codemirror_mode": {
    "name": "ipython",
    "version": 3
   },
   "file_extension": ".py",
   "mimetype": "text/x-python",
   "name": "python",
   "nbconvert_exporter": "python",
   "pygments_lexer": "ipython3",
   "version": "3.5.3"
  }
 },
 "nbformat": 4,
 "nbformat_minor": 1
}
