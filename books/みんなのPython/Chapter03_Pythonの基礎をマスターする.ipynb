{
 "cells": [
  {
   "cell_type": "markdown",
   "metadata": {},
   "source": [
    "# 01 ディクショナリを使う"
   ]
  },
  {
   "cell_type": "code",
   "execution_count": 12,
   "metadata": {
    "collapsed": true
   },
   "outputs": [],
   "source": [
    "# ディクショナリの定義r\n",
    "purple = {\n",
    "    'ニックネーム':'れにちゃん',\n",
    "    '出身地':'神奈川県',\n",
    "    'キャッチフレーズ':'感電少女'\n",
    "}"
   ]
  },
  {
   "cell_type": "code",
   "execution_count": 13,
   "metadata": {
    "collapsed": false
   },
   "outputs": [
    {
     "data": {
      "text/plain": [
       "{'キャッチフレーズ': '感電少女', 'ニックネーム': 'れにちゃん', '出身地': '神奈川県'}"
      ]
     },
     "execution_count": 13,
     "metadata": {},
     "output_type": "execute_result"
    }
   ],
   "source": [
    "purple"
   ]
  },
  {
   "cell_type": "code",
   "execution_count": 14,
   "metadata": {
    "collapsed": false
   },
   "outputs": [
    {
     "data": {
      "text/plain": [
       "'感電少女'"
      ]
     },
     "execution_count": 14,
     "metadata": {},
     "output_type": "execute_result"
    }
   ],
   "source": [
    "purple['キャッチフレーズ']"
   ]
  },
  {
   "cell_type": "code",
   "execution_count": 15,
   "metadata": {
    "collapsed": false
   },
   "outputs": [
    {
     "data": {
      "text/plain": [
       "{'キャッチフレーズ': '鋼少女', 'ニックネーム': 'れにちゃん', '出身地': '神奈川県'}"
      ]
     },
     "execution_count": 15,
     "metadata": {},
     "output_type": "execute_result"
    }
   ],
   "source": [
    "purple['キャッチフレーズ'] = '鋼少女'\n",
    "purple"
   ]
  },
  {
   "cell_type": "code",
   "execution_count": 16,
   "metadata": {
    "collapsed": false
   },
   "outputs": [
    {
     "data": {
      "text/plain": [
       "{'キャッチフレーズ': '鋼少女', 'ニックネーム': 'れにちゃん', '出身地': '神奈川県', '生年月日': '1993年6月21日'}"
      ]
     },
     "execution_count": 16,
     "metadata": {},
     "output_type": "execute_result"
    }
   ],
   "source": [
    "# 要素の追加\n",
    "purple['生年月日'] = '1993年6月21日'\n",
    "purple"
   ]
  },
  {
   "cell_type": "code",
   "execution_count": 17,
   "metadata": {
    "collapsed": false
   },
   "outputs": [
    {
     "data": {
      "text/plain": [
       "{'キャッチフレーズ': '鋼少女', '出身地': '神奈川県', '生年月日': '1993年6月21日'}"
      ]
     },
     "execution_count": 17,
     "metadata": {},
     "output_type": "execute_result"
    }
   ],
   "source": [
    "del purple['ニックネーム']\n",
    "purple"
   ]
  },
  {
   "cell_type": "code",
   "execution_count": 19,
   "metadata": {
    "collapsed": true
   },
   "outputs": [],
   "source": [
    "# キーの存在確認\n",
    "def convert_number(num):\n",
    "    roman_nums = {\n",
    "        1:'I', 2:'II', 3:'III', 4:'IV', 5:'V',\n",
    "        6:'VI', 7:'VII', 8:'VIII', 9:'IX'\n",
    "    }\n",
    "    if num in roman_nums:\n",
    "        return roman_nums[num]\n",
    "    else:\n",
    "        return '[変換できません]'"
   ]
  },
  {
   "cell_type": "code",
   "execution_count": 20,
   "metadata": {
    "collapsed": false
   },
   "outputs": [
    {
     "data": {
      "text/plain": [
       "'[変換できません]'"
      ]
     },
     "execution_count": 20,
     "metadata": {},
     "output_type": "execute_result"
    }
   ],
   "source": [
    "convert_number(10)"
   ]
  },
  {
   "cell_type": "code",
   "execution_count": 21,
   "metadata": {
    "collapsed": false
   },
   "outputs": [
    {
     "data": {
      "text/plain": [
       "'III'"
      ]
     },
     "execution_count": 21,
     "metadata": {},
     "output_type": "execute_result"
    }
   ],
   "source": [
    "convert_number(3)"
   ]
  },
  {
   "cell_type": "code",
   "execution_count": 22,
   "metadata": {
    "collapsed": false
   },
   "outputs": [
    {
     "data": {
      "text/plain": [
       "{'キャッチフレーズ': '鋼少女', '出身地': '神奈川県', '生年月日': '1993年6月21日'}"
      ]
     },
     "execution_count": 22,
     "metadata": {},
     "output_type": "execute_result"
    }
   ],
   "source": [
    "# キーを使ったループ\n",
    "purple"
   ]
  },
  {
   "cell_type": "code",
   "execution_count": 23,
   "metadata": {
    "collapsed": false
   },
   "outputs": [
    {
     "name": "stdout",
     "output_type": "stream",
     "text": [
      "出身地 神奈川県\n",
      "キャッチフレーズ 鋼少女\n",
      "生年月日 1993年6月21日\n"
     ]
    }
   ],
   "source": [
    "for key in purple:\n",
    "    print(key, purple[key])"
   ]
  },
  {
   "cell_type": "markdown",
   "metadata": {},
   "source": [
    "# 02 set（集合）を使う"
   ]
  },
  {
   "cell_type": "markdown",
   "metadata": {},
   "source": [
    "set はリストのように複数の要素を保存できるが、リストと違い、 **中の要素が重複しない**。これによって集合が扱えるようになる"
   ]
  },
  {
   "cell_type": "code",
   "execution_count": 25,
   "metadata": {
    "collapsed": false
   },
   "outputs": [
    {
     "data": {
      "text/plain": [
       "['hoge', 'fuga', 'hoge']"
      ]
     },
     "execution_count": 25,
     "metadata": {},
     "output_type": "execute_result"
    }
   ],
   "source": [
    "tmp_list = ['hoge', 'fuga', 'hoge']\n",
    "tmp_list"
   ]
  },
  {
   "cell_type": "code",
   "execution_count": 26,
   "metadata": {
    "collapsed": false
   },
   "outputs": [
    {
     "data": {
      "text/plain": [
       "{'fuga', 'hoge'}"
      ]
     },
     "execution_count": 26,
     "metadata": {},
     "output_type": "execute_result"
    }
   ],
   "source": [
    "tmp_set = {'hoge', 'fuga', 'hoge'}\n",
    "tmp_set"
   ]
  },
  {
   "cell_type": "code",
   "execution_count": 27,
   "metadata": {
    "collapsed": false
   },
   "outputs": [
    {
     "data": {
      "text/plain": [
       "{1, 2, 3, 5, 7, 8, 13, 17}"
      ]
     },
     "execution_count": 27,
     "metadata": {},
     "output_type": "execute_result"
    }
   ],
   "source": [
    "# setの和集合\n",
    "prime = {2, 3, 5, 7, 13, 17}\n",
    "fib = {1, 1, 2, 3, 5, 8, 13}\n",
    "\n",
    "prime_fib = prime | fib #和集合\n",
    "prime_fib"
   ]
  },
  {
   "cell_type": "code",
   "execution_count": 28,
   "metadata": {
    "collapsed": false
   },
   "outputs": [
    {
     "data": {
      "text/plain": [
       "{1, 3, 5}"
      ]
     },
     "execution_count": 28,
     "metadata": {},
     "output_type": "execute_result"
    }
   ],
   "source": [
    "# setの差集合\n",
    "dice = {1, 2, 3, 4, 5, 6}\n",
    "even = {2, 4, 6, 8, 10}\n",
    "\n",
    "odd_dice = dice - even\n",
    "odd_dice"
   ]
  },
  {
   "cell_type": "code",
   "execution_count": 29,
   "metadata": {
    "collapsed": false
   },
   "outputs": [
    {
     "data": {
      "text/plain": [
       "{2, 4, 6}"
      ]
     },
     "execution_count": 29,
     "metadata": {},
     "output_type": "execute_result"
    }
   ],
   "source": [
    "# setの交わりを得る\n",
    "even_dice = dice & even\n",
    "even_dice"
   ]
  },
  {
   "cell_type": "code",
   "execution_count": 30,
   "metadata": {
    "collapsed": false
   },
   "outputs": [
    {
     "data": {
      "text/plain": [
       "{1, 3, 5, 8, 10}"
      ]
     },
     "execution_count": 30,
     "metadata": {},
     "output_type": "execute_result"
    }
   ],
   "source": [
    "# setの対象差を得る\n",
    "even_dice2 = dice ^ even\n",
    "even_dice2"
   ]
  },
  {
   "cell_type": "code",
   "execution_count": 31,
   "metadata": {
    "collapsed": false
   },
   "outputs": [
    {
     "data": {
      "text/plain": [
       "{'ATG', 'GGC', 'TCC'}"
      ]
     },
     "execution_count": 31,
     "metadata": {},
     "output_type": "execute_result"
    }
   ],
   "source": [
    "# setとリスト\n",
    "# setもリストと似たような性質を持っている\n",
    "\n",
    "codon = ['ATG', 'GGC', 'TCC']\n",
    "s_codon = set(codon)\n",
    "s_codon"
   ]
  },
  {
   "cell_type": "code",
   "execution_count": 32,
   "metadata": {
    "collapsed": false
   },
   "outputs": [
    {
     "name": "stdout",
     "output_type": "stream",
     "text": [
      "あるよ\n"
     ]
    }
   ],
   "source": [
    "# setと比較\n",
    "if 2 in dice:\n",
    "    print('あるよ')\n",
    "else:\n",
    "    print('ないよ')"
   ]
  },
  {
   "cell_type": "markdown",
   "metadata": {},
   "source": [
    "# 03 タプルを使う"
   ]
  },
  {
   "cell_type": "markdown",
   "metadata": {},
   "source": [
    "タプルはリストによく似た性質を持っているが、**要素の変更ができない**"
   ]
  },
  {
   "cell_type": "code",
   "execution_count": 33,
   "metadata": {
    "collapsed": true
   },
   "outputs": [],
   "source": [
    "test_tapple = (1, 2, 3)\n",
    "test_list = [1, 2, 3]\n",
    "test_set = {1, 2, 3}"
   ]
  },
  {
   "cell_type": "code",
   "execution_count": 34,
   "metadata": {
    "collapsed": false
   },
   "outputs": [
    {
     "data": {
      "text/plain": [
       "2"
      ]
     },
     "execution_count": 34,
     "metadata": {},
     "output_type": "execute_result"
    }
   ],
   "source": [
    "test_tapple[1]"
   ]
  },
  {
   "cell_type": "code",
   "execution_count": 35,
   "metadata": {
    "collapsed": false
   },
   "outputs": [
    {
     "ename": "TypeError",
     "evalue": "'tuple' object does not support item assignment",
     "output_type": "error",
     "traceback": [
      "\u001b[0;31m---------------------------------------------------------------------------\u001b[0m",
      "\u001b[0;31mTypeError\u001b[0m                                 Traceback (most recent call last)",
      "\u001b[0;32m<ipython-input-35-f653f51f2a1a>\u001b[0m in \u001b[0;36m<module>\u001b[0;34m()\u001b[0m\n\u001b[0;32m----> 1\u001b[0;31m \u001b[0mtest_tapple\u001b[0m\u001b[0;34m[\u001b[0m\u001b[0;36m1\u001b[0m\u001b[0;34m]\u001b[0m \u001b[0;34m=\u001b[0m \u001b[0;36m3\u001b[0m\u001b[0;34m\u001b[0m\u001b[0m\n\u001b[0m",
      "\u001b[0;31mTypeError\u001b[0m: 'tuple' object does not support item assignment"
     ]
    }
   ],
   "source": [
    "test_tapple[1] = 3"
   ]
  },
  {
   "cell_type": "markdown",
   "metadata": {},
   "source": [
    "タプルの利点\n",
    "タプルを一度作ったら、変更も削除もできない→**ディクショナリのkeyやsetの要素にすることができる**"
   ]
  },
  {
   "cell_type": "code",
   "execution_count": 41,
   "metadata": {
    "collapsed": false
   },
   "outputs": [],
   "source": [
    "pref_capitals = {\n",
    "    (43.06417, 141.34694):'北海道',\n",
    "    (40.82444, 140.74):'青森県'\n",
    "}"
   ]
  },
  {
   "cell_type": "code",
   "execution_count": 43,
   "metadata": {
    "collapsed": false
   },
   "outputs": [
    {
     "name": "stdout",
     "output_type": "stream",
     "text": [
      "北海道\n"
     ]
    }
   ],
   "source": [
    "# 指定した緯度経度に合致する場所を調べる\n",
    "loc = (43.06417, 141.34694)\n",
    "for key in pref_capitals:\n",
    "    if loc == key:\n",
    "        print(pref_capitals[key])\n",
    "        break"
   ]
  },
  {
   "cell_type": "code",
   "execution_count": 60,
   "metadata": {
    "collapsed": true
   },
   "outputs": [],
   "source": [
    "# 指定した緯度経度から最も近い場所を調べる\n",
    "loc = (42.213, 145.34694)\n",
    "\n",
    "def distance(x, y):\n",
    "    return ( (x[0] - y[0])**2 +  (x[1] - y[1])**2 ) ** (1/2)\n",
    "\n",
    "dist  = []\n",
    "for key in pref_capitals:\n",
    "    kyori = distance(key, loc)\n",
    "    dist.append(kyori)"
   ]
  },
  {
   "cell_type": "code",
   "execution_count": 69,
   "metadata": {
    "collapsed": false
   },
   "outputs": [
    {
     "data": {
      "text/plain": [
       "'北海道'"
      ]
     },
     "execution_count": 69,
     "metadata": {},
     "output_type": "execute_result"
    }
   ],
   "source": [
    "default_dist = 10000\n",
    "for key in pref_capitals:\n",
    "    dist = distance(loc, key)\n",
    "    if dist < default_dist:\n",
    "        default_dist = dist\n",
    "        nearest_city = pref_capitals[key]\n",
    "        \n",
    "nearest_city"
   ]
  },
  {
   "cell_type": "markdown",
   "metadata": {},
   "source": [
    "# 04 if文の応用"
   ]
  },
  {
   "cell_type": "code",
   "execution_count": 1,
   "metadata": {
    "collapsed": false
   },
   "outputs": [
    {
     "data": {
      "text/plain": [
       "True"
      ]
     },
     "execution_count": 1,
     "metadata": {},
     "output_type": "execute_result"
    }
   ],
   "source": [
    "1 + 1 == 2"
   ]
  },
  {
   "cell_type": "code",
   "execution_count": 2,
   "metadata": {
    "collapsed": false
   },
   "outputs": [
    {
     "data": {
      "text/plain": [
       "True"
      ]
     },
     "execution_count": 2,
     "metadata": {},
     "output_type": "execute_result"
    }
   ],
   "source": [
    "5 > 2"
   ]
  },
  {
   "cell_type": "code",
   "execution_count": 3,
   "metadata": {
    "collapsed": false
   },
   "outputs": [
    {
     "data": {
      "text/plain": [
       "False"
      ]
     },
     "execution_count": 3,
     "metadata": {},
     "output_type": "execute_result"
    }
   ],
   "source": [
    "4 > 4"
   ]
  },
  {
   "cell_type": "code",
   "execution_count": 4,
   "metadata": {
    "collapsed": false
   },
   "outputs": [
    {
     "data": {
      "text/plain": [
       "True"
      ]
     },
     "execution_count": 4,
     "metadata": {},
     "output_type": "execute_result"
    }
   ],
   "source": [
    "True and True"
   ]
  },
  {
   "cell_type": "code",
   "execution_count": 5,
   "metadata": {
    "collapsed": false
   },
   "outputs": [
    {
     "data": {
      "text/plain": [
       "False"
      ]
     },
     "execution_count": 5,
     "metadata": {},
     "output_type": "execute_result"
    }
   ],
   "source": [
    "True and False"
   ]
  },
  {
   "cell_type": "code",
   "execution_count": 6,
   "metadata": {
    "collapsed": false
   },
   "outputs": [
    {
     "name": "stdout",
     "output_type": "stream",
     "text": [
      "月とお友達です\n"
     ]
    }
   ],
   "source": [
    "v = 30000\n",
    "if v < 28400:\n",
    "    print('地上に落下します')\n",
    "elif v >= 28400 and v < 40300:\n",
    "    print('月とお友達です')\n",
    "elif v >= 40300 and v < 60100:\n",
    "    print('惑星の仲間入りです')\n",
    "elif v >= 60100:\n",
    "    print('アルファ・ケンタウリを目指せ')"
   ]
  },
  {
   "cell_type": "markdown",
   "metadata": {},
   "source": [
    "# 05 ループの応用"
   ]
  },
  {
   "cell_type": "code",
   "execution_count": 7,
   "metadata": {
    "collapsed": false
   },
   "outputs": [
    {
     "name": "stdout",
     "output_type": "stream",
     "text": [
      "1\n",
      "2\n",
      "Fizz\n",
      "4\n",
      "Buzz\n",
      "Fizz\n",
      "7\n",
      "8\n",
      "Fizz\n",
      "Buzz\n",
      "11\n",
      "Fizz\n",
      "13\n",
      "14\n",
      "FizzBuzz\n",
      "16\n",
      "17\n",
      "Fizz\n",
      "19\n",
      "Buzz\n",
      "Fizz\n",
      "22\n",
      "23\n",
      "Fizz\n",
      "Buzz\n",
      "26\n",
      "Fizz\n",
      "28\n",
      "29\n",
      "FizzBuzz\n",
      "31\n",
      "32\n",
      "Fizz\n",
      "34\n",
      "Buzz\n",
      "Fizz\n",
      "37\n",
      "38\n",
      "Fizz\n",
      "Buzz\n",
      "41\n",
      "Fizz\n",
      "43\n",
      "44\n",
      "FizzBuzz\n",
      "46\n",
      "47\n",
      "Fizz\n",
      "49\n",
      "Buzz\n",
      "Fizz\n",
      "52\n",
      "53\n",
      "Fizz\n",
      "Buzz\n",
      "56\n",
      "Fizz\n",
      "58\n",
      "59\n",
      "FizzBuzz\n",
      "61\n",
      "62\n",
      "Fizz\n",
      "64\n",
      "Buzz\n",
      "Fizz\n",
      "67\n",
      "68\n",
      "Fizz\n",
      "Buzz\n",
      "71\n",
      "Fizz\n",
      "73\n",
      "74\n",
      "FizzBuzz\n",
      "76\n",
      "77\n",
      "Fizz\n",
      "79\n",
      "Buzz\n",
      "Fizz\n",
      "82\n",
      "83\n",
      "Fizz\n",
      "Buzz\n",
      "86\n",
      "Fizz\n",
      "88\n",
      "89\n",
      "FizzBuzz\n",
      "91\n",
      "92\n",
      "Fizz\n",
      "94\n",
      "Buzz\n",
      "Fizz\n",
      "97\n",
      "98\n",
      "Fizz\n",
      "Buzz\n"
     ]
    }
   ],
   "source": [
    "cnt = 1\n",
    "while cnt <= 100:\n",
    "    if cnt%3 == 0 and cnt%5 == 0:\n",
    "        print('FizzBuzz')\n",
    "    elif cnt%3 == 0:\n",
    "        print('Fizz')\n",
    "    elif cnt%5 == 0:\n",
    "        print('Buzz')\n",
    "    else:\n",
    "        print(cnt)\n",
    "    cnt += 1        "
   ]
  },
  {
   "cell_type": "code",
   "execution_count": 10,
   "metadata": {
    "collapsed": false
   },
   "outputs": [
    {
     "name": "stdout",
     "output_type": "stream",
     "text": [
      "0:グー 1:チョキ 2:パー 3:やめる2\n",
      "あなた：パーコンピュータ：パー\n",
      "あいこ\n",
      "0:グー 1:チョキ 2:パー 3:やめる4\n",
      "0:グー 1:チョキ 2:パー 3:やめる3\n"
     ]
    }
   ],
   "source": [
    "# breakとcontinue\n",
    "\n",
    "from random import randint\n",
    "hands = {0:'グー', 1:'チョキ', 2:'パー'} # ディクショナリ\n",
    "rules = {(0,0):'あいこ', (0,1):'勝ち', (0,2):'負け',\n",
    "            (1,0):'負け', (1,1):'あいこ', (1,2):'勝ち',\n",
    "            (2,0):'勝ち', (2,1):'負け', (2,2):'あいこ'}\n",
    "\n",
    "while True:\n",
    "    pc_hand = randint(0, 2)\n",
    "    user_hand_str = input('0:グー 1:チョキ 2:パー 3:やめる')\n",
    "    if user_hand_str == '3':\n",
    "        break\n",
    "    elif user_hand_str not in ('0','1','2'):\n",
    "        continue # 不正な入力の場合ループの先頭に戻る\n",
    "    user_hand = int(user_hand_str)\n",
    "    print('あなた：' + hands[user_hand] + 'コンピュータ：' + hands[pc_hand])\n",
    "    print(rules[(user_hand, pc_hand)])"
   ]
  },
  {
   "cell_type": "code",
   "execution_count": 12,
   "metadata": {
    "collapsed": false
   },
   "outputs": [
    {
     "name": "stdout",
     "output_type": "stream",
     "text": [
      "34 は素数ではありません\n"
     ]
    }
   ],
   "source": [
    "# for文とelse\n",
    "a_num = 34\n",
    "for num in range(2, a_num):\n",
    "    if a_num % num == 0:\n",
    "        print(a_num, 'は素数ではありません')\n",
    "        break\n",
    "else:\n",
    "    print(a_num, 'は素数です')"
   ]
  },
  {
   "cell_type": "markdown",
   "metadata": {},
   "source": [
    "# 06 関数の応用"
   ]
  },
  {
   "cell_type": "code",
   "execution_count": 13,
   "metadata": {
    "collapsed": true
   },
   "outputs": [],
   "source": [
    "# デフォルト引数\n",
    "def fizzbuzz(count=100, fizzmod=3, buzzmod=5):\n",
    "    for cnt in range(1, count+1):\n",
    "        if cnt%fizzmod == 0 and cnt%buzzmod == 0:\n",
    "            print('FizzBuzz')\n",
    "        elif cnt%fizzmod == 0:\n",
    "            print('Fizz')\n",
    "        elif cnt%buzzmod == 0:\n",
    "            print('Buzz')\n",
    "        else:\n",
    "            print(cnt)"
   ]
  },
  {
   "cell_type": "code",
   "execution_count": 14,
   "metadata": {
    "collapsed": false
   },
   "outputs": [
    {
     "name": "stdout",
     "output_type": "stream",
     "text": [
      "1\n",
      "2\n",
      "Fizz\n",
      "4\n",
      "Buzz\n",
      "Fizz\n",
      "7\n",
      "8\n",
      "Fizz\n",
      "Buzz\n",
      "11\n",
      "Fizz\n",
      "13\n",
      "14\n",
      "FizzBuzz\n",
      "16\n",
      "17\n",
      "Fizz\n",
      "19\n",
      "Buzz\n",
      "Fizz\n",
      "22\n",
      "23\n",
      "Fizz\n",
      "Buzz\n",
      "26\n",
      "Fizz\n",
      "28\n",
      "29\n",
      "FizzBuzz\n",
      "31\n",
      "32\n",
      "Fizz\n",
      "34\n",
      "Buzz\n",
      "Fizz\n",
      "37\n",
      "38\n",
      "Fizz\n",
      "Buzz\n",
      "41\n",
      "Fizz\n",
      "43\n",
      "44\n",
      "FizzBuzz\n",
      "46\n",
      "47\n",
      "Fizz\n",
      "49\n",
      "Buzz\n",
      "Fizz\n",
      "52\n",
      "53\n",
      "Fizz\n",
      "Buzz\n",
      "56\n",
      "Fizz\n",
      "58\n",
      "59\n",
      "FizzBuzz\n",
      "61\n",
      "62\n",
      "Fizz\n",
      "64\n",
      "Buzz\n",
      "Fizz\n",
      "67\n",
      "68\n",
      "Fizz\n",
      "Buzz\n",
      "71\n",
      "Fizz\n",
      "73\n",
      "74\n",
      "FizzBuzz\n",
      "76\n",
      "77\n",
      "Fizz\n",
      "79\n",
      "Buzz\n",
      "Fizz\n",
      "82\n",
      "83\n",
      "Fizz\n",
      "Buzz\n",
      "86\n",
      "Fizz\n",
      "88\n",
      "89\n",
      "FizzBuzz\n",
      "91\n",
      "92\n",
      "Fizz\n",
      "94\n",
      "Buzz\n",
      "Fizz\n",
      "97\n",
      "98\n",
      "Fizz\n",
      "Buzz\n"
     ]
    }
   ],
   "source": [
    "fizzbuzz()"
   ]
  },
  {
   "cell_type": "code",
   "execution_count": 16,
   "metadata": {
    "collapsed": false
   },
   "outputs": [
    {
     "name": "stdout",
     "output_type": "stream",
     "text": [
      "1\n",
      "Fizz\n",
      "Buzz\n",
      "Fizz\n",
      "5\n",
      "FizzBuzz\n",
      "7\n",
      "Fizz\n",
      "Buzz\n",
      "Fizz\n"
     ]
    }
   ],
   "source": [
    "fizzbuzz(10,2,3)"
   ]
  },
  {
   "cell_type": "code",
   "execution_count": 17,
   "metadata": {
    "collapsed": false
   },
   "outputs": [
    {
     "name": "stdout",
     "output_type": "stream",
     "text": [
      "test_func()の中 =  100\n",
      "test_func()の中 =  1\n"
     ]
    }
   ],
   "source": [
    "# 関数の外側で定義した変数を関数内で使う\n",
    "local_var = 1\n",
    "\n",
    "def test_func(an_arg):\n",
    "    local_var = an_arg\n",
    "    print('test_func()の中 = ', local_var)\n",
    "    \n",
    "test_func(100)\n",
    "print('test_func()の中 = ', local_var)"
   ]
  },
  {
   "cell_type": "markdown",
   "metadata": {},
   "source": [
    "関数の中と外で同名の変数を定義すると、別の変数として扱われる"
   ]
  }
 ],
 "metadata": {
  "anaconda-cloud": {},
  "kernelspec": {
   "display_name": "Python [Root]",
   "language": "python",
   "name": "Python [Root]"
  },
  "language_info": {
   "codemirror_mode": {
    "name": "ipython",
    "version": 3
   },
   "file_extension": ".py",
   "mimetype": "text/x-python",
   "name": "python",
   "nbconvert_exporter": "python",
   "pygments_lexer": "ipython3",
   "version": "3.5.2"
  }
 },
 "nbformat": 4,
 "nbformat_minor": 0
}
