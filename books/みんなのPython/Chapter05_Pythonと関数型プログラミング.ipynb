{
 "cells": [
  {
   "cell_type": "markdown",
   "metadata": {},
   "source": [
    "# 01 関数型プログラミングとは何か"
   ]
  },
  {
   "cell_type": "code",
   "execution_count": 8,
   "metadata": {
    "collapsed": false
   },
   "outputs": [
    {
     "data": {
      "text/plain": [
       "True"
      ]
     },
     "execution_count": 8,
     "metadata": {},
     "output_type": "execute_result"
    }
   ],
   "source": [
    "# リストのメソッドを使った処理(回文判定プログラム)\n",
    "orig_str = \"よのなかねかおかおかねかなのよ\"\n",
    "str_list = list(orig_str)\n",
    "str_list.reverse()\n",
    "\"\".join(str_list) == orig_str"
   ]
  },
  {
   "cell_type": "code",
   "execution_count": 9,
   "metadata": {
    "collapsed": false
   },
   "outputs": [
    {
     "data": {
      "text/plain": [
       "['よ', 'の', 'な', 'か', 'ね', 'か', 'お', 'か', 'お', 'か', 'ね', 'か', 'な', 'の', 'よ']"
      ]
     },
     "execution_count": 9,
     "metadata": {},
     "output_type": "execute_result"
    }
   ],
   "source": [
    "## リスト化するとこうなる\n",
    "str_list"
   ]
  },
  {
   "cell_type": "code",
   "execution_count": 11,
   "metadata": {
    "collapsed": false
   },
   "outputs": [
    {
     "data": {
      "text/plain": [
       "True"
      ]
     },
     "execution_count": 11,
     "metadata": {},
     "output_type": "execute_result"
    }
   ],
   "source": [
    "# 関数を使って同じ処理をする\n",
    "\"\".join(reversed(orig_str)) == orig_str"
   ]
  },
  {
   "cell_type": "markdown",
   "metadata": {},
   "source": [
    "# 02 内包表記（コンプリヘンション）"
   ]
  },
  {
   "cell_type": "markdown",
   "metadata": {},
   "source": [
    "内容表記：本来for文などを使って行う処理のうち、比較的シンプルな処理をスマートに記述できる文法"
   ]
  },
  {
   "cell_type": "code",
   "execution_count": 17,
   "metadata": {
    "collapsed": false
   },
   "outputs": [
    {
     "data": {
      "text/plain": [
       "35.2"
      ]
     },
     "execution_count": 17,
     "metadata": {},
     "output_type": "execute_result"
    }
   ],
   "source": [
    "# 分散を求めるコード\n",
    "monk_fish_team = [158, 157, 163, 157, 145]\n",
    "\n",
    "total = sum(monk_fish_team)\n",
    "length = len(monk_fish_team)\n",
    "mean = total / length\n",
    "\n",
    "\n",
    "## forを使った書き方\n",
    "variance = 0\n",
    "\n",
    "for height in monk_fish_team:\n",
    "    variance += (height-mean) ** 2\n",
    "\n",
    "variance = variance / length\n",
    "variance\n",
    "\n",
    "\n",
    "## リスト内包表記を使った書き方\n",
    "variance = sum([(height-mean)**2 for height in monk_fish_team]) / length\n",
    "variance"
   ]
  },
  {
   "cell_type": "code",
   "execution_count": null,
   "metadata": {
    "collapsed": true
   },
   "outputs": [],
   "source": [
    "# リスト内包表記の詳細\n",
    "# [ 式 for 繰り返し変数 in シーケンス]\n",
    "# シーケンスの要素を一つづつ繰り返し変数に代入していく"
   ]
  },
  {
   "cell_type": "code",
   "execution_count": 18,
   "metadata": {
    "collapsed": false
   },
   "outputs": [
    {
     "data": {
      "text/plain": [
       "[158, 157, 163, 157, 145]"
      ]
     },
     "execution_count": 18,
     "metadata": {},
     "output_type": "execute_result"
    }
   ],
   "source": [
    "[hoge for hoge in monk_fish_team]"
   ]
  },
  {
   "cell_type": "code",
   "execution_count": 19,
   "metadata": {
    "collapsed": false
   },
   "outputs": [
    {
     "data": {
      "text/plain": [
       "[24964, 24649, 26569, 24649, 21025]"
      ]
     },
     "execution_count": 19,
     "metadata": {},
     "output_type": "execute_result"
    }
   ],
   "source": [
    "[hoge ** 2 for hoge in monk_fish_team]"
   ]
  },
  {
   "cell_type": "code",
   "execution_count": 21,
   "metadata": {
    "collapsed": false
   },
   "outputs": [
    {
     "data": {
      "text/plain": [
       "[38, 42, 20, 40, 39]"
      ]
     },
     "execution_count": 21,
     "metadata": {},
     "output_type": "execute_result"
    }
   ],
   "source": [
    "str_speeds = \"38 42 20 40 39\"\n",
    "speeds = [int(s) for s in str_speeds.split()]\n",
    "speeds"
   ]
  },
  {
   "cell_type": "code",
   "execution_count": 32,
   "metadata": {
    "collapsed": false
   },
   "outputs": [
    {
     "data": {
      "text/plain": [
       "[38, 42, 20, 40, 39]"
      ]
     },
     "execution_count": 32,
     "metadata": {},
     "output_type": "execute_result"
    }
   ],
   "source": [
    "# リスト内包表記で利用する「if」\n",
    "# [ 式 for  繰り返し変数 in シーケンス if 条件式 ]\n",
    "\n",
    "str_speeds = \"38 42 20 40 a1 39\"\n",
    "speeds = [int(s) for s in str_speeds.split() if s.isdigit()]\n",
    "speeds"
   ]
  },
  {
   "cell_type": "code",
   "execution_count": 38,
   "metadata": {
    "collapsed": false
   },
   "outputs": [
    {
     "data": {
      "text/plain": [
       "{'*000': 'GMT', '+100': 'BST', '+200': 'EET', '+900': 'JST'}"
      ]
     },
     "execution_count": 38,
     "metadata": {},
     "output_type": "execute_result"
    }
   ],
   "source": [
    "# ディクショナリ内包表記\n",
    "tz = {\n",
    "    \"GMT\":\"*000\", \"BST\":\"+100\",\n",
    "    \"EET\":\"+200\", \"JST\":\"+900\"\n",
    "}\n",
    "\n",
    "revtz = {off:zone for zone, off in tz.items()}\n",
    "revtz"
   ]
  },
  {
   "cell_type": "code",
   "execution_count": 39,
   "metadata": {
    "collapsed": false
   },
   "outputs": [
    {
     "data": {
      "text/plain": [
       "dict_items([('GMT', '*000'), ('JST', '+900'), ('EET', '+200'), ('BST', '+100')])"
      ]
     },
     "execution_count": 39,
     "metadata": {},
     "output_type": "execute_result"
    }
   ],
   "source": [
    "tz.items()"
   ]
  },
  {
   "cell_type": "code",
   "execution_count": 42,
   "metadata": {
    "collapsed": false
   },
   "outputs": [
    {
     "name": "stdout",
     "output_type": "stream",
     "text": [
      "GMT\n",
      "*000\n",
      "JST\n",
      "+900\n",
      "EET\n",
      "+200\n",
      "BST\n",
      "+100\n"
     ]
    }
   ],
   "source": [
    "for zone, off in tz.items():\n",
    "    print(zone)\n",
    "    print(off)"
   ]
  },
  {
   "cell_type": "markdown",
   "metadata": {},
   "source": [
    "# 03 イテレータを使う\n",
    "省略"
   ]
  },
  {
   "cell_type": "markdown",
   "metadata": {},
   "source": [
    "# 04 ジェネレータを使う\n",
    "省略"
   ]
  },
  {
   "cell_type": "markdown",
   "metadata": {},
   "source": [
    "# 05 高階関数とデコレータ\n",
    "省略"
   ]
  }
 ],
 "metadata": {
  "kernelspec": {
   "display_name": "Python [Root]",
   "language": "python",
   "name": "Python [Root]"
  },
  "language_info": {
   "codemirror_mode": {
    "name": "ipython",
    "version": 3
   },
   "file_extension": ".py",
   "mimetype": "text/x-python",
   "name": "python",
   "nbconvert_exporter": "python",
   "pygments_lexer": "ipython3",
   "version": "3.5.2"
  }
 },
 "nbformat": 4,
 "nbformat_minor": 0
}
